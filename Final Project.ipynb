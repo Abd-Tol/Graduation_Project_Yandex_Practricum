{
 "cells": [
  {
   "cell_type": "markdown",
   "metadata": {},
   "source": [
    "**Archive Link:**   <https://drive.google.com/file/d/1umHdeGY3KKu2zjh8VxmJGtirPNgOmpVw/view?usp=sharing> "
   ]
  },
  {
   "cell_type": "markdown",
   "metadata": {},
   "source": [
    "## Project Description:\n",
    "\n",
    "The virtual telephony service CallMeMaybe is developing a new function that will give supervisors information on the least effective operators. An operator is considered ineffective if they have a large number of missed incoming calls (internal and external) and a long waiting time for incoming calls. Moreover, if an operator is supposed to make outgoing calls, a small number of them is also a sign of ineffectiveness.\n",
    "\n",
    "### Project Decomposition:\n",
    "\n",
    "[**1. Data Pre_processing:**](#Data-Pre_processing:)  \n",
    "\n",
    "    - Checking Data Types\n",
    "    - Missing Values\n",
    "    - Duplicates\n",
    "    \n",
    "[**2. Carry out exploratory data analysis:**](#Carry-out-exploratory-data-analysis:)\n",
    "\n",
    "    - Check the data for strange values\n",
    "    - Calculate and make new column `waiting_time`\n",
    "    - Check the dates \n",
    "    - plot histograms for `call_duration`, `total_call_duration` , `calls_count` and `waiting_time`\n",
    "    - Check for outliers\n",
    "    \n",
    "[**3. Identify ineffective operators:**](#Identify-ineffective-operators:)\n",
    "\n",
    "    - find average daily waiting time per operator (for incoming calls)\n",
    "    - find average daily missed calls per operator (for incoming calls)\n",
    "    - find average daily number of calls per operator (in + out)\n",
    "    - find average percentage of daily outgoing calls per operator \n",
    "    - Scatter between missed calls and waiting time per operator\n",
    "    - compare internal and external number of calls per operator\n",
    "    - Compare the previous metrrics (steps) and identify the ineffective operators based on their results\n",
    "    \n",
    "    \n",
    "[**4. Test statistical hypotheses**](#Test-statistical-hypotheses:) \n",
    "\n",
    "    - share of external / internal calls is the same for effective and ineffective operators   \n",
    "    - share of outgoing / incoming calls are the same for effective and ineffective operators \n",
    "    \n",
    "[**5. Final Conclusions**](#Final-Conclusions:)\n",
    "\n",
    "\n",
    "### Description of the data\n",
    "- `user_id` — client account ID\n",
    "- `date` — date the statistics were retrieved\n",
    "- `direction` — call direction (`out` for outgoing, `in` for incoming)\n",
    "- `internal` — whether the call was internal (between a client's operators)\n",
    "- `operator_id` — operator identifier\n",
    "- `is_missed_call` — whether the call was missed\n",
    "- `calls_count` — number of calls\n",
    "- `call_duration` — call duration (excluding waiting time)\n",
    "- `total_call_duration` — call duration (including waiting time)"
   ]
  },
  {
   "cell_type": "code",
   "execution_count": 2,
   "metadata": {},
   "outputs": [],
   "source": [
    "import numpy as np\n",
    "import pandas as pd\n",
    "import seaborn as sns\n",
    "import matplotlib.pyplot as plt\n",
    "from scipy import stats as st\n",
    "from scipy.stats import levene"
   ]
  },
  {
   "cell_type": "markdown",
   "metadata": {},
   "source": [
    "## Data Pre_processing:"
   ]
  },
  {
   "cell_type": "code",
   "execution_count": 3,
   "metadata": {},
   "outputs": [
    {
     "data": {
      "text/html": [
       "<div>\n",
       "<style scoped>\n",
       "    .dataframe tbody tr th:only-of-type {\n",
       "        vertical-align: middle;\n",
       "    }\n",
       "\n",
       "    .dataframe tbody tr th {\n",
       "        vertical-align: top;\n",
       "    }\n",
       "\n",
       "    .dataframe thead th {\n",
       "        text-align: right;\n",
       "    }\n",
       "</style>\n",
       "<table border=\"1\" class=\"dataframe\">\n",
       "  <thead>\n",
       "    <tr style=\"text-align: right;\">\n",
       "      <th></th>\n",
       "      <th>user_id</th>\n",
       "      <th>date</th>\n",
       "      <th>direction</th>\n",
       "      <th>internal</th>\n",
       "      <th>operator_id</th>\n",
       "      <th>is_missed_call</th>\n",
       "      <th>calls_count</th>\n",
       "      <th>call_duration</th>\n",
       "      <th>total_call_duration</th>\n",
       "    </tr>\n",
       "  </thead>\n",
       "  <tbody>\n",
       "    <tr>\n",
       "      <th>0</th>\n",
       "      <td>166377</td>\n",
       "      <td>2019-08-04 00:00:00+03:00</td>\n",
       "      <td>in</td>\n",
       "      <td>False</td>\n",
       "      <td>NaN</td>\n",
       "      <td>True</td>\n",
       "      <td>2</td>\n",
       "      <td>0</td>\n",
       "      <td>4</td>\n",
       "    </tr>\n",
       "    <tr>\n",
       "      <th>1</th>\n",
       "      <td>166377</td>\n",
       "      <td>2019-08-05 00:00:00+03:00</td>\n",
       "      <td>out</td>\n",
       "      <td>True</td>\n",
       "      <td>880022.0</td>\n",
       "      <td>True</td>\n",
       "      <td>3</td>\n",
       "      <td>0</td>\n",
       "      <td>5</td>\n",
       "    </tr>\n",
       "    <tr>\n",
       "      <th>2</th>\n",
       "      <td>166377</td>\n",
       "      <td>2019-08-05 00:00:00+03:00</td>\n",
       "      <td>out</td>\n",
       "      <td>True</td>\n",
       "      <td>880020.0</td>\n",
       "      <td>True</td>\n",
       "      <td>1</td>\n",
       "      <td>0</td>\n",
       "      <td>1</td>\n",
       "    </tr>\n",
       "    <tr>\n",
       "      <th>3</th>\n",
       "      <td>166377</td>\n",
       "      <td>2019-08-05 00:00:00+03:00</td>\n",
       "      <td>out</td>\n",
       "      <td>True</td>\n",
       "      <td>880020.0</td>\n",
       "      <td>False</td>\n",
       "      <td>1</td>\n",
       "      <td>10</td>\n",
       "      <td>18</td>\n",
       "    </tr>\n",
       "    <tr>\n",
       "      <th>4</th>\n",
       "      <td>166377</td>\n",
       "      <td>2019-08-05 00:00:00+03:00</td>\n",
       "      <td>out</td>\n",
       "      <td>False</td>\n",
       "      <td>880022.0</td>\n",
       "      <td>True</td>\n",
       "      <td>3</td>\n",
       "      <td>0</td>\n",
       "      <td>25</td>\n",
       "    </tr>\n",
       "  </tbody>\n",
       "</table>\n",
       "</div>"
      ],
      "text/plain": [
       "   user_id                       date direction internal  operator_id  \\\n",
       "0   166377  2019-08-04 00:00:00+03:00        in    False          NaN   \n",
       "1   166377  2019-08-05 00:00:00+03:00       out     True     880022.0   \n",
       "2   166377  2019-08-05 00:00:00+03:00       out     True     880020.0   \n",
       "3   166377  2019-08-05 00:00:00+03:00       out     True     880020.0   \n",
       "4   166377  2019-08-05 00:00:00+03:00       out    False     880022.0   \n",
       "\n",
       "   is_missed_call  calls_count  call_duration  total_call_duration  \n",
       "0            True            2              0                    4  \n",
       "1            True            3              0                    5  \n",
       "2            True            1              0                    1  \n",
       "3           False            1             10                   18  \n",
       "4            True            3              0                   25  "
      ]
     },
     "execution_count": 3,
     "metadata": {},
     "output_type": "execute_result"
    }
   ],
   "source": [
    "data = pd.read_csv('/datasets/telecom_dataset_us.csv')\n",
    "data.head()"
   ]
  },
  {
   "cell_type": "code",
   "execution_count": 4,
   "metadata": {},
   "outputs": [
    {
     "name": "stdout",
     "output_type": "stream",
     "text": [
      "<class 'pandas.core.frame.DataFrame'>\n",
      "RangeIndex: 53902 entries, 0 to 53901\n",
      "Data columns (total 9 columns):\n",
      " #   Column               Non-Null Count  Dtype  \n",
      "---  ------               --------------  -----  \n",
      " 0   user_id              53902 non-null  int64  \n",
      " 1   date                 53902 non-null  object \n",
      " 2   direction            53902 non-null  object \n",
      " 3   internal             53785 non-null  object \n",
      " 4   operator_id          45730 non-null  float64\n",
      " 5   is_missed_call       53902 non-null  bool   \n",
      " 6   calls_count          53902 non-null  int64  \n",
      " 7   call_duration        53902 non-null  int64  \n",
      " 8   total_call_duration  53902 non-null  int64  \n",
      "dtypes: bool(1), float64(1), int64(4), object(3)\n",
      "memory usage: 3.3+ MB\n"
     ]
    }
   ],
   "source": [
    "data.info()"
   ]
  },
  {
   "cell_type": "markdown",
   "metadata": {},
   "source": [
    "### Datatypes"
   ]
  },
  {
   "cell_type": "code",
   "execution_count": 5,
   "metadata": {},
   "outputs": [
    {
     "data": {
      "text/plain": [
       "user_id                   0\n",
       "date                      0\n",
       "direction                 0\n",
       "internal                117\n",
       "operator_id            8172\n",
       "is_missed_call            0\n",
       "calls_count               0\n",
       "call_duration             0\n",
       "total_call_duration       0\n",
       "dtype: int64"
      ]
     },
     "execution_count": 5,
     "metadata": {},
     "output_type": "execute_result"
    }
   ],
   "source": [
    "data.isna().sum()"
   ]
  },
  {
   "cell_type": "markdown",
   "metadata": {},
   "source": [
    "we see that we have 117 Missing value in `internal` and wi th no way to fill them we will drop them because when we'll change the data type of this column to bool the values will autmatically be changed to one of the Types "
   ]
  },
  {
   "cell_type": "code",
   "execution_count": 6,
   "metadata": {},
   "outputs": [],
   "source": [
    "data = data.dropna(subset=['internal'])"
   ]
  },
  {
   "cell_type": "code",
   "execution_count": 7,
   "metadata": {},
   "outputs": [
    {
     "data": {
      "text/plain": [
       "user_id                   0\n",
       "date                      0\n",
       "direction                 0\n",
       "internal                  0\n",
       "operator_id            8115\n",
       "is_missed_call            0\n",
       "calls_count               0\n",
       "call_duration             0\n",
       "total_call_duration       0\n",
       "dtype: int64"
      ]
     },
     "execution_count": 7,
     "metadata": {},
     "output_type": "execute_result"
    }
   ],
   "source": [
    "data.isna().sum()"
   ]
  },
  {
   "cell_type": "code",
   "execution_count": 8,
   "metadata": {},
   "outputs": [
    {
     "name": "stdout",
     "output_type": "stream",
     "text": [
      "<class 'pandas.core.frame.DataFrame'>\n",
      "Int64Index: 53785 entries, 0 to 53901\n",
      "Data columns (total 9 columns):\n",
      " #   Column               Non-Null Count  Dtype                                \n",
      "---  ------               --------------  -----                                \n",
      " 0   user_id              53785 non-null  int64                                \n",
      " 1   date                 53785 non-null  datetime64[ns, pytz.FixedOffset(180)]\n",
      " 2   direction            53785 non-null  object                               \n",
      " 3   internal             53785 non-null  bool                                 \n",
      " 4   operator_id          45670 non-null  float64                              \n",
      " 5   is_missed_call       53785 non-null  bool                                 \n",
      " 6   calls_count          53785 non-null  int64                                \n",
      " 7   call_duration        53785 non-null  int64                                \n",
      " 8   total_call_duration  53785 non-null  int64                                \n",
      "dtypes: bool(2), datetime64[ns, pytz.FixedOffset(180)](1), float64(1), int64(4), object(1)\n",
      "memory usage: 3.4+ MB\n"
     ]
    }
   ],
   "source": [
    "# changing data type\n",
    "data['date'] = pd.to_datetime(data['date'])\n",
    "data['internal'] = data['internal'].astype('bool')\n",
    "data.info()"
   ]
  },
  {
   "cell_type": "code",
   "execution_count": 9,
   "metadata": {},
   "outputs": [
    {
     "data": {
      "text/html": [
       "<div>\n",
       "<style scoped>\n",
       "    .dataframe tbody tr th:only-of-type {\n",
       "        vertical-align: middle;\n",
       "    }\n",
       "\n",
       "    .dataframe tbody tr th {\n",
       "        vertical-align: top;\n",
       "    }\n",
       "\n",
       "    .dataframe thead th {\n",
       "        text-align: right;\n",
       "    }\n",
       "</style>\n",
       "<table border=\"1\" class=\"dataframe\">\n",
       "  <thead>\n",
       "    <tr style=\"text-align: right;\">\n",
       "      <th></th>\n",
       "      <th>user_id</th>\n",
       "      <th>date</th>\n",
       "      <th>direction</th>\n",
       "      <th>internal</th>\n",
       "      <th>operator_id</th>\n",
       "      <th>is_missed_call</th>\n",
       "      <th>calls_count</th>\n",
       "      <th>call_duration</th>\n",
       "      <th>total_call_duration</th>\n",
       "    </tr>\n",
       "  </thead>\n",
       "  <tbody>\n",
       "    <tr>\n",
       "      <th>0</th>\n",
       "      <td>166377</td>\n",
       "      <td>2019-08-04 00:00:00+03:00</td>\n",
       "      <td>in</td>\n",
       "      <td>False</td>\n",
       "      <td>NaN</td>\n",
       "      <td>True</td>\n",
       "      <td>2</td>\n",
       "      <td>0</td>\n",
       "      <td>4</td>\n",
       "    </tr>\n",
       "    <tr>\n",
       "      <th>1</th>\n",
       "      <td>166377</td>\n",
       "      <td>2019-08-05 00:00:00+03:00</td>\n",
       "      <td>out</td>\n",
       "      <td>True</td>\n",
       "      <td>880022.0</td>\n",
       "      <td>True</td>\n",
       "      <td>3</td>\n",
       "      <td>0</td>\n",
       "      <td>5</td>\n",
       "    </tr>\n",
       "    <tr>\n",
       "      <th>2</th>\n",
       "      <td>166377</td>\n",
       "      <td>2019-08-05 00:00:00+03:00</td>\n",
       "      <td>out</td>\n",
       "      <td>True</td>\n",
       "      <td>880020.0</td>\n",
       "      <td>True</td>\n",
       "      <td>1</td>\n",
       "      <td>0</td>\n",
       "      <td>1</td>\n",
       "    </tr>\n",
       "    <tr>\n",
       "      <th>3</th>\n",
       "      <td>166377</td>\n",
       "      <td>2019-08-05 00:00:00+03:00</td>\n",
       "      <td>out</td>\n",
       "      <td>True</td>\n",
       "      <td>880020.0</td>\n",
       "      <td>False</td>\n",
       "      <td>1</td>\n",
       "      <td>10</td>\n",
       "      <td>18</td>\n",
       "    </tr>\n",
       "    <tr>\n",
       "      <th>4</th>\n",
       "      <td>166377</td>\n",
       "      <td>2019-08-05 00:00:00+03:00</td>\n",
       "      <td>out</td>\n",
       "      <td>False</td>\n",
       "      <td>880022.0</td>\n",
       "      <td>True</td>\n",
       "      <td>3</td>\n",
       "      <td>0</td>\n",
       "      <td>25</td>\n",
       "    </tr>\n",
       "  </tbody>\n",
       "</table>\n",
       "</div>"
      ],
      "text/plain": [
       "   user_id                      date direction  internal  operator_id  \\\n",
       "0   166377 2019-08-04 00:00:00+03:00        in     False          NaN   \n",
       "1   166377 2019-08-05 00:00:00+03:00       out      True     880022.0   \n",
       "2   166377 2019-08-05 00:00:00+03:00       out      True     880020.0   \n",
       "3   166377 2019-08-05 00:00:00+03:00       out      True     880020.0   \n",
       "4   166377 2019-08-05 00:00:00+03:00       out     False     880022.0   \n",
       "\n",
       "   is_missed_call  calls_count  call_duration  total_call_duration  \n",
       "0            True            2              0                    4  \n",
       "1            True            3              0                    5  \n",
       "2            True            1              0                    1  \n",
       "3           False            1             10                   18  \n",
       "4            True            3              0                   25  "
      ]
     },
     "execution_count": 9,
     "metadata": {},
     "output_type": "execute_result"
    }
   ],
   "source": [
    "data.head()"
   ]
  },
  {
   "cell_type": "code",
   "execution_count": 10,
   "metadata": {},
   "outputs": [
    {
     "data": {
      "text/html": [
       "<div>\n",
       "<style scoped>\n",
       "    .dataframe tbody tr th:only-of-type {\n",
       "        vertical-align: middle;\n",
       "    }\n",
       "\n",
       "    .dataframe tbody tr th {\n",
       "        vertical-align: top;\n",
       "    }\n",
       "\n",
       "    .dataframe thead th {\n",
       "        text-align: right;\n",
       "    }\n",
       "</style>\n",
       "<table border=\"1\" class=\"dataframe\">\n",
       "  <thead>\n",
       "    <tr style=\"text-align: right;\">\n",
       "      <th></th>\n",
       "      <th>user_id</th>\n",
       "      <th>date</th>\n",
       "      <th>direction</th>\n",
       "      <th>internal</th>\n",
       "      <th>operator_id</th>\n",
       "      <th>is_missed_call</th>\n",
       "      <th>calls_count</th>\n",
       "      <th>call_duration</th>\n",
       "      <th>total_call_duration</th>\n",
       "    </tr>\n",
       "  </thead>\n",
       "  <tbody>\n",
       "    <tr>\n",
       "      <th>0</th>\n",
       "      <td>166377</td>\n",
       "      <td>2019-08-04</td>\n",
       "      <td>in</td>\n",
       "      <td>False</td>\n",
       "      <td>NaN</td>\n",
       "      <td>True</td>\n",
       "      <td>2</td>\n",
       "      <td>0</td>\n",
       "      <td>4</td>\n",
       "    </tr>\n",
       "    <tr>\n",
       "      <th>1</th>\n",
       "      <td>166377</td>\n",
       "      <td>2019-08-05</td>\n",
       "      <td>out</td>\n",
       "      <td>True</td>\n",
       "      <td>880022.0</td>\n",
       "      <td>True</td>\n",
       "      <td>3</td>\n",
       "      <td>0</td>\n",
       "      <td>5</td>\n",
       "    </tr>\n",
       "    <tr>\n",
       "      <th>2</th>\n",
       "      <td>166377</td>\n",
       "      <td>2019-08-05</td>\n",
       "      <td>out</td>\n",
       "      <td>True</td>\n",
       "      <td>880020.0</td>\n",
       "      <td>True</td>\n",
       "      <td>1</td>\n",
       "      <td>0</td>\n",
       "      <td>1</td>\n",
       "    </tr>\n",
       "    <tr>\n",
       "      <th>3</th>\n",
       "      <td>166377</td>\n",
       "      <td>2019-08-05</td>\n",
       "      <td>out</td>\n",
       "      <td>True</td>\n",
       "      <td>880020.0</td>\n",
       "      <td>False</td>\n",
       "      <td>1</td>\n",
       "      <td>10</td>\n",
       "      <td>18</td>\n",
       "    </tr>\n",
       "    <tr>\n",
       "      <th>4</th>\n",
       "      <td>166377</td>\n",
       "      <td>2019-08-05</td>\n",
       "      <td>out</td>\n",
       "      <td>False</td>\n",
       "      <td>880022.0</td>\n",
       "      <td>True</td>\n",
       "      <td>3</td>\n",
       "      <td>0</td>\n",
       "      <td>25</td>\n",
       "    </tr>\n",
       "  </tbody>\n",
       "</table>\n",
       "</div>"
      ],
      "text/plain": [
       "   user_id       date direction  internal  operator_id  is_missed_call  \\\n",
       "0   166377 2019-08-04        in     False          NaN            True   \n",
       "1   166377 2019-08-05       out      True     880022.0            True   \n",
       "2   166377 2019-08-05       out      True     880020.0            True   \n",
       "3   166377 2019-08-05       out      True     880020.0           False   \n",
       "4   166377 2019-08-05       out     False     880022.0            True   \n",
       "\n",
       "   calls_count  call_duration  total_call_duration  \n",
       "0            2              0                    4  \n",
       "1            3              0                    5  \n",
       "2            1              0                    1  \n",
       "3            1             10                   18  \n",
       "4            3              0                   25  "
      ]
     },
     "execution_count": 10,
     "metadata": {},
     "output_type": "execute_result"
    }
   ],
   "source": [
    "#get rid of the timezone to make calculations easier (Documentaion in the end)\n",
    "data['date'] = data['date'].dt.tz_localize(None)\n",
    "data.head()"
   ]
  },
  {
   "cell_type": "markdown",
   "metadata": {},
   "source": [
    "### Missing values + Duplicates:"
   ]
  },
  {
   "cell_type": "code",
   "execution_count": 11,
   "metadata": {},
   "outputs": [],
   "source": [
    "original_len = len(data)"
   ]
  },
  {
   "cell_type": "code",
   "execution_count": 12,
   "metadata": {},
   "outputs": [
    {
     "data": {
      "text/html": [
       "<div>\n",
       "<style scoped>\n",
       "    .dataframe tbody tr th:only-of-type {\n",
       "        vertical-align: middle;\n",
       "    }\n",
       "\n",
       "    .dataframe tbody tr th {\n",
       "        vertical-align: top;\n",
       "    }\n",
       "\n",
       "    .dataframe thead th {\n",
       "        text-align: right;\n",
       "    }\n",
       "</style>\n",
       "<table border=\"1\" class=\"dataframe\">\n",
       "  <thead>\n",
       "    <tr style=\"text-align: right;\">\n",
       "      <th></th>\n",
       "      <th>user_id</th>\n",
       "      <th>date</th>\n",
       "      <th>direction</th>\n",
       "      <th>internal</th>\n",
       "      <th>operator_id</th>\n",
       "      <th>is_missed_call</th>\n",
       "      <th>calls_count</th>\n",
       "      <th>call_duration</th>\n",
       "      <th>total_call_duration</th>\n",
       "    </tr>\n",
       "  </thead>\n",
       "  <tbody>\n",
       "    <tr>\n",
       "      <th>0</th>\n",
       "      <td>166377</td>\n",
       "      <td>2019-08-04</td>\n",
       "      <td>in</td>\n",
       "      <td>False</td>\n",
       "      <td>NaN</td>\n",
       "      <td>True</td>\n",
       "      <td>2</td>\n",
       "      <td>0</td>\n",
       "      <td>4</td>\n",
       "    </tr>\n",
       "    <tr>\n",
       "      <th>7</th>\n",
       "      <td>166377</td>\n",
       "      <td>2019-08-05</td>\n",
       "      <td>in</td>\n",
       "      <td>False</td>\n",
       "      <td>NaN</td>\n",
       "      <td>True</td>\n",
       "      <td>6</td>\n",
       "      <td>0</td>\n",
       "      <td>35</td>\n",
       "    </tr>\n",
       "    <tr>\n",
       "      <th>9</th>\n",
       "      <td>166377</td>\n",
       "      <td>2019-08-06</td>\n",
       "      <td>in</td>\n",
       "      <td>False</td>\n",
       "      <td>NaN</td>\n",
       "      <td>True</td>\n",
       "      <td>4</td>\n",
       "      <td>0</td>\n",
       "      <td>62</td>\n",
       "    </tr>\n",
       "    <tr>\n",
       "      <th>17</th>\n",
       "      <td>166377</td>\n",
       "      <td>2019-08-07</td>\n",
       "      <td>in</td>\n",
       "      <td>False</td>\n",
       "      <td>NaN</td>\n",
       "      <td>True</td>\n",
       "      <td>2</td>\n",
       "      <td>0</td>\n",
       "      <td>24</td>\n",
       "    </tr>\n",
       "    <tr>\n",
       "      <th>27</th>\n",
       "      <td>166377</td>\n",
       "      <td>2019-08-12</td>\n",
       "      <td>in</td>\n",
       "      <td>False</td>\n",
       "      <td>NaN</td>\n",
       "      <td>True</td>\n",
       "      <td>2</td>\n",
       "      <td>0</td>\n",
       "      <td>34</td>\n",
       "    </tr>\n",
       "    <tr>\n",
       "      <th>...</th>\n",
       "      <td>...</td>\n",
       "      <td>...</td>\n",
       "      <td>...</td>\n",
       "      <td>...</td>\n",
       "      <td>...</td>\n",
       "      <td>...</td>\n",
       "      <td>...</td>\n",
       "      <td>...</td>\n",
       "      <td>...</td>\n",
       "    </tr>\n",
       "    <tr>\n",
       "      <th>53876</th>\n",
       "      <td>168601</td>\n",
       "      <td>2019-11-27</td>\n",
       "      <td>in</td>\n",
       "      <td>False</td>\n",
       "      <td>NaN</td>\n",
       "      <td>True</td>\n",
       "      <td>2</td>\n",
       "      <td>0</td>\n",
       "      <td>39</td>\n",
       "    </tr>\n",
       "    <tr>\n",
       "      <th>53880</th>\n",
       "      <td>168601</td>\n",
       "      <td>2019-11-28</td>\n",
       "      <td>in</td>\n",
       "      <td>False</td>\n",
       "      <td>NaN</td>\n",
       "      <td>True</td>\n",
       "      <td>1</td>\n",
       "      <td>0</td>\n",
       "      <td>19</td>\n",
       "    </tr>\n",
       "    <tr>\n",
       "      <th>53889</th>\n",
       "      <td>168603</td>\n",
       "      <td>2019-11-28</td>\n",
       "      <td>in</td>\n",
       "      <td>False</td>\n",
       "      <td>NaN</td>\n",
       "      <td>True</td>\n",
       "      <td>1</td>\n",
       "      <td>0</td>\n",
       "      <td>30</td>\n",
       "    </tr>\n",
       "    <tr>\n",
       "      <th>53893</th>\n",
       "      <td>168606</td>\n",
       "      <td>2019-11-08</td>\n",
       "      <td>in</td>\n",
       "      <td>False</td>\n",
       "      <td>NaN</td>\n",
       "      <td>True</td>\n",
       "      <td>6</td>\n",
       "      <td>0</td>\n",
       "      <td>121</td>\n",
       "    </tr>\n",
       "    <tr>\n",
       "      <th>53901</th>\n",
       "      <td>168606</td>\n",
       "      <td>2019-11-19</td>\n",
       "      <td>in</td>\n",
       "      <td>False</td>\n",
       "      <td>NaN</td>\n",
       "      <td>True</td>\n",
       "      <td>2</td>\n",
       "      <td>0</td>\n",
       "      <td>64</td>\n",
       "    </tr>\n",
       "  </tbody>\n",
       "</table>\n",
       "<p>8115 rows × 9 columns</p>\n",
       "</div>"
      ],
      "text/plain": [
       "       user_id       date direction  internal  operator_id  is_missed_call  \\\n",
       "0       166377 2019-08-04        in     False          NaN            True   \n",
       "7       166377 2019-08-05        in     False          NaN            True   \n",
       "9       166377 2019-08-06        in     False          NaN            True   \n",
       "17      166377 2019-08-07        in     False          NaN            True   \n",
       "27      166377 2019-08-12        in     False          NaN            True   \n",
       "...        ...        ...       ...       ...          ...             ...   \n",
       "53876   168601 2019-11-27        in     False          NaN            True   \n",
       "53880   168601 2019-11-28        in     False          NaN            True   \n",
       "53889   168603 2019-11-28        in     False          NaN            True   \n",
       "53893   168606 2019-11-08        in     False          NaN            True   \n",
       "53901   168606 2019-11-19        in     False          NaN            True   \n",
       "\n",
       "       calls_count  call_duration  total_call_duration  \n",
       "0                2              0                    4  \n",
       "7                6              0                   35  \n",
       "9                4              0                   62  \n",
       "17               2              0                   24  \n",
       "27               2              0                   34  \n",
       "...            ...            ...                  ...  \n",
       "53876            2              0                   39  \n",
       "53880            1              0                   19  \n",
       "53889            1              0                   30  \n",
       "53893            6              0                  121  \n",
       "53901            2              0                   64  \n",
       "\n",
       "[8115 rows x 9 columns]"
      ]
     },
     "execution_count": 12,
     "metadata": {},
     "output_type": "execute_result"
    }
   ],
   "source": [
    "data[data['operator_id'].isna()]"
   ]
  },
  {
   "cell_type": "code",
   "execution_count": 13,
   "metadata": {},
   "outputs": [
    {
     "name": "stdout",
     "output_type": "stream",
     "text": [
      "number of NAN: 8115\n"
     ]
    }
   ],
   "source": [
    "print('number of NAN:',data['operator_id'].isna().sum())"
   ]
  },
  {
   "cell_type": "code",
   "execution_count": 14,
   "metadata": {},
   "outputs": [
    {
     "name": "stdout",
     "output_type": "stream",
     "text": [
      "percent of NAN: 15.09%\n"
     ]
    }
   ],
   "source": [
    "print('percent of NAN:', '{0:.2%}'.format(data['operator_id'].isna().sum() / len(data)))"
   ]
  },
  {
   "cell_type": "markdown",
   "metadata": {},
   "source": [
    "- The missing values are all in `operator_id` which is one of the m,ost important columns and we have no way of filling the missing values or predict them as that can affect the calculations so even if they make 15% of the data we will have to get rid of them."
   ]
  },
  {
   "cell_type": "code",
   "execution_count": 15,
   "metadata": {
    "scrolled": true
   },
   "outputs": [
    {
     "data": {
      "text/plain": [
       "4893"
      ]
     },
     "execution_count": 15,
     "metadata": {},
     "output_type": "execute_result"
    }
   ],
   "source": [
    "data.duplicated().sum()"
   ]
  },
  {
   "cell_type": "code",
   "execution_count": 16,
   "metadata": {},
   "outputs": [
    {
     "name": "stdout",
     "output_type": "stream",
     "text": [
      "percent of duplicates: 9.10%\n"
     ]
    }
   ],
   "source": [
    "print('percent of duplicates:', '{0:.2%}'.format(data.duplicated().sum() / len(data)))"
   ]
  },
  {
   "cell_type": "markdown",
   "metadata": {},
   "source": [
    "- Duplicates make 9% of the data but we have to drop them or they will affect the calculations"
   ]
  },
  {
   "cell_type": "code",
   "execution_count": 17,
   "metadata": {},
   "outputs": [
    {
     "name": "stdout",
     "output_type": "stream",
     "text": [
      "<class 'pandas.core.frame.DataFrame'>\n",
      "Int64Index: 48892 entries, 0 to 53901\n",
      "Data columns (total 9 columns):\n",
      " #   Column               Non-Null Count  Dtype         \n",
      "---  ------               --------------  -----         \n",
      " 0   user_id              48892 non-null  int64         \n",
      " 1   date                 48892 non-null  datetime64[ns]\n",
      " 2   direction            48892 non-null  object        \n",
      " 3   internal             48892 non-null  bool          \n",
      " 4   operator_id          41491 non-null  float64       \n",
      " 5   is_missed_call       48892 non-null  bool          \n",
      " 6   calls_count          48892 non-null  int64         \n",
      " 7   call_duration        48892 non-null  int64         \n",
      " 8   total_call_duration  48892 non-null  int64         \n",
      "dtypes: bool(2), datetime64[ns](1), float64(1), int64(4), object(1)\n",
      "memory usage: 3.1+ MB\n"
     ]
    }
   ],
   "source": [
    "data = data.drop_duplicates()\n",
    "data.info()"
   ]
  },
  {
   "cell_type": "code",
   "execution_count": 18,
   "metadata": {},
   "outputs": [
    {
     "name": "stdout",
     "output_type": "stream",
     "text": [
      "number of NAN: 7401\n"
     ]
    }
   ],
   "source": [
    "# checking for missing values again after dropping the duplicates and see if their number still the smae or decreased\n",
    "print('number of NAN:',data['operator_id'].isna().sum())"
   ]
  },
  {
   "cell_type": "code",
   "execution_count": 19,
   "metadata": {},
   "outputs": [
    {
     "name": "stdout",
     "output_type": "stream",
     "text": [
      "percent of NAN: 15.14%\n"
     ]
    }
   ],
   "source": [
    "print('percent of NAN:', '{0:.2%}'.format(data['operator_id'].isna().sum() / len(data)))"
   ]
  },
  {
   "cell_type": "markdown",
   "metadata": {},
   "source": [
    "- the number of the missing values decreased abut the percentage still the same. we will drop them because we have no better option"
   ]
  },
  {
   "cell_type": "code",
   "execution_count": 20,
   "metadata": {},
   "outputs": [
    {
     "name": "stdout",
     "output_type": "stream",
     "text": [
      "<class 'pandas.core.frame.DataFrame'>\n",
      "Int64Index: 41491 entries, 1 to 53899\n",
      "Data columns (total 9 columns):\n",
      " #   Column               Non-Null Count  Dtype         \n",
      "---  ------               --------------  -----         \n",
      " 0   user_id              41491 non-null  int64         \n",
      " 1   date                 41491 non-null  datetime64[ns]\n",
      " 2   direction            41491 non-null  object        \n",
      " 3   internal             41491 non-null  bool          \n",
      " 4   operator_id          41491 non-null  float64       \n",
      " 5   is_missed_call       41491 non-null  bool          \n",
      " 6   calls_count          41491 non-null  int64         \n",
      " 7   call_duration        41491 non-null  int64         \n",
      " 8   total_call_duration  41491 non-null  int64         \n",
      "dtypes: bool(2), datetime64[ns](1), float64(1), int64(4), object(1)\n",
      "memory usage: 2.6+ MB\n"
     ]
    }
   ],
   "source": [
    "data_clean = data.dropna().copy()\n",
    "data_clean.info()"
   ]
  },
  {
   "cell_type": "code",
   "execution_count": 21,
   "metadata": {},
   "outputs": [
    {
     "name": "stdout",
     "output_type": "stream",
     "text": [
      "percent of data left: 77.14%\n"
     ]
    }
   ],
   "source": [
    "print('percent of data left:', '{0:.2%}'.format(len(data_clean) / original_len))"
   ]
  },
  {
   "cell_type": "markdown",
   "metadata": {},
   "source": [
    "- After proccessing the missing values and duplicates we still have 77% of our original data left"
   ]
  },
  {
   "cell_type": "markdown",
   "metadata": {},
   "source": [
    "## Carry out exploratory data analysis:"
   ]
  },
  {
   "cell_type": "markdown",
   "metadata": {},
   "source": [
    "### Check Values:"
   ]
  },
  {
   "cell_type": "code",
   "execution_count": 22,
   "metadata": {
    "scrolled": true
   },
   "outputs": [
    {
     "data": {
      "text/plain": [
       "out    28813\n",
       "in     12678\n",
       "Name: direction, dtype: int64"
      ]
     },
     "execution_count": 22,
     "metadata": {},
     "output_type": "execute_result"
    }
   ],
   "source": [
    "data_clean['direction'].value_counts()"
   ]
  },
  {
   "cell_type": "code",
   "execution_count": 23,
   "metadata": {},
   "outputs": [
    {
     "data": {
      "text/plain": [
       "False    36161\n",
       "True      5330\n",
       "Name: internal, dtype: int64"
      ]
     },
     "execution_count": 23,
     "metadata": {},
     "output_type": "execute_result"
    }
   ],
   "source": [
    "data_clean['internal'].value_counts()"
   ]
  },
  {
   "cell_type": "code",
   "execution_count": 24,
   "metadata": {},
   "outputs": [
    {
     "data": {
      "text/plain": [
       "False    27382\n",
       "True     14109\n",
       "Name: is_missed_call, dtype: int64"
      ]
     },
     "execution_count": 24,
     "metadata": {},
     "output_type": "execute_result"
    }
   ],
   "source": [
    "data_clean['is_missed_call'].value_counts()"
   ]
  },
  {
   "cell_type": "code",
   "execution_count": 25,
   "metadata": {},
   "outputs": [
    {
     "data": {
      "text/plain": [
       "1092"
      ]
     },
     "execution_count": 25,
     "metadata": {},
     "output_type": "execute_result"
    }
   ],
   "source": [
    "data_clean['operator_id'].nunique()"
   ]
  },
  {
   "cell_type": "markdown",
   "metadata": {},
   "source": [
    "- the values are not distributed equally in the above columnns but they have no strange values\n",
    "- we have 1092 Operator included in the data"
   ]
  },
  {
   "cell_type": "markdown",
   "metadata": {},
   "source": [
    "### Calculate Waiting Time"
   ]
  },
  {
   "cell_type": "code",
   "execution_count": 26,
   "metadata": {},
   "outputs": [
    {
     "data": {
      "text/html": [
       "<div>\n",
       "<style scoped>\n",
       "    .dataframe tbody tr th:only-of-type {\n",
       "        vertical-align: middle;\n",
       "    }\n",
       "\n",
       "    .dataframe tbody tr th {\n",
       "        vertical-align: top;\n",
       "    }\n",
       "\n",
       "    .dataframe thead th {\n",
       "        text-align: right;\n",
       "    }\n",
       "</style>\n",
       "<table border=\"1\" class=\"dataframe\">\n",
       "  <thead>\n",
       "    <tr style=\"text-align: right;\">\n",
       "      <th></th>\n",
       "      <th>user_id</th>\n",
       "      <th>date</th>\n",
       "      <th>direction</th>\n",
       "      <th>internal</th>\n",
       "      <th>operator_id</th>\n",
       "      <th>is_missed_call</th>\n",
       "      <th>calls_count</th>\n",
       "      <th>call_duration</th>\n",
       "      <th>total_call_duration</th>\n",
       "      <th>waiting_time</th>\n",
       "    </tr>\n",
       "  </thead>\n",
       "  <tbody>\n",
       "    <tr>\n",
       "      <th>1</th>\n",
       "      <td>166377</td>\n",
       "      <td>2019-08-05</td>\n",
       "      <td>out</td>\n",
       "      <td>True</td>\n",
       "      <td>880022.0</td>\n",
       "      <td>True</td>\n",
       "      <td>3</td>\n",
       "      <td>0</td>\n",
       "      <td>5</td>\n",
       "      <td>5</td>\n",
       "    </tr>\n",
       "    <tr>\n",
       "      <th>2</th>\n",
       "      <td>166377</td>\n",
       "      <td>2019-08-05</td>\n",
       "      <td>out</td>\n",
       "      <td>True</td>\n",
       "      <td>880020.0</td>\n",
       "      <td>True</td>\n",
       "      <td>1</td>\n",
       "      <td>0</td>\n",
       "      <td>1</td>\n",
       "      <td>1</td>\n",
       "    </tr>\n",
       "    <tr>\n",
       "      <th>3</th>\n",
       "      <td>166377</td>\n",
       "      <td>2019-08-05</td>\n",
       "      <td>out</td>\n",
       "      <td>True</td>\n",
       "      <td>880020.0</td>\n",
       "      <td>False</td>\n",
       "      <td>1</td>\n",
       "      <td>10</td>\n",
       "      <td>18</td>\n",
       "      <td>8</td>\n",
       "    </tr>\n",
       "    <tr>\n",
       "      <th>4</th>\n",
       "      <td>166377</td>\n",
       "      <td>2019-08-05</td>\n",
       "      <td>out</td>\n",
       "      <td>False</td>\n",
       "      <td>880022.0</td>\n",
       "      <td>True</td>\n",
       "      <td>3</td>\n",
       "      <td>0</td>\n",
       "      <td>25</td>\n",
       "      <td>25</td>\n",
       "    </tr>\n",
       "    <tr>\n",
       "      <th>5</th>\n",
       "      <td>166377</td>\n",
       "      <td>2019-08-05</td>\n",
       "      <td>out</td>\n",
       "      <td>False</td>\n",
       "      <td>880020.0</td>\n",
       "      <td>False</td>\n",
       "      <td>2</td>\n",
       "      <td>3</td>\n",
       "      <td>29</td>\n",
       "      <td>26</td>\n",
       "    </tr>\n",
       "  </tbody>\n",
       "</table>\n",
       "</div>"
      ],
      "text/plain": [
       "   user_id       date direction  internal  operator_id  is_missed_call  \\\n",
       "1   166377 2019-08-05       out      True     880022.0            True   \n",
       "2   166377 2019-08-05       out      True     880020.0            True   \n",
       "3   166377 2019-08-05       out      True     880020.0           False   \n",
       "4   166377 2019-08-05       out     False     880022.0            True   \n",
       "5   166377 2019-08-05       out     False     880020.0           False   \n",
       "\n",
       "   calls_count  call_duration  total_call_duration  waiting_time  \n",
       "1            3              0                    5             5  \n",
       "2            1              0                    1             1  \n",
       "3            1             10                   18             8  \n",
       "4            3              0                   25            25  \n",
       "5            2              3                   29            26  "
      ]
     },
     "execution_count": 26,
     "metadata": {},
     "output_type": "execute_result"
    }
   ],
   "source": [
    "data_clean['waiting_time'] = data_clean['total_call_duration'] - data_clean['call_duration']\n",
    "#data_clean['waiting_time'].where(data_clean['direction'] == 'in', np.nan, inplace=True)\n",
    "data_clean.head()"
   ]
  },
  {
   "cell_type": "markdown",
   "metadata": {},
   "source": [
    "### Check the Dates"
   ]
  },
  {
   "cell_type": "code",
   "execution_count": 27,
   "metadata": {},
   "outputs": [
    {
     "data": {
      "text/plain": [
       "count    41491.000000\n",
       "mean       312.213227\n",
       "std       1176.102940\n",
       "min          0.000000\n",
       "25%         19.000000\n",
       "50%         60.000000\n",
       "75%        219.000000\n",
       "max      46474.000000\n",
       "Name: waiting_time, dtype: float64"
      ]
     },
     "execution_count": 27,
     "metadata": {},
     "output_type": "execute_result"
    }
   ],
   "source": [
    "data_clean['waiting_time'].describe()"
   ]
  },
  {
   "cell_type": "code",
   "execution_count": 28,
   "metadata": {},
   "outputs": [
    {
     "data": {
      "text/plain": [
       "count                            41491\n",
       "mean     2019-10-23 15:58:20.739919616\n",
       "min                2019-08-02 00:00:00\n",
       "25%                2019-10-06 00:00:00\n",
       "50%                2019-10-28 00:00:00\n",
       "75%                2019-11-14 00:00:00\n",
       "max                2019-11-28 00:00:00\n",
       "Name: date, dtype: object"
      ]
     },
     "execution_count": 28,
     "metadata": {},
     "output_type": "execute_result"
    }
   ],
   "source": [
    "data_clean['date'].describe(datetime_is_numeric=True)"
   ]
  },
  {
   "cell_type": "markdown",
   "metadata": {},
   "source": [
    "- Data are spread on 4 months starting 2nd of august till 28th of november 2019\n",
    "- 50% of our data are in the first 3 months and the other 50% are in the last month\n",
    "- the bad distribution we not affect the studies greatly as we will calculate the daily average so how the data is spread will not matter"
   ]
  },
  {
   "cell_type": "markdown",
   "metadata": {},
   "source": [
    "### Plot Histograms + Outliers:"
   ]
  },
  {
   "cell_type": "code",
   "execution_count": 29,
   "metadata": {},
   "outputs": [
    {
     "data": {
      "image/png": "[encoded data removed]",
      "text/plain": [
       "<Figure size 576x432 with 1 Axes>"
      ]
     },
     "metadata": {
      "needs_background": "light"
     },
     "output_type": "display_data"
    },
    {
     "data": {
      "image/png": "[encoded data removed]",
      "text/plain": [
       "<Figure size 576x432 with 1 Axes>"
      ]
     },
     "metadata": {
      "needs_background": "light"
     },
     "output_type": "display_data"
    },
    {
     "data": {
      "image/png": "[encoded data removed]",
      "text/plain": [
       "<Figure size 576x432 with 1 Axes>"
      ]
     },
     "metadata": {
      "needs_background": "light"
     },
     "output_type": "display_data"
    },
    {
     "data": {
      "image/png": "[encoded data removed]",
      "text/plain": [
       "<Figure size 576x432 with 1 Axes>"
      ]
     },
     "metadata": {
      "needs_background": "light"
     },
     "output_type": "display_data"
    }
   ],
   "source": [
    "for i in ['calls_count', 'call_duration', 'total_call_duration', 'waiting_time']:\n",
    "    plt.figure(figsize = (8,6))\n",
    "    sns.histplot(data = data_clean, x=i )\n",
    "    plt.title(f'{i.title()} Distribution');\n",
    "    plt.show()"
   ]
  },
  {
   "cell_type": "code",
   "execution_count": 30,
   "metadata": {},
   "outputs": [
    {
     "data": {
      "text/html": [
       "<div>\n",
       "<style scoped>\n",
       "    .dataframe tbody tr th:only-of-type {\n",
       "        vertical-align: middle;\n",
       "    }\n",
       "\n",
       "    .dataframe tbody tr th {\n",
       "        vertical-align: top;\n",
       "    }\n",
       "\n",
       "    .dataframe thead th {\n",
       "        text-align: right;\n",
       "    }\n",
       "</style>\n",
       "<table border=\"1\" class=\"dataframe\">\n",
       "  <thead>\n",
       "    <tr style=\"text-align: right;\">\n",
       "      <th></th>\n",
       "      <th>calls_count</th>\n",
       "      <th>call_duration</th>\n",
       "      <th>total_call_duration</th>\n",
       "      <th>waiting_time</th>\n",
       "    </tr>\n",
       "  </thead>\n",
       "  <tbody>\n",
       "    <tr>\n",
       "      <th>count</th>\n",
       "      <td>41491.000000</td>\n",
       "      <td>41491.000000</td>\n",
       "      <td>41491.000000</td>\n",
       "      <td>41491.000000</td>\n",
       "    </tr>\n",
       "    <tr>\n",
       "      <th>mean</th>\n",
       "      <td>16.921381</td>\n",
       "      <td>1010.940011</td>\n",
       "      <td>1323.153238</td>\n",
       "      <td>312.213227</td>\n",
       "    </tr>\n",
       "    <tr>\n",
       "      <th>std</th>\n",
       "      <td>59.786187</td>\n",
       "      <td>4066.666485</td>\n",
       "      <td>4788.953155</td>\n",
       "      <td>1176.102940</td>\n",
       "    </tr>\n",
       "    <tr>\n",
       "      <th>min</th>\n",
       "      <td>1.000000</td>\n",
       "      <td>0.000000</td>\n",
       "      <td>0.000000</td>\n",
       "      <td>0.000000</td>\n",
       "    </tr>\n",
       "    <tr>\n",
       "      <th>25%</th>\n",
       "      <td>1.000000</td>\n",
       "      <td>0.000000</td>\n",
       "      <td>67.000000</td>\n",
       "      <td>19.000000</td>\n",
       "    </tr>\n",
       "    <tr>\n",
       "      <th>50%</th>\n",
       "      <td>4.000000</td>\n",
       "      <td>106.000000</td>\n",
       "      <td>289.000000</td>\n",
       "      <td>60.000000</td>\n",
       "    </tr>\n",
       "    <tr>\n",
       "      <th>75%</th>\n",
       "      <td>14.000000</td>\n",
       "      <td>772.000000</td>\n",
       "      <td>1107.000000</td>\n",
       "      <td>219.000000</td>\n",
       "    </tr>\n",
       "    <tr>\n",
       "      <th>max</th>\n",
       "      <td>4817.000000</td>\n",
       "      <td>144395.000000</td>\n",
       "      <td>166155.000000</td>\n",
       "      <td>46474.000000</td>\n",
       "    </tr>\n",
       "  </tbody>\n",
       "</table>\n",
       "</div>"
      ],
      "text/plain": [
       "        calls_count  call_duration  total_call_duration  waiting_time\n",
       "count  41491.000000   41491.000000         41491.000000  41491.000000\n",
       "mean      16.921381    1010.940011          1323.153238    312.213227\n",
       "std       59.786187    4066.666485          4788.953155   1176.102940\n",
       "min        1.000000       0.000000             0.000000      0.000000\n",
       "25%        1.000000       0.000000            67.000000     19.000000\n",
       "50%        4.000000     106.000000           289.000000     60.000000\n",
       "75%       14.000000     772.000000          1107.000000    219.000000\n",
       "max     4817.000000  144395.000000        166155.000000  46474.000000"
      ]
     },
     "execution_count": 30,
     "metadata": {},
     "output_type": "execute_result"
    }
   ],
   "source": [
    "data_clean[['calls_count', 'call_duration', 'total_call_duration', 'waiting_time']].describe()"
   ]
  },
  {
   "cell_type": "markdown",
   "metadata": {},
   "source": [
    "- From the Hists and describe Table we see that we have huge outliers that will affect the analysis greatly so we will get rid of them."
   ]
  },
  {
   "cell_type": "code",
   "execution_count": 31,
   "metadata": {},
   "outputs": [
    {
     "name": "stdout",
     "output_type": "stream",
     "text": [
      "calls_count [ 37.    65.    74.    87.   107.   165.1  357.65 748.61]\n",
      "call_duration [ 2407.    4161.5   4914.2   5893.3   7647.   10988.3  16101.25 61652.75]\n",
      "total_call_duration [ 2935.    5035.5   5988.    7268.4   9499.2  13654.1  19807.3  71631.59]\n",
      "waiting_time [  659.   1234.5  1434.   1706.   2137.2  3495.4  8055.6 16847. ]\n"
     ]
    }
   ],
   "source": [
    "# checking the percentile for the columns with outliers to try and point the limit \n",
    "for i in ['calls_count', 'call_duration', 'total_call_duration', 'waiting_time']:\n",
    "    print(i, np.percentile(data_clean[i], [90, 95, 96, 97, 98, 99, 99.5, 99.9]))"
   ]
  },
  {
   "cell_type": "markdown",
   "metadata": {},
   "source": [
    "- We will consider for the outliers as the values bigger than the 90th percentile so we will drop them"
   ]
  },
  {
   "cell_type": "code",
   "execution_count": 32,
   "metadata": {},
   "outputs": [],
   "source": [
    "for i in ['calls_count', 'call_duration', 'total_call_duration', 'waiting_time']:\n",
    "    limit = np.percentile(data_clean[i], 90)\n",
    "    data_clean = data_clean[data_clean[i] < limit]"
   ]
  },
  {
   "cell_type": "code",
   "execution_count": 33,
   "metadata": {},
   "outputs": [
    {
     "data": {
      "text/html": [
       "<div>\n",
       "<style scoped>\n",
       "    .dataframe tbody tr th:only-of-type {\n",
       "        vertical-align: middle;\n",
       "    }\n",
       "\n",
       "    .dataframe tbody tr th {\n",
       "        vertical-align: top;\n",
       "    }\n",
       "\n",
       "    .dataframe thead th {\n",
       "        text-align: right;\n",
       "    }\n",
       "</style>\n",
       "<table border=\"1\" class=\"dataframe\">\n",
       "  <thead>\n",
       "    <tr style=\"text-align: right;\">\n",
       "      <th></th>\n",
       "      <th>calls_count</th>\n",
       "      <th>call_duration</th>\n",
       "      <th>total_call_duration</th>\n",
       "      <th>waiting_time</th>\n",
       "    </tr>\n",
       "  </thead>\n",
       "  <tbody>\n",
       "    <tr>\n",
       "      <th>count</th>\n",
       "      <td>27124.000000</td>\n",
       "      <td>27124.000000</td>\n",
       "      <td>27124.000000</td>\n",
       "      <td>27124.000000</td>\n",
       "    </tr>\n",
       "    <tr>\n",
       "      <th>mean</th>\n",
       "      <td>3.202994</td>\n",
       "      <td>166.059615</td>\n",
       "      <td>212.712247</td>\n",
       "      <td>46.652632</td>\n",
       "    </tr>\n",
       "    <tr>\n",
       "      <th>std</th>\n",
       "      <td>3.027899</td>\n",
       "      <td>231.356660</td>\n",
       "      <td>245.784319</td>\n",
       "      <td>49.381082</td>\n",
       "    </tr>\n",
       "    <tr>\n",
       "      <th>min</th>\n",
       "      <td>1.000000</td>\n",
       "      <td>0.000000</td>\n",
       "      <td>0.000000</td>\n",
       "      <td>0.000000</td>\n",
       "    </tr>\n",
       "    <tr>\n",
       "      <th>25%</th>\n",
       "      <td>1.000000</td>\n",
       "      <td>0.000000</td>\n",
       "      <td>37.000000</td>\n",
       "      <td>12.000000</td>\n",
       "    </tr>\n",
       "    <tr>\n",
       "      <th>50%</th>\n",
       "      <td>2.000000</td>\n",
       "      <td>50.000000</td>\n",
       "      <td>110.000000</td>\n",
       "      <td>28.000000</td>\n",
       "    </tr>\n",
       "    <tr>\n",
       "      <th>75%</th>\n",
       "      <td>4.000000</td>\n",
       "      <td>256.000000</td>\n",
       "      <td>301.000000</td>\n",
       "      <td>63.000000</td>\n",
       "    </tr>\n",
       "    <tr>\n",
       "      <th>max</th>\n",
       "      <td>33.000000</td>\n",
       "      <td>1012.000000</td>\n",
       "      <td>1021.000000</td>\n",
       "      <td>225.000000</td>\n",
       "    </tr>\n",
       "  </tbody>\n",
       "</table>\n",
       "</div>"
      ],
      "text/plain": [
       "        calls_count  call_duration  total_call_duration  waiting_time\n",
       "count  27124.000000   27124.000000         27124.000000  27124.000000\n",
       "mean       3.202994     166.059615           212.712247     46.652632\n",
       "std        3.027899     231.356660           245.784319     49.381082\n",
       "min        1.000000       0.000000             0.000000      0.000000\n",
       "25%        1.000000       0.000000            37.000000     12.000000\n",
       "50%        2.000000      50.000000           110.000000     28.000000\n",
       "75%        4.000000     256.000000           301.000000     63.000000\n",
       "max       33.000000    1012.000000          1021.000000    225.000000"
      ]
     },
     "execution_count": 33,
     "metadata": {},
     "output_type": "execute_result"
    }
   ],
   "source": [
    "data_clean[['calls_count', 'call_duration', 'total_call_duration', 'waiting_time']].describe()"
   ]
  },
  {
   "cell_type": "markdown",
   "metadata": {},
   "source": [
    "- From the describe Table we see that the data are still not distributed normaly and there are still values that can be considered outliers but dropping more than that will reduce the data greatly and the study will be biased and affected"
   ]
  },
  {
   "cell_type": "code",
   "execution_count": 34,
   "metadata": {},
   "outputs": [
    {
     "name": "stdout",
     "output_type": "stream",
     "text": [
      "<class 'pandas.core.frame.DataFrame'>\n",
      "Int64Index: 27124 entries, 1 to 53898\n",
      "Data columns (total 10 columns):\n",
      " #   Column               Non-Null Count  Dtype         \n",
      "---  ------               --------------  -----         \n",
      " 0   user_id              27124 non-null  int64         \n",
      " 1   date                 27124 non-null  datetime64[ns]\n",
      " 2   direction            27124 non-null  object        \n",
      " 3   internal             27124 non-null  bool          \n",
      " 4   operator_id          27124 non-null  float64       \n",
      " 5   is_missed_call       27124 non-null  bool          \n",
      " 6   calls_count          27124 non-null  int64         \n",
      " 7   call_duration        27124 non-null  int64         \n",
      " 8   total_call_duration  27124 non-null  int64         \n",
      " 9   waiting_time         27124 non-null  int64         \n",
      "dtypes: bool(2), datetime64[ns](1), float64(1), int64(5), object(1)\n",
      "memory usage: 1.9+ MB\n"
     ]
    }
   ],
   "source": [
    "data_clean.info()"
   ]
  },
  {
   "cell_type": "code",
   "execution_count": 35,
   "metadata": {
    "scrolled": false
   },
   "outputs": [
    {
     "data": {
      "image/png": "[encoded data removed]",
      "text/plain": [
       "<Figure size 576x432 with 1 Axes>"
      ]
     },
     "metadata": {
      "needs_background": "light"
     },
     "output_type": "display_data"
    },
    {
     "data": {
      "image/png": "[encoded data removed]",
      "text/plain": [
       "<Figure size 576x432 with 1 Axes>"
      ]
     },
     "metadata": {
      "needs_background": "light"
     },
     "output_type": "display_data"
    },
    {
     "data": {
      "image/png": "[encoded data removed]",
      "text/plain": [
       "<Figure size 576x432 with 1 Axes>"
      ]
     },
     "metadata": {
      "needs_background": "light"
     },
     "output_type": "display_data"
    },
    {
     "data": {
      "image/png": "[encoded data removed]",
      "text/plain": [
       "<Figure size 576x432 with 1 Axes>"
      ]
     },
     "metadata": {
      "needs_background": "light"
     },
     "output_type": "display_data"
    }
   ],
   "source": [
    "for i in ['calls_count', 'call_duration', 'total_call_duration', 'waiting_time']:\n",
    "    plt.figure(figsize = (8,6));\n",
    "    sns.histplot(data = data_clean, x=i );\n",
    "    plt.title(f'{i.title()} Distribution');\n",
    "    plt.show();"
   ]
  },
  {
   "cell_type": "code",
   "execution_count": 36,
   "metadata": {},
   "outputs": [
    {
     "name": "stdout",
     "output_type": "stream",
     "text": [
      "percent of data left: 50.43%\n"
     ]
    }
   ],
   "source": [
    "print('percent of data left:', '{0:.2%}'.format(len(data_clean) / original_len))"
   ]
  },
  {
   "cell_type": "markdown",
   "metadata": {},
   "source": [
    "- After dropping the outliers the Hists look better and more natural and readable\n",
    "- After cleaning the data from NaN, Duplicates and outliers we still have 50% of the original data availabe and valid for the analysis."
   ]
  },
  {
   "cell_type": "markdown",
   "metadata": {},
   "source": [
    "## Identify ineffective operators:"
   ]
  },
  {
   "cell_type": "code",
   "execution_count": 37,
   "metadata": {},
   "outputs": [
    {
     "data": {
      "text/plain": [
       "1060"
      ]
     },
     "execution_count": 37,
     "metadata": {},
     "output_type": "execute_result"
    }
   ],
   "source": [
    "#number of operators \n",
    "data_clean['operator_id'].nunique()"
   ]
  },
  {
   "cell_type": "markdown",
   "metadata": {},
   "source": [
    "- lets split the data into incoming and outgoind calls"
   ]
  },
  {
   "cell_type": "code",
   "execution_count": 38,
   "metadata": {
    "scrolled": true
   },
   "outputs": [
    {
     "data": {
      "text/html": [
       "<div>\n",
       "<style scoped>\n",
       "    .dataframe tbody tr th:only-of-type {\n",
       "        vertical-align: middle;\n",
       "    }\n",
       "\n",
       "    .dataframe tbody tr th {\n",
       "        vertical-align: top;\n",
       "    }\n",
       "\n",
       "    .dataframe thead th {\n",
       "        text-align: right;\n",
       "    }\n",
       "</style>\n",
       "<table border=\"1\" class=\"dataframe\">\n",
       "  <thead>\n",
       "    <tr style=\"text-align: right;\">\n",
       "      <th></th>\n",
       "      <th>user_id</th>\n",
       "      <th>date</th>\n",
       "      <th>direction</th>\n",
       "      <th>internal</th>\n",
       "      <th>operator_id</th>\n",
       "      <th>is_missed_call</th>\n",
       "      <th>calls_count</th>\n",
       "      <th>call_duration</th>\n",
       "      <th>total_call_duration</th>\n",
       "      <th>waiting_time</th>\n",
       "    </tr>\n",
       "  </thead>\n",
       "  <tbody>\n",
       "    <tr>\n",
       "      <th>26</th>\n",
       "      <td>166377</td>\n",
       "      <td>2019-08-12</td>\n",
       "      <td>in</td>\n",
       "      <td>False</td>\n",
       "      <td>880028.0</td>\n",
       "      <td>False</td>\n",
       "      <td>1</td>\n",
       "      <td>407</td>\n",
       "      <td>411</td>\n",
       "      <td>4</td>\n",
       "    </tr>\n",
       "    <tr>\n",
       "      <th>34</th>\n",
       "      <td>166377</td>\n",
       "      <td>2019-08-13</td>\n",
       "      <td>in</td>\n",
       "      <td>False</td>\n",
       "      <td>880028.0</td>\n",
       "      <td>False</td>\n",
       "      <td>1</td>\n",
       "      <td>88</td>\n",
       "      <td>102</td>\n",
       "      <td>14</td>\n",
       "    </tr>\n",
       "    <tr>\n",
       "      <th>37</th>\n",
       "      <td>166377</td>\n",
       "      <td>2019-08-14</td>\n",
       "      <td>in</td>\n",
       "      <td>False</td>\n",
       "      <td>880026.0</td>\n",
       "      <td>False</td>\n",
       "      <td>2</td>\n",
       "      <td>197</td>\n",
       "      <td>218</td>\n",
       "      <td>21</td>\n",
       "    </tr>\n",
       "    <tr>\n",
       "      <th>39</th>\n",
       "      <td>166377</td>\n",
       "      <td>2019-08-14</td>\n",
       "      <td>in</td>\n",
       "      <td>False</td>\n",
       "      <td>880028.0</td>\n",
       "      <td>False</td>\n",
       "      <td>1</td>\n",
       "      <td>33</td>\n",
       "      <td>37</td>\n",
       "      <td>4</td>\n",
       "    </tr>\n",
       "    <tr>\n",
       "      <th>49</th>\n",
       "      <td>166377</td>\n",
       "      <td>2019-08-15</td>\n",
       "      <td>in</td>\n",
       "      <td>False</td>\n",
       "      <td>880028.0</td>\n",
       "      <td>False</td>\n",
       "      <td>1</td>\n",
       "      <td>23</td>\n",
       "      <td>27</td>\n",
       "      <td>4</td>\n",
       "    </tr>\n",
       "  </tbody>\n",
       "</table>\n",
       "</div>"
      ],
      "text/plain": [
       "    user_id       date direction  internal  operator_id  is_missed_call  \\\n",
       "26   166377 2019-08-12        in     False     880028.0           False   \n",
       "34   166377 2019-08-13        in     False     880028.0           False   \n",
       "37   166377 2019-08-14        in     False     880026.0           False   \n",
       "39   166377 2019-08-14        in     False     880028.0           False   \n",
       "49   166377 2019-08-15        in     False     880028.0           False   \n",
       "\n",
       "    calls_count  call_duration  total_call_duration  waiting_time  \n",
       "26            1            407                  411             4  \n",
       "34            1             88                  102            14  \n",
       "37            2            197                  218            21  \n",
       "39            1             33                   37             4  \n",
       "49            1             23                   27             4  "
      ]
     },
     "execution_count": 38,
     "metadata": {},
     "output_type": "execute_result"
    }
   ],
   "source": [
    "incoming = data_clean[data_clean['direction'] == 'in']\n",
    "incoming.head()"
   ]
  },
  {
   "cell_type": "code",
   "execution_count": 39,
   "metadata": {},
   "outputs": [
    {
     "data": {
      "text/plain": [
       "752"
      ]
     },
     "execution_count": 39,
     "metadata": {},
     "output_type": "execute_result"
    }
   ],
   "source": [
    "#numbers of operators who had incoming calls\n",
    "incoming['operator_id'].nunique(dropna=True)"
   ]
  },
  {
   "cell_type": "code",
   "execution_count": 40,
   "metadata": {},
   "outputs": [
    {
     "data": {
      "text/html": [
       "<div>\n",
       "<style scoped>\n",
       "    .dataframe tbody tr th:only-of-type {\n",
       "        vertical-align: middle;\n",
       "    }\n",
       "\n",
       "    .dataframe tbody tr th {\n",
       "        vertical-align: top;\n",
       "    }\n",
       "\n",
       "    .dataframe thead th {\n",
       "        text-align: right;\n",
       "    }\n",
       "</style>\n",
       "<table border=\"1\" class=\"dataframe\">\n",
       "  <thead>\n",
       "    <tr style=\"text-align: right;\">\n",
       "      <th></th>\n",
       "      <th>user_id</th>\n",
       "      <th>date</th>\n",
       "      <th>direction</th>\n",
       "      <th>internal</th>\n",
       "      <th>operator_id</th>\n",
       "      <th>is_missed_call</th>\n",
       "      <th>calls_count</th>\n",
       "      <th>call_duration</th>\n",
       "      <th>total_call_duration</th>\n",
       "      <th>waiting_time</th>\n",
       "    </tr>\n",
       "  </thead>\n",
       "  <tbody>\n",
       "    <tr>\n",
       "      <th>1</th>\n",
       "      <td>166377</td>\n",
       "      <td>2019-08-05</td>\n",
       "      <td>out</td>\n",
       "      <td>True</td>\n",
       "      <td>880022.0</td>\n",
       "      <td>True</td>\n",
       "      <td>3</td>\n",
       "      <td>0</td>\n",
       "      <td>5</td>\n",
       "      <td>5</td>\n",
       "    </tr>\n",
       "    <tr>\n",
       "      <th>2</th>\n",
       "      <td>166377</td>\n",
       "      <td>2019-08-05</td>\n",
       "      <td>out</td>\n",
       "      <td>True</td>\n",
       "      <td>880020.0</td>\n",
       "      <td>True</td>\n",
       "      <td>1</td>\n",
       "      <td>0</td>\n",
       "      <td>1</td>\n",
       "      <td>1</td>\n",
       "    </tr>\n",
       "    <tr>\n",
       "      <th>3</th>\n",
       "      <td>166377</td>\n",
       "      <td>2019-08-05</td>\n",
       "      <td>out</td>\n",
       "      <td>True</td>\n",
       "      <td>880020.0</td>\n",
       "      <td>False</td>\n",
       "      <td>1</td>\n",
       "      <td>10</td>\n",
       "      <td>18</td>\n",
       "      <td>8</td>\n",
       "    </tr>\n",
       "    <tr>\n",
       "      <th>4</th>\n",
       "      <td>166377</td>\n",
       "      <td>2019-08-05</td>\n",
       "      <td>out</td>\n",
       "      <td>False</td>\n",
       "      <td>880022.0</td>\n",
       "      <td>True</td>\n",
       "      <td>3</td>\n",
       "      <td>0</td>\n",
       "      <td>25</td>\n",
       "      <td>25</td>\n",
       "    </tr>\n",
       "    <tr>\n",
       "      <th>5</th>\n",
       "      <td>166377</td>\n",
       "      <td>2019-08-05</td>\n",
       "      <td>out</td>\n",
       "      <td>False</td>\n",
       "      <td>880020.0</td>\n",
       "      <td>False</td>\n",
       "      <td>2</td>\n",
       "      <td>3</td>\n",
       "      <td>29</td>\n",
       "      <td>26</td>\n",
       "    </tr>\n",
       "  </tbody>\n",
       "</table>\n",
       "</div>"
      ],
      "text/plain": [
       "   user_id       date direction  internal  operator_id  is_missed_call  \\\n",
       "1   166377 2019-08-05       out      True     880022.0            True   \n",
       "2   166377 2019-08-05       out      True     880020.0            True   \n",
       "3   166377 2019-08-05       out      True     880020.0           False   \n",
       "4   166377 2019-08-05       out     False     880022.0            True   \n",
       "5   166377 2019-08-05       out     False     880020.0           False   \n",
       "\n",
       "   calls_count  call_duration  total_call_duration  waiting_time  \n",
       "1            3              0                    5             5  \n",
       "2            1              0                    1             1  \n",
       "3            1             10                   18             8  \n",
       "4            3              0                   25            25  \n",
       "5            2              3                   29            26  "
      ]
     },
     "execution_count": 40,
     "metadata": {},
     "output_type": "execute_result"
    }
   ],
   "source": [
    "outgoing = data_clean[data_clean['direction'] == 'out']\n",
    "outgoing.head()"
   ]
  },
  {
   "cell_type": "code",
   "execution_count": 41,
   "metadata": {},
   "outputs": [
    {
     "data": {
      "text/plain": [
       "846"
      ]
     },
     "execution_count": 41,
     "metadata": {},
     "output_type": "execute_result"
    }
   ],
   "source": [
    "#numbers of operators who had outgoing calls\n",
    "outgoing['operator_id'].nunique(dropna=True)"
   ]
  },
  {
   "cell_type": "markdown",
   "metadata": {},
   "source": [
    "### Find average daily waiting time per operator (for incoming calls)"
   ]
  },
  {
   "cell_type": "code",
   "execution_count": 42,
   "metadata": {},
   "outputs": [
    {
     "data": {
      "text/html": [
       "<div>\n",
       "<style scoped>\n",
       "    .dataframe tbody tr th:only-of-type {\n",
       "        vertical-align: middle;\n",
       "    }\n",
       "\n",
       "    .dataframe tbody tr th {\n",
       "        vertical-align: top;\n",
       "    }\n",
       "\n",
       "    .dataframe thead th {\n",
       "        text-align: right;\n",
       "    }\n",
       "</style>\n",
       "<table border=\"1\" class=\"dataframe\">\n",
       "  <thead>\n",
       "    <tr style=\"text-align: right;\">\n",
       "      <th></th>\n",
       "      <th>operator_id</th>\n",
       "      <th>date</th>\n",
       "      <th>waiting_time</th>\n",
       "    </tr>\n",
       "  </thead>\n",
       "  <tbody>\n",
       "    <tr>\n",
       "      <th>0</th>\n",
       "      <td>879896.0</td>\n",
       "      <td>2019-08-03</td>\n",
       "      <td>9</td>\n",
       "    </tr>\n",
       "    <tr>\n",
       "      <th>1</th>\n",
       "      <td>879896.0</td>\n",
       "      <td>2019-08-05</td>\n",
       "      <td>10</td>\n",
       "    </tr>\n",
       "    <tr>\n",
       "      <th>2</th>\n",
       "      <td>879896.0</td>\n",
       "      <td>2019-08-06</td>\n",
       "      <td>39</td>\n",
       "    </tr>\n",
       "    <tr>\n",
       "      <th>3</th>\n",
       "      <td>879896.0</td>\n",
       "      <td>2019-08-08</td>\n",
       "      <td>6</td>\n",
       "    </tr>\n",
       "    <tr>\n",
       "      <th>4</th>\n",
       "      <td>879896.0</td>\n",
       "      <td>2019-08-09</td>\n",
       "      <td>5</td>\n",
       "    </tr>\n",
       "  </tbody>\n",
       "</table>\n",
       "</div>"
      ],
      "text/plain": [
       "   operator_id       date  waiting_time\n",
       "0     879896.0 2019-08-03             9\n",
       "1     879896.0 2019-08-05            10\n",
       "2     879896.0 2019-08-06            39\n",
       "3     879896.0 2019-08-08             6\n",
       "4     879896.0 2019-08-09             5"
      ]
     },
     "execution_count": 42,
     "metadata": {},
     "output_type": "execute_result"
    }
   ],
   "source": [
    "# sum the waiting time for every operator per date\n",
    "waiting_operator_date = incoming.groupby(['operator_id', 'date'])['waiting_time'].sum().reset_index()\n",
    "waiting_operator_date.head()"
   ]
  },
  {
   "cell_type": "code",
   "execution_count": 43,
   "metadata": {},
   "outputs": [
    {
     "data": {
      "text/html": [
       "<div>\n",
       "<style scoped>\n",
       "    .dataframe tbody tr th:only-of-type {\n",
       "        vertical-align: middle;\n",
       "    }\n",
       "\n",
       "    .dataframe tbody tr th {\n",
       "        vertical-align: top;\n",
       "    }\n",
       "\n",
       "    .dataframe thead th {\n",
       "        text-align: right;\n",
       "    }\n",
       "</style>\n",
       "<table border=\"1\" class=\"dataframe\">\n",
       "  <thead>\n",
       "    <tr style=\"text-align: right;\">\n",
       "      <th></th>\n",
       "      <th>operator_id</th>\n",
       "      <th>waiting_time</th>\n",
       "    </tr>\n",
       "  </thead>\n",
       "  <tbody>\n",
       "    <tr>\n",
       "      <th>0</th>\n",
       "      <td>879896.0</td>\n",
       "      <td>28.450000</td>\n",
       "    </tr>\n",
       "    <tr>\n",
       "      <th>1</th>\n",
       "      <td>879898.0</td>\n",
       "      <td>20.666667</td>\n",
       "    </tr>\n",
       "    <tr>\n",
       "      <th>2</th>\n",
       "      <td>880020.0</td>\n",
       "      <td>7.714286</td>\n",
       "    </tr>\n",
       "    <tr>\n",
       "      <th>3</th>\n",
       "      <td>880022.0</td>\n",
       "      <td>14.000000</td>\n",
       "    </tr>\n",
       "    <tr>\n",
       "      <th>4</th>\n",
       "      <td>880026.0</td>\n",
       "      <td>7.944444</td>\n",
       "    </tr>\n",
       "  </tbody>\n",
       "</table>\n",
       "</div>"
      ],
      "text/plain": [
       "   operator_id  waiting_time\n",
       "0     879896.0     28.450000\n",
       "1     879898.0     20.666667\n",
       "2     880020.0      7.714286\n",
       "3     880022.0     14.000000\n",
       "4     880026.0      7.944444"
      ]
     },
     "execution_count": 43,
     "metadata": {},
     "output_type": "execute_result"
    }
   ],
   "source": [
    "# find the daily average waiting time for every operator\n",
    "avg_waiting_operator = waiting_operator_date.groupby('operator_id')['waiting_time'].mean().reset_index()\n",
    "avg_waiting_operator.head()"
   ]
  },
  {
   "cell_type": "code",
   "execution_count": 44,
   "metadata": {},
   "outputs": [
    {
     "data": {
      "text/plain": [
       "count    752.000000\n",
       "mean      35.836223\n",
       "std       26.773715\n",
       "min        1.000000\n",
       "25%       17.000000\n",
       "50%       29.738636\n",
       "75%       48.000000\n",
       "max      180.000000\n",
       "Name: waiting_time, dtype: float64"
      ]
     },
     "execution_count": 44,
     "metadata": {},
     "output_type": "execute_result"
    }
   ],
   "source": [
    "avg_waiting_operator['waiting_time'].describe()"
   ]
  },
  {
   "cell_type": "code",
   "execution_count": 45,
   "metadata": {},
   "outputs": [
    {
     "data": {
      "image/png": "[encoded data removed]",
      "text/plain": [
       "<Figure size 576x432 with 1 Axes>"
      ]
     },
     "metadata": {
      "needs_background": "light"
     },
     "output_type": "display_data"
    }
   ],
   "source": [
    "plt.figure(figsize = (8,6));\n",
    "sns.histplot(data = avg_waiting_operator, x= 'waiting_time' );\n",
    "plt.title('Waiting Time Distribution');\n",
    "plt.show();"
   ]
  },
  {
   "cell_type": "code",
   "execution_count": 46,
   "metadata": {},
   "outputs": [
    {
     "data": {
      "text/plain": [
       "35.83622255320988"
      ]
     },
     "execution_count": 46,
     "metadata": {},
     "output_type": "execute_result"
    }
   ],
   "source": [
    "avg_waiting_operator['waiting_time'].mean()"
   ]
  },
  {
   "cell_type": "markdown",
   "metadata": {},
   "source": [
    "- as we can see, the distribution is a bit skewed\n",
    "- 50% of the operators have average daily waiting time for about 30 Seconds\n",
    "- as we have some high values the average is higher than the median with 35 Seconds\n",
    "- there are some operators with a high average daily waiting time reaching 180 Seconds"
   ]
  },
  {
   "cell_type": "code",
   "execution_count": 47,
   "metadata": {},
   "outputs": [
    {
     "data": {
      "text/plain": [
       "array([ 59.97      ,  71.6       ,  88.25756303,  93.09236364,\n",
       "       102.41      , 115.47933333, 123.76153846, 130.52444444,\n",
       "       173.241     ])"
      ]
     },
     "execution_count": 47,
     "metadata": {},
     "output_type": "execute_result"
    }
   ],
   "source": [
    "np.percentile(avg_waiting_operator['waiting_time'], [85, 90, 95, 96, 97, 98, 99, 99.5, 99.9])"
   ]
  },
  {
   "cell_type": "code",
   "execution_count": 48,
   "metadata": {
    "scrolled": false
   },
   "outputs": [
    {
     "data": {
      "text/html": [
       "<div>\n",
       "<style scoped>\n",
       "    .dataframe tbody tr th:only-of-type {\n",
       "        vertical-align: middle;\n",
       "    }\n",
       "\n",
       "    .dataframe tbody tr th {\n",
       "        vertical-align: top;\n",
       "    }\n",
       "\n",
       "    .dataframe thead th {\n",
       "        text-align: right;\n",
       "    }\n",
       "</style>\n",
       "<table border=\"1\" class=\"dataframe\">\n",
       "  <thead>\n",
       "    <tr style=\"text-align: right;\">\n",
       "      <th></th>\n",
       "      <th>user_id</th>\n",
       "      <th>date</th>\n",
       "      <th>direction</th>\n",
       "      <th>internal</th>\n",
       "      <th>operator_id</th>\n",
       "      <th>is_missed_call</th>\n",
       "      <th>calls_count</th>\n",
       "      <th>call_duration</th>\n",
       "      <th>total_call_duration</th>\n",
       "      <th>waiting_time</th>\n",
       "    </tr>\n",
       "  </thead>\n",
       "  <tbody>\n",
       "    <tr>\n",
       "      <th>1</th>\n",
       "      <td>166377</td>\n",
       "      <td>2019-08-05</td>\n",
       "      <td>out</td>\n",
       "      <td>True</td>\n",
       "      <td>880022.0</td>\n",
       "      <td>True</td>\n",
       "      <td>3</td>\n",
       "      <td>0</td>\n",
       "      <td>5</td>\n",
       "      <td>5</td>\n",
       "    </tr>\n",
       "    <tr>\n",
       "      <th>2</th>\n",
       "      <td>166377</td>\n",
       "      <td>2019-08-05</td>\n",
       "      <td>out</td>\n",
       "      <td>True</td>\n",
       "      <td>880020.0</td>\n",
       "      <td>True</td>\n",
       "      <td>1</td>\n",
       "      <td>0</td>\n",
       "      <td>1</td>\n",
       "      <td>1</td>\n",
       "    </tr>\n",
       "    <tr>\n",
       "      <th>3</th>\n",
       "      <td>166377</td>\n",
       "      <td>2019-08-05</td>\n",
       "      <td>out</td>\n",
       "      <td>True</td>\n",
       "      <td>880020.0</td>\n",
       "      <td>False</td>\n",
       "      <td>1</td>\n",
       "      <td>10</td>\n",
       "      <td>18</td>\n",
       "      <td>8</td>\n",
       "    </tr>\n",
       "    <tr>\n",
       "      <th>4</th>\n",
       "      <td>166377</td>\n",
       "      <td>2019-08-05</td>\n",
       "      <td>out</td>\n",
       "      <td>False</td>\n",
       "      <td>880022.0</td>\n",
       "      <td>True</td>\n",
       "      <td>3</td>\n",
       "      <td>0</td>\n",
       "      <td>25</td>\n",
       "      <td>25</td>\n",
       "    </tr>\n",
       "    <tr>\n",
       "      <th>5</th>\n",
       "      <td>166377</td>\n",
       "      <td>2019-08-05</td>\n",
       "      <td>out</td>\n",
       "      <td>False</td>\n",
       "      <td>880020.0</td>\n",
       "      <td>False</td>\n",
       "      <td>2</td>\n",
       "      <td>3</td>\n",
       "      <td>29</td>\n",
       "      <td>26</td>\n",
       "    </tr>\n",
       "  </tbody>\n",
       "</table>\n",
       "</div>"
      ],
      "text/plain": [
       "   user_id       date direction  internal  operator_id  is_missed_call  \\\n",
       "1   166377 2019-08-05       out      True     880022.0            True   \n",
       "2   166377 2019-08-05       out      True     880020.0            True   \n",
       "3   166377 2019-08-05       out      True     880020.0           False   \n",
       "4   166377 2019-08-05       out     False     880022.0            True   \n",
       "5   166377 2019-08-05       out     False     880020.0           False   \n",
       "\n",
       "   calls_count  call_duration  total_call_duration  waiting_time  \n",
       "1            3              0                    5             5  \n",
       "2            1              0                    1             1  \n",
       "3            1             10                   18             8  \n",
       "4            3              0                   25            25  \n",
       "5            2              3                   29            26  "
      ]
     },
     "execution_count": 48,
     "metadata": {},
     "output_type": "execute_result"
    }
   ],
   "source": [
    "data_clean.head()"
   ]
  },
  {
   "cell_type": "markdown",
   "metadata": {},
   "source": [
    "- to prepare for the next calculation we will make a new dataset that contains the values that we need.\n",
    "- we will start with the number of calls for the operators per date split into incoming / outgoind and answered / missed. \n",
    "- we will then create new caolumns for `total_calls`, `total_incoming_calls` and `total_outgoing_calls`\n",
    "- we will make then another dataset for the number of calls for the operators per date split into internal / external\n",
    "- after that we will join both datasetes together and with `waiting_operator_date` to have all aggregated information in one dataset\n",
    "- in the end we will create another 2 new columns for `percentage_outgoing_calls` and `percentage_external_calls`"
   ]
  },
  {
   "cell_type": "code",
   "execution_count": 49,
   "metadata": {
    "scrolled": false
   },
   "outputs": [
    {
     "data": {
      "text/html": [
       "<div>\n",
       "<style scoped>\n",
       "    .dataframe tbody tr th:only-of-type {\n",
       "        vertical-align: middle;\n",
       "    }\n",
       "\n",
       "    .dataframe tbody tr th {\n",
       "        vertical-align: top;\n",
       "    }\n",
       "\n",
       "    .dataframe thead tr th {\n",
       "        text-align: left;\n",
       "    }\n",
       "</style>\n",
       "<table border=\"1\" class=\"dataframe\">\n",
       "  <thead>\n",
       "    <tr>\n",
       "      <th>direction</th>\n",
       "      <th>operator_id</th>\n",
       "      <th>date</th>\n",
       "      <th colspan=\"2\" halign=\"left\">in</th>\n",
       "      <th colspan=\"2\" halign=\"left\">out</th>\n",
       "    </tr>\n",
       "    <tr>\n",
       "      <th>is_missed_call</th>\n",
       "      <th></th>\n",
       "      <th></th>\n",
       "      <th>False</th>\n",
       "      <th>True</th>\n",
       "      <th>False</th>\n",
       "      <th>True</th>\n",
       "    </tr>\n",
       "  </thead>\n",
       "  <tbody>\n",
       "    <tr>\n",
       "      <th>0</th>\n",
       "      <td>879896.0</td>\n",
       "      <td>2019-08-02</td>\n",
       "      <td>0.0</td>\n",
       "      <td>0.0</td>\n",
       "      <td>5.0</td>\n",
       "      <td>8.0</td>\n",
       "    </tr>\n",
       "    <tr>\n",
       "      <th>1</th>\n",
       "      <td>879896.0</td>\n",
       "      <td>2019-08-03</td>\n",
       "      <td>1.0</td>\n",
       "      <td>0.0</td>\n",
       "      <td>3.0</td>\n",
       "      <td>7.0</td>\n",
       "    </tr>\n",
       "    <tr>\n",
       "      <th>2</th>\n",
       "      <td>879896.0</td>\n",
       "      <td>2019-08-04</td>\n",
       "      <td>0.0</td>\n",
       "      <td>0.0</td>\n",
       "      <td>1.0</td>\n",
       "      <td>1.0</td>\n",
       "    </tr>\n",
       "    <tr>\n",
       "      <th>3</th>\n",
       "      <td>879896.0</td>\n",
       "      <td>2019-08-05</td>\n",
       "      <td>1.0</td>\n",
       "      <td>0.0</td>\n",
       "      <td>2.0</td>\n",
       "      <td>1.0</td>\n",
       "    </tr>\n",
       "    <tr>\n",
       "      <th>4</th>\n",
       "      <td>879896.0</td>\n",
       "      <td>2019-08-06</td>\n",
       "      <td>6.0</td>\n",
       "      <td>0.0</td>\n",
       "      <td>3.0</td>\n",
       "      <td>8.0</td>\n",
       "    </tr>\n",
       "    <tr>\n",
       "      <th>...</th>\n",
       "      <td>...</td>\n",
       "      <td>...</td>\n",
       "      <td>...</td>\n",
       "      <td>...</td>\n",
       "      <td>...</td>\n",
       "      <td>...</td>\n",
       "    </tr>\n",
       "    <tr>\n",
       "      <th>16294</th>\n",
       "      <td>972410.0</td>\n",
       "      <td>2019-11-27</td>\n",
       "      <td>0.0</td>\n",
       "      <td>0.0</td>\n",
       "      <td>0.0</td>\n",
       "      <td>11.0</td>\n",
       "    </tr>\n",
       "    <tr>\n",
       "      <th>16295</th>\n",
       "      <td>972412.0</td>\n",
       "      <td>2019-11-27</td>\n",
       "      <td>1.0</td>\n",
       "      <td>0.0</td>\n",
       "      <td>0.0</td>\n",
       "      <td>0.0</td>\n",
       "    </tr>\n",
       "    <tr>\n",
       "      <th>16296</th>\n",
       "      <td>972460.0</td>\n",
       "      <td>2019-11-27</td>\n",
       "      <td>1.0</td>\n",
       "      <td>0.0</td>\n",
       "      <td>4.0</td>\n",
       "      <td>7.0</td>\n",
       "    </tr>\n",
       "    <tr>\n",
       "      <th>16297</th>\n",
       "      <td>973120.0</td>\n",
       "      <td>2019-11-27</td>\n",
       "      <td>0.0</td>\n",
       "      <td>0.0</td>\n",
       "      <td>1.0</td>\n",
       "      <td>2.0</td>\n",
       "    </tr>\n",
       "    <tr>\n",
       "      <th>16298</th>\n",
       "      <td>973286.0</td>\n",
       "      <td>2019-11-28</td>\n",
       "      <td>2.0</td>\n",
       "      <td>0.0</td>\n",
       "      <td>0.0</td>\n",
       "      <td>0.0</td>\n",
       "    </tr>\n",
       "  </tbody>\n",
       "</table>\n",
       "<p>16299 rows × 6 columns</p>\n",
       "</div>"
      ],
      "text/plain": [
       "direction      operator_id       date    in        out      \n",
       "is_missed_call                        False True False  True\n",
       "0                 879896.0 2019-08-02   0.0  0.0   5.0   8.0\n",
       "1                 879896.0 2019-08-03   1.0  0.0   3.0   7.0\n",
       "2                 879896.0 2019-08-04   0.0  0.0   1.0   1.0\n",
       "3                 879896.0 2019-08-05   1.0  0.0   2.0   1.0\n",
       "4                 879896.0 2019-08-06   6.0  0.0   3.0   8.0\n",
       "...                    ...        ...   ...  ...   ...   ...\n",
       "16294             972410.0 2019-11-27   0.0  0.0   0.0  11.0\n",
       "16295             972412.0 2019-11-27   1.0  0.0   0.0   0.0\n",
       "16296             972460.0 2019-11-27   1.0  0.0   4.0   7.0\n",
       "16297             973120.0 2019-11-27   0.0  0.0   1.0   2.0\n",
       "16298             973286.0 2019-11-28   2.0  0.0   0.0   0.0\n",
       "\n",
       "[16299 rows x 6 columns]"
      ]
     },
     "execution_count": 49,
     "metadata": {},
     "output_type": "execute_result"
    }
   ],
   "source": [
    "# number of calls for the operators per date split into incoming / outgoind and answered / missed\n",
    "calls_operator = data_clean.pivot_table(index = ['operator_id', 'date'], columns= ['direction', 'is_missed_call'] , values='calls_count', aggfunc='sum').reset_index().fillna(0)\n",
    "calls_operator"
   ]
  },
  {
   "cell_type": "code",
   "execution_count": 50,
   "metadata": {},
   "outputs": [
    {
     "data": {
      "text/html": [
       "<div>\n",
       "<style scoped>\n",
       "    .dataframe tbody tr th:only-of-type {\n",
       "        vertical-align: middle;\n",
       "    }\n",
       "\n",
       "    .dataframe tbody tr th {\n",
       "        vertical-align: top;\n",
       "    }\n",
       "\n",
       "    .dataframe thead th {\n",
       "        text-align: right;\n",
       "    }\n",
       "</style>\n",
       "<table border=\"1\" class=\"dataframe\">\n",
       "  <thead>\n",
       "    <tr style=\"text-align: right;\">\n",
       "      <th></th>\n",
       "      <th>operator_id</th>\n",
       "      <th>date</th>\n",
       "      <th>in_answered</th>\n",
       "      <th>in_missed</th>\n",
       "      <th>out_answered</th>\n",
       "      <th>out_missed</th>\n",
       "    </tr>\n",
       "  </thead>\n",
       "  <tbody>\n",
       "    <tr>\n",
       "      <th>0</th>\n",
       "      <td>879896.0</td>\n",
       "      <td>2019-08-02</td>\n",
       "      <td>0.0</td>\n",
       "      <td>0.0</td>\n",
       "      <td>5.0</td>\n",
       "      <td>8.0</td>\n",
       "    </tr>\n",
       "    <tr>\n",
       "      <th>1</th>\n",
       "      <td>879896.0</td>\n",
       "      <td>2019-08-03</td>\n",
       "      <td>1.0</td>\n",
       "      <td>0.0</td>\n",
       "      <td>3.0</td>\n",
       "      <td>7.0</td>\n",
       "    </tr>\n",
       "    <tr>\n",
       "      <th>2</th>\n",
       "      <td>879896.0</td>\n",
       "      <td>2019-08-04</td>\n",
       "      <td>0.0</td>\n",
       "      <td>0.0</td>\n",
       "      <td>1.0</td>\n",
       "      <td>1.0</td>\n",
       "    </tr>\n",
       "    <tr>\n",
       "      <th>3</th>\n",
       "      <td>879896.0</td>\n",
       "      <td>2019-08-05</td>\n",
       "      <td>1.0</td>\n",
       "      <td>0.0</td>\n",
       "      <td>2.0</td>\n",
       "      <td>1.0</td>\n",
       "    </tr>\n",
       "    <tr>\n",
       "      <th>4</th>\n",
       "      <td>879896.0</td>\n",
       "      <td>2019-08-06</td>\n",
       "      <td>6.0</td>\n",
       "      <td>0.0</td>\n",
       "      <td>3.0</td>\n",
       "      <td>8.0</td>\n",
       "    </tr>\n",
       "  </tbody>\n",
       "</table>\n",
       "</div>"
      ],
      "text/plain": [
       "   operator_id       date  in_answered  in_missed  out_answered  out_missed\n",
       "0     879896.0 2019-08-02          0.0        0.0           5.0         8.0\n",
       "1     879896.0 2019-08-03          1.0        0.0           3.0         7.0\n",
       "2     879896.0 2019-08-04          0.0        0.0           1.0         1.0\n",
       "3     879896.0 2019-08-05          1.0        0.0           2.0         1.0\n",
       "4     879896.0 2019-08-06          6.0        0.0           3.0         8.0"
      ]
     },
     "execution_count": 50,
     "metadata": {},
     "output_type": "execute_result"
    }
   ],
   "source": [
    "# renaming the columns\n",
    "calls_operator.columns = ['operator_id', 'date', 'in_answered', 'in_missed', 'out_answered', 'out_missed']\n",
    "calls_operator.head()"
   ]
  },
  {
   "cell_type": "code",
   "execution_count": 51,
   "metadata": {},
   "outputs": [
    {
     "data": {
      "text/html": [
       "<div>\n",
       "<style scoped>\n",
       "    .dataframe tbody tr th:only-of-type {\n",
       "        vertical-align: middle;\n",
       "    }\n",
       "\n",
       "    .dataframe tbody tr th {\n",
       "        vertical-align: top;\n",
       "    }\n",
       "\n",
       "    .dataframe thead th {\n",
       "        text-align: right;\n",
       "    }\n",
       "</style>\n",
       "<table border=\"1\" class=\"dataframe\">\n",
       "  <thead>\n",
       "    <tr style=\"text-align: right;\">\n",
       "      <th></th>\n",
       "      <th>operator_id</th>\n",
       "      <th>date</th>\n",
       "      <th>in_answered</th>\n",
       "      <th>in_missed</th>\n",
       "      <th>out_answered</th>\n",
       "      <th>out_missed</th>\n",
       "      <th>total_calls</th>\n",
       "      <th>incoming_calls</th>\n",
       "      <th>outgoing_calls</th>\n",
       "    </tr>\n",
       "  </thead>\n",
       "  <tbody>\n",
       "    <tr>\n",
       "      <th>0</th>\n",
       "      <td>879896.0</td>\n",
       "      <td>2019-08-02</td>\n",
       "      <td>0.0</td>\n",
       "      <td>0.0</td>\n",
       "      <td>5.0</td>\n",
       "      <td>8.0</td>\n",
       "      <td>13.0</td>\n",
       "      <td>0.0</td>\n",
       "      <td>13.0</td>\n",
       "    </tr>\n",
       "    <tr>\n",
       "      <th>1</th>\n",
       "      <td>879896.0</td>\n",
       "      <td>2019-08-03</td>\n",
       "      <td>1.0</td>\n",
       "      <td>0.0</td>\n",
       "      <td>3.0</td>\n",
       "      <td>7.0</td>\n",
       "      <td>11.0</td>\n",
       "      <td>1.0</td>\n",
       "      <td>10.0</td>\n",
       "    </tr>\n",
       "    <tr>\n",
       "      <th>2</th>\n",
       "      <td>879896.0</td>\n",
       "      <td>2019-08-04</td>\n",
       "      <td>0.0</td>\n",
       "      <td>0.0</td>\n",
       "      <td>1.0</td>\n",
       "      <td>1.0</td>\n",
       "      <td>2.0</td>\n",
       "      <td>0.0</td>\n",
       "      <td>2.0</td>\n",
       "    </tr>\n",
       "    <tr>\n",
       "      <th>3</th>\n",
       "      <td>879896.0</td>\n",
       "      <td>2019-08-05</td>\n",
       "      <td>1.0</td>\n",
       "      <td>0.0</td>\n",
       "      <td>2.0</td>\n",
       "      <td>1.0</td>\n",
       "      <td>4.0</td>\n",
       "      <td>1.0</td>\n",
       "      <td>3.0</td>\n",
       "    </tr>\n",
       "    <tr>\n",
       "      <th>4</th>\n",
       "      <td>879896.0</td>\n",
       "      <td>2019-08-06</td>\n",
       "      <td>6.0</td>\n",
       "      <td>0.0</td>\n",
       "      <td>3.0</td>\n",
       "      <td>8.0</td>\n",
       "      <td>17.0</td>\n",
       "      <td>6.0</td>\n",
       "      <td>11.0</td>\n",
       "    </tr>\n",
       "  </tbody>\n",
       "</table>\n",
       "</div>"
      ],
      "text/plain": [
       "   operator_id       date  in_answered  in_missed  out_answered  out_missed  \\\n",
       "0     879896.0 2019-08-02          0.0        0.0           5.0         8.0   \n",
       "1     879896.0 2019-08-03          1.0        0.0           3.0         7.0   \n",
       "2     879896.0 2019-08-04          0.0        0.0           1.0         1.0   \n",
       "3     879896.0 2019-08-05          1.0        0.0           2.0         1.0   \n",
       "4     879896.0 2019-08-06          6.0        0.0           3.0         8.0   \n",
       "\n",
       "   total_calls  incoming_calls  outgoing_calls  \n",
       "0         13.0             0.0            13.0  \n",
       "1         11.0             1.0            10.0  \n",
       "2          2.0             0.0             2.0  \n",
       "3          4.0             1.0             3.0  \n",
       "4         17.0             6.0            11.0  "
      ]
     },
     "execution_count": 51,
     "metadata": {},
     "output_type": "execute_result"
    }
   ],
   "source": [
    "# creating new columns\n",
    "calls_operator['total_calls'] = calls_operator['in_answered'] + calls_operator['in_missed'] + calls_operator['out_answered'] + calls_operator['out_missed']\n",
    "calls_operator['incoming_calls'] = calls_operator['in_answered'] + calls_operator['in_missed']\n",
    "calls_operator['outgoing_calls'] = calls_operator['out_answered'] + calls_operator['out_missed']\n",
    "calls_operator.head()"
   ]
  },
  {
   "cell_type": "code",
   "execution_count": 52,
   "metadata": {},
   "outputs": [
    {
     "data": {
      "text/html": [
       "<div>\n",
       "<style scoped>\n",
       "    .dataframe tbody tr th:only-of-type {\n",
       "        vertical-align: middle;\n",
       "    }\n",
       "\n",
       "    .dataframe tbody tr th {\n",
       "        vertical-align: top;\n",
       "    }\n",
       "\n",
       "    .dataframe thead th {\n",
       "        text-align: right;\n",
       "    }\n",
       "</style>\n",
       "<table border=\"1\" class=\"dataframe\">\n",
       "  <thead>\n",
       "    <tr style=\"text-align: right;\">\n",
       "      <th>internal</th>\n",
       "      <th>operator_id</th>\n",
       "      <th>date</th>\n",
       "      <th>False</th>\n",
       "      <th>True</th>\n",
       "    </tr>\n",
       "  </thead>\n",
       "  <tbody>\n",
       "    <tr>\n",
       "      <th>0</th>\n",
       "      <td>879896.0</td>\n",
       "      <td>2019-08-02</td>\n",
       "      <td>11.0</td>\n",
       "      <td>2.0</td>\n",
       "    </tr>\n",
       "    <tr>\n",
       "      <th>1</th>\n",
       "      <td>879896.0</td>\n",
       "      <td>2019-08-03</td>\n",
       "      <td>11.0</td>\n",
       "      <td>0.0</td>\n",
       "    </tr>\n",
       "    <tr>\n",
       "      <th>2</th>\n",
       "      <td>879896.0</td>\n",
       "      <td>2019-08-04</td>\n",
       "      <td>2.0</td>\n",
       "      <td>0.0</td>\n",
       "    </tr>\n",
       "    <tr>\n",
       "      <th>3</th>\n",
       "      <td>879896.0</td>\n",
       "      <td>2019-08-05</td>\n",
       "      <td>2.0</td>\n",
       "      <td>2.0</td>\n",
       "    </tr>\n",
       "    <tr>\n",
       "      <th>4</th>\n",
       "      <td>879896.0</td>\n",
       "      <td>2019-08-06</td>\n",
       "      <td>13.0</td>\n",
       "      <td>4.0</td>\n",
       "    </tr>\n",
       "    <tr>\n",
       "      <th>...</th>\n",
       "      <td>...</td>\n",
       "      <td>...</td>\n",
       "      <td>...</td>\n",
       "      <td>...</td>\n",
       "    </tr>\n",
       "    <tr>\n",
       "      <th>16294</th>\n",
       "      <td>972410.0</td>\n",
       "      <td>2019-11-27</td>\n",
       "      <td>11.0</td>\n",
       "      <td>0.0</td>\n",
       "    </tr>\n",
       "    <tr>\n",
       "      <th>16295</th>\n",
       "      <td>972412.0</td>\n",
       "      <td>2019-11-27</td>\n",
       "      <td>1.0</td>\n",
       "      <td>0.0</td>\n",
       "    </tr>\n",
       "    <tr>\n",
       "      <th>16296</th>\n",
       "      <td>972460.0</td>\n",
       "      <td>2019-11-27</td>\n",
       "      <td>9.0</td>\n",
       "      <td>3.0</td>\n",
       "    </tr>\n",
       "    <tr>\n",
       "      <th>16297</th>\n",
       "      <td>973120.0</td>\n",
       "      <td>2019-11-27</td>\n",
       "      <td>3.0</td>\n",
       "      <td>0.0</td>\n",
       "    </tr>\n",
       "    <tr>\n",
       "      <th>16298</th>\n",
       "      <td>973286.0</td>\n",
       "      <td>2019-11-28</td>\n",
       "      <td>2.0</td>\n",
       "      <td>0.0</td>\n",
       "    </tr>\n",
       "  </tbody>\n",
       "</table>\n",
       "<p>16299 rows × 4 columns</p>\n",
       "</div>"
      ],
      "text/plain": [
       "internal  operator_id       date  False  True\n",
       "0            879896.0 2019-08-02   11.0   2.0\n",
       "1            879896.0 2019-08-03   11.0   0.0\n",
       "2            879896.0 2019-08-04    2.0   0.0\n",
       "3            879896.0 2019-08-05    2.0   2.0\n",
       "4            879896.0 2019-08-06   13.0   4.0\n",
       "...               ...        ...    ...   ...\n",
       "16294        972410.0 2019-11-27   11.0   0.0\n",
       "16295        972412.0 2019-11-27    1.0   0.0\n",
       "16296        972460.0 2019-11-27    9.0   3.0\n",
       "16297        973120.0 2019-11-27    3.0   0.0\n",
       "16298        973286.0 2019-11-28    2.0   0.0\n",
       "\n",
       "[16299 rows x 4 columns]"
      ]
     },
     "execution_count": 52,
     "metadata": {},
     "output_type": "execute_result"
    }
   ],
   "source": [
    "# number of calls for the operators per date split into internal / external\n",
    "internal_external = data_clean.pivot_table(index = ['operator_id', 'date'], columns= ['internal'] , values='calls_count', aggfunc='sum').reset_index().fillna(0)\n",
    "internal_external"
   ]
  },
  {
   "cell_type": "code",
   "execution_count": 53,
   "metadata": {},
   "outputs": [
    {
     "data": {
      "text/html": [
       "<div>\n",
       "<style scoped>\n",
       "    .dataframe tbody tr th:only-of-type {\n",
       "        vertical-align: middle;\n",
       "    }\n",
       "\n",
       "    .dataframe tbody tr th {\n",
       "        vertical-align: top;\n",
       "    }\n",
       "\n",
       "    .dataframe thead th {\n",
       "        text-align: right;\n",
       "    }\n",
       "</style>\n",
       "<table border=\"1\" class=\"dataframe\">\n",
       "  <thead>\n",
       "    <tr style=\"text-align: right;\">\n",
       "      <th></th>\n",
       "      <th>operator_id</th>\n",
       "      <th>date</th>\n",
       "      <th>internal_calls</th>\n",
       "      <th>external_calls</th>\n",
       "    </tr>\n",
       "  </thead>\n",
       "  <tbody>\n",
       "    <tr>\n",
       "      <th>0</th>\n",
       "      <td>879896.0</td>\n",
       "      <td>2019-08-02</td>\n",
       "      <td>11.0</td>\n",
       "      <td>2.0</td>\n",
       "    </tr>\n",
       "    <tr>\n",
       "      <th>1</th>\n",
       "      <td>879896.0</td>\n",
       "      <td>2019-08-03</td>\n",
       "      <td>11.0</td>\n",
       "      <td>0.0</td>\n",
       "    </tr>\n",
       "    <tr>\n",
       "      <th>2</th>\n",
       "      <td>879896.0</td>\n",
       "      <td>2019-08-04</td>\n",
       "      <td>2.0</td>\n",
       "      <td>0.0</td>\n",
       "    </tr>\n",
       "    <tr>\n",
       "      <th>3</th>\n",
       "      <td>879896.0</td>\n",
       "      <td>2019-08-05</td>\n",
       "      <td>2.0</td>\n",
       "      <td>2.0</td>\n",
       "    </tr>\n",
       "    <tr>\n",
       "      <th>4</th>\n",
       "      <td>879896.0</td>\n",
       "      <td>2019-08-06</td>\n",
       "      <td>13.0</td>\n",
       "      <td>4.0</td>\n",
       "    </tr>\n",
       "  </tbody>\n",
       "</table>\n",
       "</div>"
      ],
      "text/plain": [
       "   operator_id       date  internal_calls  external_calls\n",
       "0     879896.0 2019-08-02            11.0             2.0\n",
       "1     879896.0 2019-08-03            11.0             0.0\n",
       "2     879896.0 2019-08-04             2.0             0.0\n",
       "3     879896.0 2019-08-05             2.0             2.0\n",
       "4     879896.0 2019-08-06            13.0             4.0"
      ]
     },
     "execution_count": 53,
     "metadata": {},
     "output_type": "execute_result"
    }
   ],
   "source": [
    "# renaming the columns\n",
    "internal_external.columns = ['operator_id', 'date', 'internal_calls', 'external_calls']\n",
    "internal_external.head()"
   ]
  },
  {
   "cell_type": "code",
   "execution_count": 54,
   "metadata": {},
   "outputs": [
    {
     "data": {
      "text/html": [
       "<div>\n",
       "<style scoped>\n",
       "    .dataframe tbody tr th:only-of-type {\n",
       "        vertical-align: middle;\n",
       "    }\n",
       "\n",
       "    .dataframe tbody tr th {\n",
       "        vertical-align: top;\n",
       "    }\n",
       "\n",
       "    .dataframe thead th {\n",
       "        text-align: right;\n",
       "    }\n",
       "</style>\n",
       "<table border=\"1\" class=\"dataframe\">\n",
       "  <thead>\n",
       "    <tr style=\"text-align: right;\">\n",
       "      <th></th>\n",
       "      <th>operator_id</th>\n",
       "      <th>date</th>\n",
       "      <th>waiting_time</th>\n",
       "      <th>in_answered</th>\n",
       "      <th>in_missed</th>\n",
       "      <th>out_answered</th>\n",
       "      <th>out_missed</th>\n",
       "      <th>total_calls</th>\n",
       "      <th>incoming_calls</th>\n",
       "      <th>outgoing_calls</th>\n",
       "      <th>internal_calls</th>\n",
       "      <th>external_calls</th>\n",
       "    </tr>\n",
       "  </thead>\n",
       "  <tbody>\n",
       "    <tr>\n",
       "      <th>0</th>\n",
       "      <td>879896.0</td>\n",
       "      <td>2019-08-02</td>\n",
       "      <td>NaN</td>\n",
       "      <td>0.0</td>\n",
       "      <td>0.0</td>\n",
       "      <td>5.0</td>\n",
       "      <td>8.0</td>\n",
       "      <td>13.0</td>\n",
       "      <td>0.0</td>\n",
       "      <td>13.0</td>\n",
       "      <td>11.0</td>\n",
       "      <td>2.0</td>\n",
       "    </tr>\n",
       "    <tr>\n",
       "      <th>1</th>\n",
       "      <td>879896.0</td>\n",
       "      <td>2019-08-03</td>\n",
       "      <td>9.0</td>\n",
       "      <td>1.0</td>\n",
       "      <td>0.0</td>\n",
       "      <td>3.0</td>\n",
       "      <td>7.0</td>\n",
       "      <td>11.0</td>\n",
       "      <td>1.0</td>\n",
       "      <td>10.0</td>\n",
       "      <td>11.0</td>\n",
       "      <td>0.0</td>\n",
       "    </tr>\n",
       "    <tr>\n",
       "      <th>2</th>\n",
       "      <td>879896.0</td>\n",
       "      <td>2019-08-04</td>\n",
       "      <td>NaN</td>\n",
       "      <td>0.0</td>\n",
       "      <td>0.0</td>\n",
       "      <td>1.0</td>\n",
       "      <td>1.0</td>\n",
       "      <td>2.0</td>\n",
       "      <td>0.0</td>\n",
       "      <td>2.0</td>\n",
       "      <td>2.0</td>\n",
       "      <td>0.0</td>\n",
       "    </tr>\n",
       "    <tr>\n",
       "      <th>3</th>\n",
       "      <td>879896.0</td>\n",
       "      <td>2019-08-05</td>\n",
       "      <td>10.0</td>\n",
       "      <td>1.0</td>\n",
       "      <td>0.0</td>\n",
       "      <td>2.0</td>\n",
       "      <td>1.0</td>\n",
       "      <td>4.0</td>\n",
       "      <td>1.0</td>\n",
       "      <td>3.0</td>\n",
       "      <td>2.0</td>\n",
       "      <td>2.0</td>\n",
       "    </tr>\n",
       "    <tr>\n",
       "      <th>4</th>\n",
       "      <td>879896.0</td>\n",
       "      <td>2019-08-06</td>\n",
       "      <td>39.0</td>\n",
       "      <td>6.0</td>\n",
       "      <td>0.0</td>\n",
       "      <td>3.0</td>\n",
       "      <td>8.0</td>\n",
       "      <td>17.0</td>\n",
       "      <td>6.0</td>\n",
       "      <td>11.0</td>\n",
       "      <td>13.0</td>\n",
       "      <td>4.0</td>\n",
       "    </tr>\n",
       "  </tbody>\n",
       "</table>\n",
       "</div>"
      ],
      "text/plain": [
       "   operator_id       date  waiting_time  in_answered  in_missed  out_answered  \\\n",
       "0     879896.0 2019-08-02           NaN          0.0        0.0           5.0   \n",
       "1     879896.0 2019-08-03           9.0          1.0        0.0           3.0   \n",
       "2     879896.0 2019-08-04           NaN          0.0        0.0           1.0   \n",
       "3     879896.0 2019-08-05          10.0          1.0        0.0           2.0   \n",
       "4     879896.0 2019-08-06          39.0          6.0        0.0           3.0   \n",
       "\n",
       "   out_missed  total_calls  incoming_calls  outgoing_calls  internal_calls  \\\n",
       "0         8.0         13.0             0.0            13.0            11.0   \n",
       "1         7.0         11.0             1.0            10.0            11.0   \n",
       "2         1.0          2.0             0.0             2.0             2.0   \n",
       "3         1.0          4.0             1.0             3.0             2.0   \n",
       "4         8.0         17.0             6.0            11.0            13.0   \n",
       "\n",
       "   external_calls  \n",
       "0             2.0  \n",
       "1             0.0  \n",
       "2             0.0  \n",
       "3             2.0  \n",
       "4             4.0  "
      ]
     },
     "execution_count": 54,
     "metadata": {},
     "output_type": "execute_result"
    }
   ],
   "source": [
    "# merging all datasets\n",
    "final = pd.merge(left = waiting_operator_date, right= calls_operator , left_on= ['operator_id', 'date'], right_on= ['operator_id', 'date'], how= 'right')\n",
    "final = pd.merge(left = final, right= internal_external , left_on= ['operator_id', 'date'], right_on= ['operator_id', 'date'], how= 'left')\n",
    "final.head()"
   ]
  },
  {
   "cell_type": "code",
   "execution_count": 55,
   "metadata": {},
   "outputs": [
    {
     "data": {
      "text/html": [
       "<div>\n",
       "<style scoped>\n",
       "    .dataframe tbody tr th:only-of-type {\n",
       "        vertical-align: middle;\n",
       "    }\n",
       "\n",
       "    .dataframe tbody tr th {\n",
       "        vertical-align: top;\n",
       "    }\n",
       "\n",
       "    .dataframe thead th {\n",
       "        text-align: right;\n",
       "    }\n",
       "</style>\n",
       "<table border=\"1\" class=\"dataframe\">\n",
       "  <thead>\n",
       "    <tr style=\"text-align: right;\">\n",
       "      <th></th>\n",
       "      <th>operator_id</th>\n",
       "      <th>date</th>\n",
       "      <th>waiting_time</th>\n",
       "      <th>in_answered</th>\n",
       "      <th>in_missed</th>\n",
       "      <th>out_answered</th>\n",
       "      <th>out_missed</th>\n",
       "      <th>total_calls</th>\n",
       "      <th>incoming_calls</th>\n",
       "      <th>outgoing_calls</th>\n",
       "      <th>internal_calls</th>\n",
       "      <th>external_calls</th>\n",
       "      <th>ext_pct</th>\n",
       "      <th>out_pct</th>\n",
       "    </tr>\n",
       "  </thead>\n",
       "  <tbody>\n",
       "    <tr>\n",
       "      <th>0</th>\n",
       "      <td>879896.0</td>\n",
       "      <td>2019-08-02</td>\n",
       "      <td>NaN</td>\n",
       "      <td>0.0</td>\n",
       "      <td>0.0</td>\n",
       "      <td>5.0</td>\n",
       "      <td>8.0</td>\n",
       "      <td>13.0</td>\n",
       "      <td>0.0</td>\n",
       "      <td>13.0</td>\n",
       "      <td>11.0</td>\n",
       "      <td>2.0</td>\n",
       "      <td>15.384615</td>\n",
       "      <td>100.000000</td>\n",
       "    </tr>\n",
       "    <tr>\n",
       "      <th>1</th>\n",
       "      <td>879896.0</td>\n",
       "      <td>2019-08-03</td>\n",
       "      <td>9.0</td>\n",
       "      <td>1.0</td>\n",
       "      <td>0.0</td>\n",
       "      <td>3.0</td>\n",
       "      <td>7.0</td>\n",
       "      <td>11.0</td>\n",
       "      <td>1.0</td>\n",
       "      <td>10.0</td>\n",
       "      <td>11.0</td>\n",
       "      <td>0.0</td>\n",
       "      <td>0.000000</td>\n",
       "      <td>90.909091</td>\n",
       "    </tr>\n",
       "    <tr>\n",
       "      <th>2</th>\n",
       "      <td>879896.0</td>\n",
       "      <td>2019-08-04</td>\n",
       "      <td>NaN</td>\n",
       "      <td>0.0</td>\n",
       "      <td>0.0</td>\n",
       "      <td>1.0</td>\n",
       "      <td>1.0</td>\n",
       "      <td>2.0</td>\n",
       "      <td>0.0</td>\n",
       "      <td>2.0</td>\n",
       "      <td>2.0</td>\n",
       "      <td>0.0</td>\n",
       "      <td>0.000000</td>\n",
       "      <td>100.000000</td>\n",
       "    </tr>\n",
       "    <tr>\n",
       "      <th>3</th>\n",
       "      <td>879896.0</td>\n",
       "      <td>2019-08-05</td>\n",
       "      <td>10.0</td>\n",
       "      <td>1.0</td>\n",
       "      <td>0.0</td>\n",
       "      <td>2.0</td>\n",
       "      <td>1.0</td>\n",
       "      <td>4.0</td>\n",
       "      <td>1.0</td>\n",
       "      <td>3.0</td>\n",
       "      <td>2.0</td>\n",
       "      <td>2.0</td>\n",
       "      <td>50.000000</td>\n",
       "      <td>75.000000</td>\n",
       "    </tr>\n",
       "    <tr>\n",
       "      <th>4</th>\n",
       "      <td>879896.0</td>\n",
       "      <td>2019-08-06</td>\n",
       "      <td>39.0</td>\n",
       "      <td>6.0</td>\n",
       "      <td>0.0</td>\n",
       "      <td>3.0</td>\n",
       "      <td>8.0</td>\n",
       "      <td>17.0</td>\n",
       "      <td>6.0</td>\n",
       "      <td>11.0</td>\n",
       "      <td>13.0</td>\n",
       "      <td>4.0</td>\n",
       "      <td>23.529412</td>\n",
       "      <td>64.705882</td>\n",
       "    </tr>\n",
       "  </tbody>\n",
       "</table>\n",
       "</div>"
      ],
      "text/plain": [
       "   operator_id       date  waiting_time  in_answered  in_missed  out_answered  \\\n",
       "0     879896.0 2019-08-02           NaN          0.0        0.0           5.0   \n",
       "1     879896.0 2019-08-03           9.0          1.0        0.0           3.0   \n",
       "2     879896.0 2019-08-04           NaN          0.0        0.0           1.0   \n",
       "3     879896.0 2019-08-05          10.0          1.0        0.0           2.0   \n",
       "4     879896.0 2019-08-06          39.0          6.0        0.0           3.0   \n",
       "\n",
       "   out_missed  total_calls  incoming_calls  outgoing_calls  internal_calls  \\\n",
       "0         8.0         13.0             0.0            13.0            11.0   \n",
       "1         7.0         11.0             1.0            10.0            11.0   \n",
       "2         1.0          2.0             0.0             2.0             2.0   \n",
       "3         1.0          4.0             1.0             3.0             2.0   \n",
       "4         8.0         17.0             6.0            11.0            13.0   \n",
       "\n",
       "   external_calls    ext_pct     out_pct  \n",
       "0             2.0  15.384615  100.000000  \n",
       "1             0.0   0.000000   90.909091  \n",
       "2             0.0   0.000000  100.000000  \n",
       "3             2.0  50.000000   75.000000  \n",
       "4             4.0  23.529412   64.705882  "
      ]
     },
     "execution_count": 55,
     "metadata": {},
     "output_type": "execute_result"
    }
   ],
   "source": [
    "# creating the last 2 new columns\n",
    "final['ext_pct'] = (final['external_calls'] / final['total_calls']) *100\n",
    "final['out_pct'] = (final['outgoing_calls'] / final['total_calls']) *100\n",
    "final.head()"
   ]
  },
  {
   "cell_type": "markdown",
   "metadata": {},
   "source": [
    "now that all information is ready we will continue with the study"
   ]
  },
  {
   "cell_type": "markdown",
   "metadata": {},
   "source": [
    "### Find average daily missed calls per operator (for incoming calls)"
   ]
  },
  {
   "cell_type": "markdown",
   "metadata": {},
   "source": [
    "- as we are intenrested only in the incoming missed calls so we will study only the operators and entries who had incoming calls and then we will find the daily average for every operator"
   ]
  },
  {
   "cell_type": "code",
   "execution_count": 56,
   "metadata": {},
   "outputs": [
    {
     "data": {
      "text/html": [
       "<div>\n",
       "<style scoped>\n",
       "    .dataframe tbody tr th:only-of-type {\n",
       "        vertical-align: middle;\n",
       "    }\n",
       "\n",
       "    .dataframe tbody tr th {\n",
       "        vertical-align: top;\n",
       "    }\n",
       "\n",
       "    .dataframe thead th {\n",
       "        text-align: right;\n",
       "    }\n",
       "</style>\n",
       "<table border=\"1\" class=\"dataframe\">\n",
       "  <thead>\n",
       "    <tr style=\"text-align: right;\">\n",
       "      <th></th>\n",
       "      <th>operator_id</th>\n",
       "      <th>in_missed</th>\n",
       "      <th>incoming_calls</th>\n",
       "    </tr>\n",
       "  </thead>\n",
       "  <tbody>\n",
       "    <tr>\n",
       "      <th>0</th>\n",
       "      <td>879896.0</td>\n",
       "      <td>0.0</td>\n",
       "      <td>2.850000</td>\n",
       "    </tr>\n",
       "    <tr>\n",
       "      <th>1</th>\n",
       "      <td>879898.0</td>\n",
       "      <td>0.0</td>\n",
       "      <td>1.759259</td>\n",
       "    </tr>\n",
       "    <tr>\n",
       "      <th>2</th>\n",
       "      <td>880020.0</td>\n",
       "      <td>0.0</td>\n",
       "      <td>1.000000</td>\n",
       "    </tr>\n",
       "    <tr>\n",
       "      <th>3</th>\n",
       "      <td>880022.0</td>\n",
       "      <td>0.0</td>\n",
       "      <td>1.000000</td>\n",
       "    </tr>\n",
       "    <tr>\n",
       "      <th>4</th>\n",
       "      <td>880026.0</td>\n",
       "      <td>0.0</td>\n",
       "      <td>1.333333</td>\n",
       "    </tr>\n",
       "    <tr>\n",
       "      <th>...</th>\n",
       "      <td>...</td>\n",
       "      <td>...</td>\n",
       "      <td>...</td>\n",
       "    </tr>\n",
       "    <tr>\n",
       "      <th>747</th>\n",
       "      <td>971102.0</td>\n",
       "      <td>0.0</td>\n",
       "      <td>2.000000</td>\n",
       "    </tr>\n",
       "    <tr>\n",
       "      <th>748</th>\n",
       "      <td>971354.0</td>\n",
       "      <td>0.0</td>\n",
       "      <td>3.000000</td>\n",
       "    </tr>\n",
       "    <tr>\n",
       "      <th>749</th>\n",
       "      <td>972412.0</td>\n",
       "      <td>0.0</td>\n",
       "      <td>1.000000</td>\n",
       "    </tr>\n",
       "    <tr>\n",
       "      <th>750</th>\n",
       "      <td>972460.0</td>\n",
       "      <td>0.0</td>\n",
       "      <td>1.000000</td>\n",
       "    </tr>\n",
       "    <tr>\n",
       "      <th>751</th>\n",
       "      <td>973286.0</td>\n",
       "      <td>0.0</td>\n",
       "      <td>2.000000</td>\n",
       "    </tr>\n",
       "  </tbody>\n",
       "</table>\n",
       "<p>752 rows × 3 columns</p>\n",
       "</div>"
      ],
      "text/plain": [
       "     operator_id  in_missed  incoming_calls\n",
       "0       879896.0        0.0        2.850000\n",
       "1       879898.0        0.0        1.759259\n",
       "2       880020.0        0.0        1.000000\n",
       "3       880022.0        0.0        1.000000\n",
       "4       880026.0        0.0        1.333333\n",
       "..           ...        ...             ...\n",
       "747     971102.0        0.0        2.000000\n",
       "748     971354.0        0.0        3.000000\n",
       "749     972412.0        0.0        1.000000\n",
       "750     972460.0        0.0        1.000000\n",
       "751     973286.0        0.0        2.000000\n",
       "\n",
       "[752 rows x 3 columns]"
      ]
     },
     "execution_count": 56,
     "metadata": {},
     "output_type": "execute_result"
    }
   ],
   "source": [
    "daily_average_in_call = final[final['incoming_calls'] != 0].groupby('operator_id')[['in_missed', 'incoming_calls']].mean().reset_index()\n",
    "daily_average_in_call"
   ]
  },
  {
   "cell_type": "code",
   "execution_count": 57,
   "metadata": {
    "scrolled": true
   },
   "outputs": [
    {
     "data": {
      "text/plain": [
       "count    752.000000\n",
       "mean       0.093952\n",
       "std        0.264612\n",
       "min        0.000000\n",
       "25%        0.000000\n",
       "50%        0.000000\n",
       "75%        0.052987\n",
       "max        3.000000\n",
       "Name: in_missed, dtype: float64"
      ]
     },
     "execution_count": 57,
     "metadata": {},
     "output_type": "execute_result"
    }
   ],
   "source": [
    "daily_average_in_call['in_missed'].describe()"
   ]
  },
  {
   "cell_type": "code",
   "execution_count": 58,
   "metadata": {},
   "outputs": [
    {
     "data": {
      "image/png": "[encoded data removed]",
      "text/plain": [
       "<Figure size 576x432 with 1 Axes>"
      ]
     },
     "metadata": {
      "needs_background": "light"
     },
     "output_type": "display_data"
    }
   ],
   "source": [
    "plt.figure(figsize = (8,6));\n",
    "sns.histplot(data = daily_average_in_call, x= 'in_missed', bins=20);\n",
    "plt.title('Missed Calls Distribution');\n",
    "plt.show();"
   ]
  },
  {
   "cell_type": "markdown",
   "metadata": {},
   "source": [
    "- from the Hist and describe we see that more than 50% of the operators have an average daily missed calls of 0\n",
    "- the overall average daily missed calls for all operators is 0.09 which can be interpreted as 1 missed call every 10 days\n",
    "- we have some operators with a high average daily missed calls count reaching 3 missed calls every day"
   ]
  },
  {
   "cell_type": "code",
   "execution_count": 59,
   "metadata": {
    "scrolled": true
   },
   "outputs": [
    {
     "data": {
      "text/plain": [
       "count    752.000000\n",
       "mean       2.365538\n",
       "std        2.013260\n",
       "min        1.000000\n",
       "25%        1.200000\n",
       "50%        1.777778\n",
       "75%        3.000000\n",
       "max       31.000000\n",
       "Name: incoming_calls, dtype: float64"
      ]
     },
     "execution_count": 59,
     "metadata": {},
     "output_type": "execute_result"
    }
   ],
   "source": [
    "daily_average_in_call['incoming_calls'].describe()"
   ]
  },
  {
   "cell_type": "code",
   "execution_count": 60,
   "metadata": {},
   "outputs": [
    {
     "data": {
      "image/png": "[encoded data removed]",
      "text/plain": [
       "<Figure size 576x432 with 1 Axes>"
      ]
     },
     "metadata": {
      "needs_background": "light"
     },
     "output_type": "display_data"
    }
   ],
   "source": [
    "plt.figure(figsize = (8,6));\n",
    "sns.histplot(data = daily_average_in_call, x= 'incoming_calls', bins=20);\n",
    "plt.title('Incoming Calls Distribution');\n",
    "plt.show();"
   ]
  },
  {
   "cell_type": "markdown",
   "metadata": {},
   "source": [
    "- we see that 50% of the operators have an average daily incoming calls of no more than 1.7 call\n",
    "- the overall average for all operators is 2.35 calls\n",
    "- we have some high averages reaching 20 and even 31 calls"
   ]
  },
  {
   "cell_type": "markdown",
   "metadata": {},
   "source": [
    "now lets take a look at the overall outgoing calls before checking the percentages"
   ]
  },
  {
   "cell_type": "code",
   "execution_count": 61,
   "metadata": {},
   "outputs": [
    {
     "data": {
      "text/html": [
       "<div>\n",
       "<style scoped>\n",
       "    .dataframe tbody tr th:only-of-type {\n",
       "        vertical-align: middle;\n",
       "    }\n",
       "\n",
       "    .dataframe tbody tr th {\n",
       "        vertical-align: top;\n",
       "    }\n",
       "\n",
       "    .dataframe thead th {\n",
       "        text-align: right;\n",
       "    }\n",
       "</style>\n",
       "<table border=\"1\" class=\"dataframe\">\n",
       "  <thead>\n",
       "    <tr style=\"text-align: right;\">\n",
       "      <th></th>\n",
       "      <th>operator_id</th>\n",
       "      <th>outgoing_calls</th>\n",
       "    </tr>\n",
       "  </thead>\n",
       "  <tbody>\n",
       "    <tr>\n",
       "      <th>0</th>\n",
       "      <td>879896.0</td>\n",
       "      <td>4.933333</td>\n",
       "    </tr>\n",
       "    <tr>\n",
       "      <th>1</th>\n",
       "      <td>879898.0</td>\n",
       "      <td>5.541667</td>\n",
       "    </tr>\n",
       "    <tr>\n",
       "      <th>2</th>\n",
       "      <td>880020.0</td>\n",
       "      <td>5.428571</td>\n",
       "    </tr>\n",
       "    <tr>\n",
       "      <th>3</th>\n",
       "      <td>880022.0</td>\n",
       "      <td>3.764706</td>\n",
       "    </tr>\n",
       "    <tr>\n",
       "      <th>4</th>\n",
       "      <td>880026.0</td>\n",
       "      <td>6.650000</td>\n",
       "    </tr>\n",
       "    <tr>\n",
       "      <th>...</th>\n",
       "      <td>...</td>\n",
       "      <td>...</td>\n",
       "    </tr>\n",
       "    <tr>\n",
       "      <th>841</th>\n",
       "      <td>970486.0</td>\n",
       "      <td>3.000000</td>\n",
       "    </tr>\n",
       "    <tr>\n",
       "      <th>842</th>\n",
       "      <td>972408.0</td>\n",
       "      <td>6.000000</td>\n",
       "    </tr>\n",
       "    <tr>\n",
       "      <th>843</th>\n",
       "      <td>972410.0</td>\n",
       "      <td>11.000000</td>\n",
       "    </tr>\n",
       "    <tr>\n",
       "      <th>844</th>\n",
       "      <td>972460.0</td>\n",
       "      <td>11.000000</td>\n",
       "    </tr>\n",
       "    <tr>\n",
       "      <th>845</th>\n",
       "      <td>973120.0</td>\n",
       "      <td>3.000000</td>\n",
       "    </tr>\n",
       "  </tbody>\n",
       "</table>\n",
       "<p>846 rows × 2 columns</p>\n",
       "</div>"
      ],
      "text/plain": [
       "     operator_id  outgoing_calls\n",
       "0       879896.0        4.933333\n",
       "1       879898.0        5.541667\n",
       "2       880020.0        5.428571\n",
       "3       880022.0        3.764706\n",
       "4       880026.0        6.650000\n",
       "..           ...             ...\n",
       "841     970486.0        3.000000\n",
       "842     972408.0        6.000000\n",
       "843     972410.0       11.000000\n",
       "844     972460.0       11.000000\n",
       "845     973120.0        3.000000\n",
       "\n",
       "[846 rows x 2 columns]"
      ]
     },
     "execution_count": 61,
     "metadata": {},
     "output_type": "execute_result"
    }
   ],
   "source": [
    "daily_out_call = final[final['outgoing_calls'] != 0].groupby('operator_id')['outgoing_calls'].mean().reset_index()\n",
    "daily_out_call"
   ]
  },
  {
   "cell_type": "code",
   "execution_count": 62,
   "metadata": {
    "scrolled": true
   },
   "outputs": [
    {
     "data": {
      "text/plain": [
       "count    846.000000\n",
       "mean       4.368543\n",
       "std        2.855789\n",
       "min        1.000000\n",
       "25%        2.000000\n",
       "50%        3.755000\n",
       "75%        6.000000\n",
       "max       18.000000\n",
       "Name: outgoing_calls, dtype: float64"
      ]
     },
     "execution_count": 62,
     "metadata": {},
     "output_type": "execute_result"
    }
   ],
   "source": [
    "daily_out_call['outgoing_calls'].describe()"
   ]
  },
  {
   "cell_type": "code",
   "execution_count": 63,
   "metadata": {},
   "outputs": [
    {
     "data": {
      "image/png": "[encoded data removed]",
      "text/plain": [
       "<Figure size 576x432 with 1 Axes>"
      ]
     },
     "metadata": {
      "needs_background": "light"
     },
     "output_type": "display_data"
    }
   ],
   "source": [
    "plt.figure(figsize = (8,6));\n",
    "sns.histplot(data = daily_out_call, x= 'outgoing_calls', bins=20);\n",
    "plt.title('Outgoing Calls Distribution');\n",
    "plt.show();"
   ]
  },
  {
   "cell_type": "markdown",
   "metadata": {},
   "source": [
    "- we see that 50% of the operators have an average daily outgoing calls of no more than 3.75 calls\n",
    "- the overall average for all operators is 4.36 calls\n",
    "- we have some high averages reaching 18 calls"
   ]
  },
  {
   "cell_type": "markdown",
   "metadata": {},
   "source": [
    "### Find average daily number of calls per operator (in + out)"
   ]
  },
  {
   "cell_type": "markdown",
   "metadata": {},
   "source": [
    "now lets check the total number of calsl for every operator"
   ]
  },
  {
   "cell_type": "code",
   "execution_count": 64,
   "metadata": {},
   "outputs": [
    {
     "data": {
      "text/html": [
       "<div>\n",
       "<style scoped>\n",
       "    .dataframe tbody tr th:only-of-type {\n",
       "        vertical-align: middle;\n",
       "    }\n",
       "\n",
       "    .dataframe tbody tr th {\n",
       "        vertical-align: top;\n",
       "    }\n",
       "\n",
       "    .dataframe thead th {\n",
       "        text-align: right;\n",
       "    }\n",
       "</style>\n",
       "<table border=\"1\" class=\"dataframe\">\n",
       "  <thead>\n",
       "    <tr style=\"text-align: right;\">\n",
       "      <th></th>\n",
       "      <th>operator_id</th>\n",
       "      <th>waiting_time</th>\n",
       "      <th>in_answered</th>\n",
       "      <th>in_missed</th>\n",
       "      <th>out_answered</th>\n",
       "      <th>out_missed</th>\n",
       "      <th>total_calls</th>\n",
       "      <th>incoming_calls</th>\n",
       "      <th>outgoing_calls</th>\n",
       "      <th>internal_calls</th>\n",
       "      <th>external_calls</th>\n",
       "      <th>ext_pct</th>\n",
       "      <th>out_pct</th>\n",
       "    </tr>\n",
       "  </thead>\n",
       "  <tbody>\n",
       "    <tr>\n",
       "      <th>0</th>\n",
       "      <td>879896.0</td>\n",
       "      <td>28.450000</td>\n",
       "      <td>1.187500</td>\n",
       "      <td>0.0</td>\n",
       "      <td>2.270833</td>\n",
       "      <td>2.354167</td>\n",
       "      <td>5.812500</td>\n",
       "      <td>1.187500</td>\n",
       "      <td>4.625000</td>\n",
       "      <td>4.645833</td>\n",
       "      <td>1.166667</td>\n",
       "      <td>11.113288</td>\n",
       "      <td>81.292574</td>\n",
       "    </tr>\n",
       "    <tr>\n",
       "      <th>1</th>\n",
       "      <td>879898.0</td>\n",
       "      <td>20.666667</td>\n",
       "      <td>1.397059</td>\n",
       "      <td>0.0</td>\n",
       "      <td>0.691176</td>\n",
       "      <td>1.264706</td>\n",
       "      <td>3.352941</td>\n",
       "      <td>1.397059</td>\n",
       "      <td>1.955882</td>\n",
       "      <td>3.088235</td>\n",
       "      <td>0.264706</td>\n",
       "      <td>13.033964</td>\n",
       "      <td>29.703395</td>\n",
       "    </tr>\n",
       "    <tr>\n",
       "      <th>2</th>\n",
       "      <td>880020.0</td>\n",
       "      <td>7.714286</td>\n",
       "      <td>0.500000</td>\n",
       "      <td>0.0</td>\n",
       "      <td>1.142857</td>\n",
       "      <td>1.571429</td>\n",
       "      <td>3.214286</td>\n",
       "      <td>0.500000</td>\n",
       "      <td>2.714286</td>\n",
       "      <td>2.928571</td>\n",
       "      <td>0.285714</td>\n",
       "      <td>4.761905</td>\n",
       "      <td>50.000000</td>\n",
       "    </tr>\n",
       "    <tr>\n",
       "      <th>3</th>\n",
       "      <td>880022.0</td>\n",
       "      <td>14.000000</td>\n",
       "      <td>0.200000</td>\n",
       "      <td>0.0</td>\n",
       "      <td>1.650000</td>\n",
       "      <td>1.550000</td>\n",
       "      <td>3.400000</td>\n",
       "      <td>0.200000</td>\n",
       "      <td>3.200000</td>\n",
       "      <td>3.025000</td>\n",
       "      <td>0.375000</td>\n",
       "      <td>7.875000</td>\n",
       "      <td>83.809524</td>\n",
       "    </tr>\n",
       "    <tr>\n",
       "      <th>4</th>\n",
       "      <td>880026.0</td>\n",
       "      <td>7.944444</td>\n",
       "      <td>0.369231</td>\n",
       "      <td>0.0</td>\n",
       "      <td>0.476923</td>\n",
       "      <td>5.661538</td>\n",
       "      <td>6.507692</td>\n",
       "      <td>0.369231</td>\n",
       "      <td>6.138462</td>\n",
       "      <td>6.200000</td>\n",
       "      <td>0.307692</td>\n",
       "      <td>12.472782</td>\n",
       "      <td>87.637252</td>\n",
       "    </tr>\n",
       "  </tbody>\n",
       "</table>\n",
       "</div>"
      ],
      "text/plain": [
       "   operator_id  waiting_time  in_answered  in_missed  out_answered  \\\n",
       "0     879896.0     28.450000     1.187500        0.0      2.270833   \n",
       "1     879898.0     20.666667     1.397059        0.0      0.691176   \n",
       "2     880020.0      7.714286     0.500000        0.0      1.142857   \n",
       "3     880022.0     14.000000     0.200000        0.0      1.650000   \n",
       "4     880026.0      7.944444     0.369231        0.0      0.476923   \n",
       "\n",
       "   out_missed  total_calls  incoming_calls  outgoing_calls  internal_calls  \\\n",
       "0    2.354167     5.812500        1.187500        4.625000        4.645833   \n",
       "1    1.264706     3.352941        1.397059        1.955882        3.088235   \n",
       "2    1.571429     3.214286        0.500000        2.714286        2.928571   \n",
       "3    1.550000     3.400000        0.200000        3.200000        3.025000   \n",
       "4    5.661538     6.507692        0.369231        6.138462        6.200000   \n",
       "\n",
       "   external_calls    ext_pct    out_pct  \n",
       "0        1.166667  11.113288  81.292574  \n",
       "1        0.264706  13.033964  29.703395  \n",
       "2        0.285714   4.761905  50.000000  \n",
       "3        0.375000   7.875000  83.809524  \n",
       "4        0.307692  12.472782  87.637252  "
      ]
     },
     "execution_count": 64,
     "metadata": {},
     "output_type": "execute_result"
    }
   ],
   "source": [
    "avg_calls_operator = final.groupby('operator_id').mean().reset_index()\n",
    "avg_calls_operator.head()"
   ]
  },
  {
   "cell_type": "code",
   "execution_count": 65,
   "metadata": {},
   "outputs": [
    {
     "data": {
      "text/plain": [
       "count    1060.000000\n",
       "mean        4.148827\n",
       "std         3.047366\n",
       "min         1.000000\n",
       "25%         1.785714\n",
       "50%         3.258094\n",
       "75%         5.765582\n",
       "max        18.500000\n",
       "Name: total_calls, dtype: float64"
      ]
     },
     "execution_count": 65,
     "metadata": {},
     "output_type": "execute_result"
    }
   ],
   "source": [
    "avg_calls_operator['total_calls'].describe()"
   ]
  },
  {
   "cell_type": "code",
   "execution_count": 66,
   "metadata": {},
   "outputs": [
    {
     "data": {
      "image/png": "[encoded data removed]",
      "text/plain": [
       "<Figure size 576x432 with 1 Axes>"
      ]
     },
     "metadata": {
      "needs_background": "light"
     },
     "output_type": "display_data"
    }
   ],
   "source": [
    "plt.figure(figsize = (8,6));\n",
    "sns.histplot(data = avg_calls_operator, x= 'total_calls', bins=20);\n",
    "plt.title('Calls Count Distribution');\n",
    "plt.show();"
   ]
  },
  {
   "cell_type": "markdown",
   "metadata": {},
   "source": [
    "- we see that 50% of the operators have an average daily calls of around 1.8 call\n",
    "- the overall average for all operators is 4.1 calls\n",
    "- we have some high averages reaching 18 calls\n",
    "- the distribution of the total calls looks pretty similar to the distribution of outgoing calls"
   ]
  },
  {
   "cell_type": "markdown",
   "metadata": {},
   "source": [
    "### Find average percentage of daily outgoing calls per operator"
   ]
  },
  {
   "cell_type": "markdown",
   "metadata": {},
   "source": [
    "lets see the daily average percentage of daily outgoing calls per operator"
   ]
  },
  {
   "cell_type": "code",
   "execution_count": 67,
   "metadata": {},
   "outputs": [
    {
     "data": {
      "text/plain": [
       "count    1060.000000\n",
       "mean       59.001603\n",
       "std        38.905361\n",
       "min         0.000000\n",
       "25%        20.970332\n",
       "50%        66.666667\n",
       "75%       100.000000\n",
       "max       100.000000\n",
       "Name: out_pct, dtype: float64"
      ]
     },
     "execution_count": 67,
     "metadata": {},
     "output_type": "execute_result"
    }
   ],
   "source": [
    "avg_calls_operator['out_pct'].describe()"
   ]
  },
  {
   "cell_type": "code",
   "execution_count": 68,
   "metadata": {},
   "outputs": [
    {
     "data": {
      "image/png": "[encoded data removed]",
      "text/plain": [
       "<Figure size 576x432 with 1 Axes>"
      ]
     },
     "metadata": {
      "needs_background": "light"
     },
     "output_type": "display_data"
    }
   ],
   "source": [
    "plt.figure(figsize = (8,6));\n",
    "sns.histplot(data = avg_calls_operator, x= 'out_pct', bins=20);\n",
    "plt.title('Outgoing Calls Percentage Distribution');\n",
    "plt.show();"
   ]
  },
  {
   "cell_type": "markdown",
   "metadata": {},
   "source": [
    "- we can see that at least 50% of the oprators have an average outgoing calls share of at least 66% which means that the operators calls more than they answer\n",
    "- on average the opertaors have 59% share of outgoing calls\n",
    "- the operators can be split into 3 groups which we should take intop consideration when identifying the ineffective opertaors:\n",
    "    1. Only outgoing calls: have an average outgoing calls share of 100%  \n",
    "    2. Only incoming calls: have an average outgoing calls share of 0% \n",
    "    3. both kinds of calls: have differnt average outgoing calls share values ranging fom 1% to 99% "
   ]
  },
  {
   "cell_type": "markdown",
   "metadata": {},
   "source": [
    "Now before we check the scatter lets see acorrelation Matrix between all metrics"
   ]
  },
  {
   "cell_type": "code",
   "execution_count": 69,
   "metadata": {
    "scrolled": false
   },
   "outputs": [
    {
     "data": {
      "text/html": [
       "<div>\n",
       "<style scoped>\n",
       "    .dataframe tbody tr th:only-of-type {\n",
       "        vertical-align: middle;\n",
       "    }\n",
       "\n",
       "    .dataframe tbody tr th {\n",
       "        vertical-align: top;\n",
       "    }\n",
       "\n",
       "    .dataframe thead th {\n",
       "        text-align: right;\n",
       "    }\n",
       "</style>\n",
       "<table border=\"1\" class=\"dataframe\">\n",
       "  <thead>\n",
       "    <tr style=\"text-align: right;\">\n",
       "      <th></th>\n",
       "      <th>operator_id</th>\n",
       "      <th>waiting_time</th>\n",
       "      <th>in_answered</th>\n",
       "      <th>in_missed</th>\n",
       "      <th>out_answered</th>\n",
       "      <th>out_missed</th>\n",
       "      <th>total_calls</th>\n",
       "      <th>incoming_calls</th>\n",
       "      <th>outgoing_calls</th>\n",
       "      <th>internal_calls</th>\n",
       "      <th>external_calls</th>\n",
       "      <th>ext_pct</th>\n",
       "      <th>out_pct</th>\n",
       "    </tr>\n",
       "  </thead>\n",
       "  <tbody>\n",
       "    <tr>\n",
       "      <th>operator_id</th>\n",
       "      <td>1.000000</td>\n",
       "      <td>-0.003438</td>\n",
       "      <td>0.045723</td>\n",
       "      <td>0.060945</td>\n",
       "      <td>0.027816</td>\n",
       "      <td>-0.048580</td>\n",
       "      <td>0.013308</td>\n",
       "      <td>0.053148</td>\n",
       "      <td>-0.014137</td>\n",
       "      <td>0.007548</td>\n",
       "      <td>0.015259</td>\n",
       "      <td>0.043924</td>\n",
       "      <td>-0.048765</td>\n",
       "    </tr>\n",
       "    <tr>\n",
       "      <th>waiting_time</th>\n",
       "      <td>-0.003438</td>\n",
       "      <td>1.000000</td>\n",
       "      <td>0.556558</td>\n",
       "      <td>0.080849</td>\n",
       "      <td>0.068630</td>\n",
       "      <td>0.039733</td>\n",
       "      <td>0.342981</td>\n",
       "      <td>0.567509</td>\n",
       "      <td>0.068131</td>\n",
       "      <td>0.347540</td>\n",
       "      <td>0.063709</td>\n",
       "      <td>-0.034365</td>\n",
       "      <td>-0.070936</td>\n",
       "    </tr>\n",
       "    <tr>\n",
       "      <th>in_answered</th>\n",
       "      <td>0.045723</td>\n",
       "      <td>0.556558</td>\n",
       "      <td>1.000000</td>\n",
       "      <td>0.034127</td>\n",
       "      <td>-0.044937</td>\n",
       "      <td>-0.055219</td>\n",
       "      <td>0.427201</td>\n",
       "      <td>0.991296</td>\n",
       "      <td>-0.066052</td>\n",
       "      <td>0.481709</td>\n",
       "      <td>-0.061542</td>\n",
       "      <td>-0.191879</td>\n",
       "      <td>-0.484663</td>\n",
       "    </tr>\n",
       "    <tr>\n",
       "      <th>in_missed</th>\n",
       "      <td>0.060945</td>\n",
       "      <td>0.080849</td>\n",
       "      <td>0.034127</td>\n",
       "      <td>1.000000</td>\n",
       "      <td>-0.026503</td>\n",
       "      <td>-0.018659</td>\n",
       "      <td>0.054359</td>\n",
       "      <td>0.165409</td>\n",
       "      <td>-0.029710</td>\n",
       "      <td>0.049136</td>\n",
       "      <td>0.020171</td>\n",
       "      <td>-0.023877</td>\n",
       "      <td>-0.115944</td>\n",
       "    </tr>\n",
       "    <tr>\n",
       "      <th>out_answered</th>\n",
       "      <td>0.027816</td>\n",
       "      <td>0.068630</td>\n",
       "      <td>-0.044937</td>\n",
       "      <td>-0.026503</td>\n",
       "      <td>1.000000</td>\n",
       "      <td>0.151671</td>\n",
       "      <td>0.659099</td>\n",
       "      <td>-0.047835</td>\n",
       "      <td>0.753755</td>\n",
       "      <td>0.521160</td>\n",
       "      <td>0.416397</td>\n",
       "      <td>0.122020</td>\n",
       "      <td>0.396747</td>\n",
       "    </tr>\n",
       "    <tr>\n",
       "      <th>out_missed</th>\n",
       "      <td>-0.048580</td>\n",
       "      <td>0.039733</td>\n",
       "      <td>-0.055219</td>\n",
       "      <td>-0.018659</td>\n",
       "      <td>0.151671</td>\n",
       "      <td>1.000000</td>\n",
       "      <td>0.663788</td>\n",
       "      <td>-0.056948</td>\n",
       "      <td>0.763876</td>\n",
       "      <td>0.612208</td>\n",
       "      <td>0.218215</td>\n",
       "      <td>-0.008502</td>\n",
       "      <td>0.404986</td>\n",
       "    </tr>\n",
       "    <tr>\n",
       "      <th>total_calls</th>\n",
       "      <td>0.013308</td>\n",
       "      <td>0.342981</td>\n",
       "      <td>0.427201</td>\n",
       "      <td>0.054359</td>\n",
       "      <td>0.659099</td>\n",
       "      <td>0.663788</td>\n",
       "      <td>1.000000</td>\n",
       "      <td>0.428723</td>\n",
       "      <td>0.871655</td>\n",
       "      <td>0.913471</td>\n",
       "      <td>0.349061</td>\n",
       "      <td>-0.027541</td>\n",
       "      <td>0.235953</td>\n",
       "    </tr>\n",
       "    <tr>\n",
       "      <th>incoming_calls</th>\n",
       "      <td>0.053148</td>\n",
       "      <td>0.567509</td>\n",
       "      <td>0.991296</td>\n",
       "      <td>0.165409</td>\n",
       "      <td>-0.047835</td>\n",
       "      <td>-0.056948</td>\n",
       "      <td>0.428723</td>\n",
       "      <td>1.000000</td>\n",
       "      <td>-0.069094</td>\n",
       "      <td>0.481823</td>\n",
       "      <td>-0.058073</td>\n",
       "      <td>-0.192491</td>\n",
       "      <td>-0.493539</td>\n",
       "    </tr>\n",
       "    <tr>\n",
       "      <th>outgoing_calls</th>\n",
       "      <td>-0.014137</td>\n",
       "      <td>0.068131</td>\n",
       "      <td>-0.066052</td>\n",
       "      <td>-0.029710</td>\n",
       "      <td>0.753755</td>\n",
       "      <td>0.763876</td>\n",
       "      <td>0.871655</td>\n",
       "      <td>-0.069094</td>\n",
       "      <td>1.000000</td>\n",
       "      <td>0.747299</td>\n",
       "      <td>0.416952</td>\n",
       "      <td>0.074016</td>\n",
       "      <td>0.528297</td>\n",
       "    </tr>\n",
       "    <tr>\n",
       "      <th>internal_calls</th>\n",
       "      <td>0.007548</td>\n",
       "      <td>0.347540</td>\n",
       "      <td>0.481709</td>\n",
       "      <td>0.049136</td>\n",
       "      <td>0.521160</td>\n",
       "      <td>0.612208</td>\n",
       "      <td>0.913471</td>\n",
       "      <td>0.481823</td>\n",
       "      <td>0.747299</td>\n",
       "      <td>1.000000</td>\n",
       "      <td>-0.062452</td>\n",
       "      <td>-0.305250</td>\n",
       "      <td>0.146997</td>\n",
       "    </tr>\n",
       "    <tr>\n",
       "      <th>external_calls</th>\n",
       "      <td>0.015259</td>\n",
       "      <td>0.063709</td>\n",
       "      <td>-0.061542</td>\n",
       "      <td>0.020171</td>\n",
       "      <td>0.416397</td>\n",
       "      <td>0.218215</td>\n",
       "      <td>0.349061</td>\n",
       "      <td>-0.058073</td>\n",
       "      <td>0.416952</td>\n",
       "      <td>-0.062452</td>\n",
       "      <td>1.000000</td>\n",
       "      <td>0.635439</td>\n",
       "      <td>0.240207</td>\n",
       "    </tr>\n",
       "    <tr>\n",
       "      <th>ext_pct</th>\n",
       "      <td>0.043924</td>\n",
       "      <td>-0.034365</td>\n",
       "      <td>-0.191879</td>\n",
       "      <td>-0.023877</td>\n",
       "      <td>0.122020</td>\n",
       "      <td>-0.008502</td>\n",
       "      <td>-0.027541</td>\n",
       "      <td>-0.192491</td>\n",
       "      <td>0.074016</td>\n",
       "      <td>-0.305250</td>\n",
       "      <td>0.635439</td>\n",
       "      <td>1.000000</td>\n",
       "      <td>0.316478</td>\n",
       "    </tr>\n",
       "    <tr>\n",
       "      <th>out_pct</th>\n",
       "      <td>-0.048765</td>\n",
       "      <td>-0.070936</td>\n",
       "      <td>-0.484663</td>\n",
       "      <td>-0.115944</td>\n",
       "      <td>0.396747</td>\n",
       "      <td>0.404986</td>\n",
       "      <td>0.235953</td>\n",
       "      <td>-0.493539</td>\n",
       "      <td>0.528297</td>\n",
       "      <td>0.146997</td>\n",
       "      <td>0.240207</td>\n",
       "      <td>0.316478</td>\n",
       "      <td>1.000000</td>\n",
       "    </tr>\n",
       "  </tbody>\n",
       "</table>\n",
       "</div>"
      ],
      "text/plain": [
       "                operator_id  waiting_time  in_answered  in_missed  \\\n",
       "operator_id        1.000000     -0.003438     0.045723   0.060945   \n",
       "waiting_time      -0.003438      1.000000     0.556558   0.080849   \n",
       "in_answered        0.045723      0.556558     1.000000   0.034127   \n",
       "in_missed          0.060945      0.080849     0.034127   1.000000   \n",
       "out_answered       0.027816      0.068630    -0.044937  -0.026503   \n",
       "out_missed        -0.048580      0.039733    -0.055219  -0.018659   \n",
       "total_calls        0.013308      0.342981     0.427201   0.054359   \n",
       "incoming_calls     0.053148      0.567509     0.991296   0.165409   \n",
       "outgoing_calls    -0.014137      0.068131    -0.066052  -0.029710   \n",
       "internal_calls     0.007548      0.347540     0.481709   0.049136   \n",
       "external_calls     0.015259      0.063709    -0.061542   0.020171   \n",
       "ext_pct            0.043924     -0.034365    -0.191879  -0.023877   \n",
       "out_pct           -0.048765     -0.070936    -0.484663  -0.115944   \n",
       "\n",
       "                out_answered  out_missed  total_calls  incoming_calls  \\\n",
       "operator_id         0.027816   -0.048580     0.013308        0.053148   \n",
       "waiting_time        0.068630    0.039733     0.342981        0.567509   \n",
       "in_answered        -0.044937   -0.055219     0.427201        0.991296   \n",
       "in_missed          -0.026503   -0.018659     0.054359        0.165409   \n",
       "out_answered        1.000000    0.151671     0.659099       -0.047835   \n",
       "out_missed          0.151671    1.000000     0.663788       -0.056948   \n",
       "total_calls         0.659099    0.663788     1.000000        0.428723   \n",
       "incoming_calls     -0.047835   -0.056948     0.428723        1.000000   \n",
       "outgoing_calls      0.753755    0.763876     0.871655       -0.069094   \n",
       "internal_calls      0.521160    0.612208     0.913471        0.481823   \n",
       "external_calls      0.416397    0.218215     0.349061       -0.058073   \n",
       "ext_pct             0.122020   -0.008502    -0.027541       -0.192491   \n",
       "out_pct             0.396747    0.404986     0.235953       -0.493539   \n",
       "\n",
       "                outgoing_calls  internal_calls  external_calls   ext_pct  \\\n",
       "operator_id          -0.014137        0.007548        0.015259  0.043924   \n",
       "waiting_time          0.068131        0.347540        0.063709 -0.034365   \n",
       "in_answered          -0.066052        0.481709       -0.061542 -0.191879   \n",
       "in_missed            -0.029710        0.049136        0.020171 -0.023877   \n",
       "out_answered          0.753755        0.521160        0.416397  0.122020   \n",
       "out_missed            0.763876        0.612208        0.218215 -0.008502   \n",
       "total_calls           0.871655        0.913471        0.349061 -0.027541   \n",
       "incoming_calls       -0.069094        0.481823       -0.058073 -0.192491   \n",
       "outgoing_calls        1.000000        0.747299        0.416952  0.074016   \n",
       "internal_calls        0.747299        1.000000       -0.062452 -0.305250   \n",
       "external_calls        0.416952       -0.062452        1.000000  0.635439   \n",
       "ext_pct               0.074016       -0.305250        0.635439  1.000000   \n",
       "out_pct               0.528297        0.146997        0.240207  0.316478   \n",
       "\n",
       "                 out_pct  \n",
       "operator_id    -0.048765  \n",
       "waiting_time   -0.070936  \n",
       "in_answered    -0.484663  \n",
       "in_missed      -0.115944  \n",
       "out_answered    0.396747  \n",
       "out_missed      0.404986  \n",
       "total_calls     0.235953  \n",
       "incoming_calls -0.493539  \n",
       "outgoing_calls  0.528297  \n",
       "internal_calls  0.146997  \n",
       "external_calls  0.240207  \n",
       "ext_pct         0.316478  \n",
       "out_pct         1.000000  "
      ]
     },
     "execution_count": 69,
     "metadata": {},
     "output_type": "execute_result"
    }
   ],
   "source": [
    "final.corr()"
   ]
  },
  {
   "cell_type": "code",
   "execution_count": 70,
   "metadata": {},
   "outputs": [
    {
     "data": {
      "image/png": "[encoded data removed]",
      "text/plain": [
       "<Figure size 864x720 with 2 Axes>"
      ]
     },
     "metadata": {
      "needs_background": "light"
     },
     "output_type": "display_data"
    }
   ],
   "source": [
    "plt.figure(figsize = (12,10))\n",
    "sns.heatmap(final.corr(), annot = True, square=True);"
   ]
  },
  {
   "cell_type": "markdown",
   "metadata": {},
   "source": [
    "We will note only what is relevant:\n",
    "1. there is no correlation (very weak correlation) between number of incoming calls and number of incoming missed calls\n",
    "2. there is a correlation between the share of external/internal calls and number of outgoing calls\n",
    "3. there is a small normal correlation between waiting time and number of incoming an total calls \n",
    "4. there is no correlation between number of missed calls and waiting time"
   ]
  },
  {
   "cell_type": "markdown",
   "metadata": {},
   "source": [
    "### Scatter between missed calls and waiting time per operator"
   ]
  },
  {
   "cell_type": "code",
   "execution_count": 71,
   "metadata": {
    "scrolled": false
   },
   "outputs": [
    {
     "data": {
      "image/png": "[encoded data removed]",
      "text/plain": [
       "<Figure size 864x720 with 1 Axes>"
      ]
     },
     "metadata": {
      "needs_background": "light"
     },
     "output_type": "display_data"
    }
   ],
   "source": [
    "plt.figure(figsize = (12,10))\n",
    "sns.scatterplot(x = 'waiting_time', y='in_missed', data = final);"
   ]
  },
  {
   "cell_type": "markdown",
   "metadata": {},
   "source": [
    "as we said before after checking the correlation matrix there is no relation betrween waiting time and number of incoming missed calls"
   ]
  },
  {
   "cell_type": "markdown",
   "metadata": {},
   "source": [
    "### Compare internal and external number of calls per operator"
   ]
  },
  {
   "cell_type": "code",
   "execution_count": 72,
   "metadata": {
    "scrolled": true
   },
   "outputs": [
    {
     "data": {
      "text/html": [
       "<div>\n",
       "<style scoped>\n",
       "    .dataframe tbody tr th:only-of-type {\n",
       "        vertical-align: middle;\n",
       "    }\n",
       "\n",
       "    .dataframe tbody tr th {\n",
       "        vertical-align: top;\n",
       "    }\n",
       "\n",
       "    .dataframe thead th {\n",
       "        text-align: right;\n",
       "    }\n",
       "</style>\n",
       "<table border=\"1\" class=\"dataframe\">\n",
       "  <thead>\n",
       "    <tr style=\"text-align: right;\">\n",
       "      <th></th>\n",
       "      <th>operator_id</th>\n",
       "      <th>date</th>\n",
       "      <th>waiting_time</th>\n",
       "      <th>in_answered</th>\n",
       "      <th>in_missed</th>\n",
       "      <th>out_answered</th>\n",
       "      <th>out_missed</th>\n",
       "      <th>total_calls</th>\n",
       "      <th>incoming_calls</th>\n",
       "      <th>outgoing_calls</th>\n",
       "      <th>internal_calls</th>\n",
       "      <th>external_calls</th>\n",
       "      <th>ext_pct</th>\n",
       "      <th>out_pct</th>\n",
       "    </tr>\n",
       "  </thead>\n",
       "  <tbody>\n",
       "    <tr>\n",
       "      <th>0</th>\n",
       "      <td>879896.0</td>\n",
       "      <td>2019-08-02</td>\n",
       "      <td>NaN</td>\n",
       "      <td>0.0</td>\n",
       "      <td>0.0</td>\n",
       "      <td>5.0</td>\n",
       "      <td>8.0</td>\n",
       "      <td>13.0</td>\n",
       "      <td>0.0</td>\n",
       "      <td>13.0</td>\n",
       "      <td>11.0</td>\n",
       "      <td>2.0</td>\n",
       "      <td>15.384615</td>\n",
       "      <td>100.000000</td>\n",
       "    </tr>\n",
       "    <tr>\n",
       "      <th>1</th>\n",
       "      <td>879896.0</td>\n",
       "      <td>2019-08-03</td>\n",
       "      <td>9.0</td>\n",
       "      <td>1.0</td>\n",
       "      <td>0.0</td>\n",
       "      <td>3.0</td>\n",
       "      <td>7.0</td>\n",
       "      <td>11.0</td>\n",
       "      <td>1.0</td>\n",
       "      <td>10.0</td>\n",
       "      <td>11.0</td>\n",
       "      <td>0.0</td>\n",
       "      <td>0.000000</td>\n",
       "      <td>90.909091</td>\n",
       "    </tr>\n",
       "    <tr>\n",
       "      <th>2</th>\n",
       "      <td>879896.0</td>\n",
       "      <td>2019-08-04</td>\n",
       "      <td>NaN</td>\n",
       "      <td>0.0</td>\n",
       "      <td>0.0</td>\n",
       "      <td>1.0</td>\n",
       "      <td>1.0</td>\n",
       "      <td>2.0</td>\n",
       "      <td>0.0</td>\n",
       "      <td>2.0</td>\n",
       "      <td>2.0</td>\n",
       "      <td>0.0</td>\n",
       "      <td>0.000000</td>\n",
       "      <td>100.000000</td>\n",
       "    </tr>\n",
       "    <tr>\n",
       "      <th>3</th>\n",
       "      <td>879896.0</td>\n",
       "      <td>2019-08-05</td>\n",
       "      <td>10.0</td>\n",
       "      <td>1.0</td>\n",
       "      <td>0.0</td>\n",
       "      <td>2.0</td>\n",
       "      <td>1.0</td>\n",
       "      <td>4.0</td>\n",
       "      <td>1.0</td>\n",
       "      <td>3.0</td>\n",
       "      <td>2.0</td>\n",
       "      <td>2.0</td>\n",
       "      <td>50.000000</td>\n",
       "      <td>75.000000</td>\n",
       "    </tr>\n",
       "    <tr>\n",
       "      <th>4</th>\n",
       "      <td>879896.0</td>\n",
       "      <td>2019-08-06</td>\n",
       "      <td>39.0</td>\n",
       "      <td>6.0</td>\n",
       "      <td>0.0</td>\n",
       "      <td>3.0</td>\n",
       "      <td>8.0</td>\n",
       "      <td>17.0</td>\n",
       "      <td>6.0</td>\n",
       "      <td>11.0</td>\n",
       "      <td>13.0</td>\n",
       "      <td>4.0</td>\n",
       "      <td>23.529412</td>\n",
       "      <td>64.705882</td>\n",
       "    </tr>\n",
       "  </tbody>\n",
       "</table>\n",
       "</div>"
      ],
      "text/plain": [
       "   operator_id       date  waiting_time  in_answered  in_missed  out_answered  \\\n",
       "0     879896.0 2019-08-02           NaN          0.0        0.0           5.0   \n",
       "1     879896.0 2019-08-03           9.0          1.0        0.0           3.0   \n",
       "2     879896.0 2019-08-04           NaN          0.0        0.0           1.0   \n",
       "3     879896.0 2019-08-05          10.0          1.0        0.0           2.0   \n",
       "4     879896.0 2019-08-06          39.0          6.0        0.0           3.0   \n",
       "\n",
       "   out_missed  total_calls  incoming_calls  outgoing_calls  internal_calls  \\\n",
       "0         8.0         13.0             0.0            13.0            11.0   \n",
       "1         7.0         11.0             1.0            10.0            11.0   \n",
       "2         1.0          2.0             0.0             2.0             2.0   \n",
       "3         1.0          4.0             1.0             3.0             2.0   \n",
       "4         8.0         17.0             6.0            11.0            13.0   \n",
       "\n",
       "   external_calls    ext_pct     out_pct  \n",
       "0             2.0  15.384615  100.000000  \n",
       "1             0.0   0.000000   90.909091  \n",
       "2             0.0   0.000000  100.000000  \n",
       "3             2.0  50.000000   75.000000  \n",
       "4             4.0  23.529412   64.705882  "
      ]
     },
     "execution_count": 72,
     "metadata": {},
     "output_type": "execute_result"
    }
   ],
   "source": [
    "final.head()"
   ]
  },
  {
   "cell_type": "code",
   "execution_count": 73,
   "metadata": {
    "scrolled": false
   },
   "outputs": [
    {
     "data": {
      "image/png": "[encoded data removed]",
      "text/plain": [
       "<Figure size 864x720 with 1 Axes>"
      ]
     },
     "metadata": {
      "needs_background": "light"
     },
     "output_type": "display_data"
    }
   ],
   "source": [
    "plt.figure(figsize = (12,10))\n",
    "sns.scatterplot(x = 'internal_calls', y='external_calls', data = final);"
   ]
  },
  {
   "cell_type": "markdown",
   "metadata": {},
   "source": [
    "we can see from the scatter as well as the correlation matrix that there is no correlation between the number of internal calls and number of external calls for the operators"
   ]
  },
  {
   "cell_type": "markdown",
   "metadata": {},
   "source": [
    "### Identify the ineffective operators"
   ]
  },
  {
   "cell_type": "markdown",
   "metadata": {},
   "source": [
    "as we said before the operators can be split into 3 groups which will be considered when setting the rules for the ineffective operators and these groups are:\n",
    "   1. Only outgoing calls\n",
    "   2. Only incoming calls\n",
    "   3. both kinds of calls  \n",
    "\n",
    "so we will split the data based on these groups and then we will talk about the rules for the ineffective operator"
   ]
  },
  {
   "cell_type": "code",
   "execution_count": 74,
   "metadata": {},
   "outputs": [
    {
     "data": {
      "text/html": [
       "<div>\n",
       "<style scoped>\n",
       "    .dataframe tbody tr th:only-of-type {\n",
       "        vertical-align: middle;\n",
       "    }\n",
       "\n",
       "    .dataframe tbody tr th {\n",
       "        vertical-align: top;\n",
       "    }\n",
       "\n",
       "    .dataframe thead th {\n",
       "        text-align: right;\n",
       "    }\n",
       "</style>\n",
       "<table border=\"1\" class=\"dataframe\">\n",
       "  <thead>\n",
       "    <tr style=\"text-align: right;\">\n",
       "      <th></th>\n",
       "      <th>operator_id</th>\n",
       "      <th>waiting_time</th>\n",
       "      <th>in_answered</th>\n",
       "      <th>in_missed</th>\n",
       "      <th>out_answered</th>\n",
       "      <th>out_missed</th>\n",
       "      <th>total_calls</th>\n",
       "      <th>incoming_calls</th>\n",
       "      <th>outgoing_calls</th>\n",
       "      <th>internal_calls</th>\n",
       "      <th>external_calls</th>\n",
       "      <th>ext_pct</th>\n",
       "      <th>out_pct</th>\n",
       "    </tr>\n",
       "  </thead>\n",
       "  <tbody>\n",
       "    <tr>\n",
       "      <th>0</th>\n",
       "      <td>879896.0</td>\n",
       "      <td>28.450000</td>\n",
       "      <td>1.187500</td>\n",
       "      <td>0.0</td>\n",
       "      <td>2.270833</td>\n",
       "      <td>2.354167</td>\n",
       "      <td>5.812500</td>\n",
       "      <td>1.187500</td>\n",
       "      <td>4.625000</td>\n",
       "      <td>4.645833</td>\n",
       "      <td>1.166667</td>\n",
       "      <td>11.113288</td>\n",
       "      <td>81.292574</td>\n",
       "    </tr>\n",
       "    <tr>\n",
       "      <th>1</th>\n",
       "      <td>879898.0</td>\n",
       "      <td>20.666667</td>\n",
       "      <td>1.397059</td>\n",
       "      <td>0.0</td>\n",
       "      <td>0.691176</td>\n",
       "      <td>1.264706</td>\n",
       "      <td>3.352941</td>\n",
       "      <td>1.397059</td>\n",
       "      <td>1.955882</td>\n",
       "      <td>3.088235</td>\n",
       "      <td>0.264706</td>\n",
       "      <td>13.033964</td>\n",
       "      <td>29.703395</td>\n",
       "    </tr>\n",
       "    <tr>\n",
       "      <th>2</th>\n",
       "      <td>880020.0</td>\n",
       "      <td>7.714286</td>\n",
       "      <td>0.500000</td>\n",
       "      <td>0.0</td>\n",
       "      <td>1.142857</td>\n",
       "      <td>1.571429</td>\n",
       "      <td>3.214286</td>\n",
       "      <td>0.500000</td>\n",
       "      <td>2.714286</td>\n",
       "      <td>2.928571</td>\n",
       "      <td>0.285714</td>\n",
       "      <td>4.761905</td>\n",
       "      <td>50.000000</td>\n",
       "    </tr>\n",
       "    <tr>\n",
       "      <th>3</th>\n",
       "      <td>880022.0</td>\n",
       "      <td>14.000000</td>\n",
       "      <td>0.200000</td>\n",
       "      <td>0.0</td>\n",
       "      <td>1.650000</td>\n",
       "      <td>1.550000</td>\n",
       "      <td>3.400000</td>\n",
       "      <td>0.200000</td>\n",
       "      <td>3.200000</td>\n",
       "      <td>3.025000</td>\n",
       "      <td>0.375000</td>\n",
       "      <td>7.875000</td>\n",
       "      <td>83.809524</td>\n",
       "    </tr>\n",
       "    <tr>\n",
       "      <th>4</th>\n",
       "      <td>880026.0</td>\n",
       "      <td>7.944444</td>\n",
       "      <td>0.369231</td>\n",
       "      <td>0.0</td>\n",
       "      <td>0.476923</td>\n",
       "      <td>5.661538</td>\n",
       "      <td>6.507692</td>\n",
       "      <td>0.369231</td>\n",
       "      <td>6.138462</td>\n",
       "      <td>6.200000</td>\n",
       "      <td>0.307692</td>\n",
       "      <td>12.472782</td>\n",
       "      <td>87.637252</td>\n",
       "    </tr>\n",
       "    <tr>\n",
       "      <th>...</th>\n",
       "      <td>...</td>\n",
       "      <td>...</td>\n",
       "      <td>...</td>\n",
       "      <td>...</td>\n",
       "      <td>...</td>\n",
       "      <td>...</td>\n",
       "      <td>...</td>\n",
       "      <td>...</td>\n",
       "      <td>...</td>\n",
       "      <td>...</td>\n",
       "      <td>...</td>\n",
       "      <td>...</td>\n",
       "      <td>...</td>\n",
       "    </tr>\n",
       "    <tr>\n",
       "      <th>1055</th>\n",
       "      <td>972410.0</td>\n",
       "      <td>NaN</td>\n",
       "      <td>0.000000</td>\n",
       "      <td>0.0</td>\n",
       "      <td>0.000000</td>\n",
       "      <td>11.000000</td>\n",
       "      <td>11.000000</td>\n",
       "      <td>0.000000</td>\n",
       "      <td>11.000000</td>\n",
       "      <td>11.000000</td>\n",
       "      <td>0.000000</td>\n",
       "      <td>0.000000</td>\n",
       "      <td>100.000000</td>\n",
       "    </tr>\n",
       "    <tr>\n",
       "      <th>1056</th>\n",
       "      <td>972412.0</td>\n",
       "      <td>25.000000</td>\n",
       "      <td>1.000000</td>\n",
       "      <td>0.0</td>\n",
       "      <td>0.000000</td>\n",
       "      <td>0.000000</td>\n",
       "      <td>1.000000</td>\n",
       "      <td>1.000000</td>\n",
       "      <td>0.000000</td>\n",
       "      <td>1.000000</td>\n",
       "      <td>0.000000</td>\n",
       "      <td>0.000000</td>\n",
       "      <td>0.000000</td>\n",
       "    </tr>\n",
       "    <tr>\n",
       "      <th>1057</th>\n",
       "      <td>972460.0</td>\n",
       "      <td>4.000000</td>\n",
       "      <td>1.000000</td>\n",
       "      <td>0.0</td>\n",
       "      <td>4.000000</td>\n",
       "      <td>7.000000</td>\n",
       "      <td>12.000000</td>\n",
       "      <td>1.000000</td>\n",
       "      <td>11.000000</td>\n",
       "      <td>9.000000</td>\n",
       "      <td>3.000000</td>\n",
       "      <td>25.000000</td>\n",
       "      <td>91.666667</td>\n",
       "    </tr>\n",
       "    <tr>\n",
       "      <th>1058</th>\n",
       "      <td>973120.0</td>\n",
       "      <td>NaN</td>\n",
       "      <td>0.000000</td>\n",
       "      <td>0.0</td>\n",
       "      <td>1.000000</td>\n",
       "      <td>2.000000</td>\n",
       "      <td>3.000000</td>\n",
       "      <td>0.000000</td>\n",
       "      <td>3.000000</td>\n",
       "      <td>3.000000</td>\n",
       "      <td>0.000000</td>\n",
       "      <td>0.000000</td>\n",
       "      <td>100.000000</td>\n",
       "    </tr>\n",
       "    <tr>\n",
       "      <th>1059</th>\n",
       "      <td>973286.0</td>\n",
       "      <td>88.000000</td>\n",
       "      <td>2.000000</td>\n",
       "      <td>0.0</td>\n",
       "      <td>0.000000</td>\n",
       "      <td>0.000000</td>\n",
       "      <td>2.000000</td>\n",
       "      <td>2.000000</td>\n",
       "      <td>0.000000</td>\n",
       "      <td>2.000000</td>\n",
       "      <td>0.000000</td>\n",
       "      <td>0.000000</td>\n",
       "      <td>0.000000</td>\n",
       "    </tr>\n",
       "  </tbody>\n",
       "</table>\n",
       "<p>1060 rows × 13 columns</p>\n",
       "</div>"
      ],
      "text/plain": [
       "      operator_id  waiting_time  in_answered  in_missed  out_answered  \\\n",
       "0        879896.0     28.450000     1.187500        0.0      2.270833   \n",
       "1        879898.0     20.666667     1.397059        0.0      0.691176   \n",
       "2        880020.0      7.714286     0.500000        0.0      1.142857   \n",
       "3        880022.0     14.000000     0.200000        0.0      1.650000   \n",
       "4        880026.0      7.944444     0.369231        0.0      0.476923   \n",
       "...           ...           ...          ...        ...           ...   \n",
       "1055     972410.0           NaN     0.000000        0.0      0.000000   \n",
       "1056     972412.0     25.000000     1.000000        0.0      0.000000   \n",
       "1057     972460.0      4.000000     1.000000        0.0      4.000000   \n",
       "1058     973120.0           NaN     0.000000        0.0      1.000000   \n",
       "1059     973286.0     88.000000     2.000000        0.0      0.000000   \n",
       "\n",
       "      out_missed  total_calls  incoming_calls  outgoing_calls  internal_calls  \\\n",
       "0       2.354167     5.812500        1.187500        4.625000        4.645833   \n",
       "1       1.264706     3.352941        1.397059        1.955882        3.088235   \n",
       "2       1.571429     3.214286        0.500000        2.714286        2.928571   \n",
       "3       1.550000     3.400000        0.200000        3.200000        3.025000   \n",
       "4       5.661538     6.507692        0.369231        6.138462        6.200000   \n",
       "...          ...          ...             ...             ...             ...   \n",
       "1055   11.000000    11.000000        0.000000       11.000000       11.000000   \n",
       "1056    0.000000     1.000000        1.000000        0.000000        1.000000   \n",
       "1057    7.000000    12.000000        1.000000       11.000000        9.000000   \n",
       "1058    2.000000     3.000000        0.000000        3.000000        3.000000   \n",
       "1059    0.000000     2.000000        2.000000        0.000000        2.000000   \n",
       "\n",
       "      external_calls    ext_pct     out_pct  \n",
       "0           1.166667  11.113288   81.292574  \n",
       "1           0.264706  13.033964   29.703395  \n",
       "2           0.285714   4.761905   50.000000  \n",
       "3           0.375000   7.875000   83.809524  \n",
       "4           0.307692  12.472782   87.637252  \n",
       "...              ...        ...         ...  \n",
       "1055        0.000000   0.000000  100.000000  \n",
       "1056        0.000000   0.000000    0.000000  \n",
       "1057        3.000000  25.000000   91.666667  \n",
       "1058        0.000000   0.000000  100.000000  \n",
       "1059        0.000000   0.000000    0.000000  \n",
       "\n",
       "[1060 rows x 13 columns]"
      ]
     },
     "execution_count": 74,
     "metadata": {},
     "output_type": "execute_result"
    }
   ],
   "source": [
    "avg_calls_operator"
   ]
  },
  {
   "cell_type": "code",
   "execution_count": 75,
   "metadata": {},
   "outputs": [],
   "source": [
    "just_in_calls = avg_calls_operator[(avg_calls_operator['incoming_calls'] != 0) & (avg_calls_operator['outgoing_calls'] == 0)]\n",
    "just_out_calls = avg_calls_operator[(avg_calls_operator['incoming_calls'] == 0) & (avg_calls_operator['outgoing_calls'] != 0)]\n",
    "both_calls = avg_calls_operator[(avg_calls_operator['incoming_calls'] != 0) & (avg_calls_operator['outgoing_calls'] != 0)]"
   ]
  },
  {
   "cell_type": "code",
   "execution_count": 76,
   "metadata": {},
   "outputs": [
    {
     "data": {
      "text/html": [
       "<div>\n",
       "<style scoped>\n",
       "    .dataframe tbody tr th:only-of-type {\n",
       "        vertical-align: middle;\n",
       "    }\n",
       "\n",
       "    .dataframe tbody tr th {\n",
       "        vertical-align: top;\n",
       "    }\n",
       "\n",
       "    .dataframe thead th {\n",
       "        text-align: right;\n",
       "    }\n",
       "</style>\n",
       "<table border=\"1\" class=\"dataframe\">\n",
       "  <thead>\n",
       "    <tr style=\"text-align: right;\">\n",
       "      <th></th>\n",
       "      <th>operator_id</th>\n",
       "      <th>waiting_time</th>\n",
       "      <th>in_answered</th>\n",
       "      <th>in_missed</th>\n",
       "      <th>out_answered</th>\n",
       "      <th>out_missed</th>\n",
       "      <th>total_calls</th>\n",
       "      <th>incoming_calls</th>\n",
       "      <th>outgoing_calls</th>\n",
       "      <th>internal_calls</th>\n",
       "      <th>external_calls</th>\n",
       "      <th>ext_pct</th>\n",
       "      <th>out_pct</th>\n",
       "    </tr>\n",
       "  </thead>\n",
       "  <tbody>\n",
       "    <tr>\n",
       "      <th>8</th>\n",
       "      <td>882476.0</td>\n",
       "      <td>31.666667</td>\n",
       "      <td>1.000000</td>\n",
       "      <td>0.000</td>\n",
       "      <td>0.0</td>\n",
       "      <td>0.0</td>\n",
       "      <td>1.000000</td>\n",
       "      <td>1.000000</td>\n",
       "      <td>0.0</td>\n",
       "      <td>1.000000</td>\n",
       "      <td>0.00</td>\n",
       "      <td>0.000</td>\n",
       "      <td>0.0</td>\n",
       "    </tr>\n",
       "    <tr>\n",
       "      <th>10</th>\n",
       "      <td>882680.0</td>\n",
       "      <td>39.775000</td>\n",
       "      <td>2.400000</td>\n",
       "      <td>0.075</td>\n",
       "      <td>0.0</td>\n",
       "      <td>0.0</td>\n",
       "      <td>2.475000</td>\n",
       "      <td>2.475000</td>\n",
       "      <td>0.0</td>\n",
       "      <td>2.425000</td>\n",
       "      <td>0.05</td>\n",
       "      <td>3.125</td>\n",
       "      <td>0.0</td>\n",
       "    </tr>\n",
       "    <tr>\n",
       "      <th>19</th>\n",
       "      <td>884294.0</td>\n",
       "      <td>6.000000</td>\n",
       "      <td>1.000000</td>\n",
       "      <td>0.000</td>\n",
       "      <td>0.0</td>\n",
       "      <td>0.0</td>\n",
       "      <td>1.000000</td>\n",
       "      <td>1.000000</td>\n",
       "      <td>0.0</td>\n",
       "      <td>1.000000</td>\n",
       "      <td>0.00</td>\n",
       "      <td>0.000</td>\n",
       "      <td>0.0</td>\n",
       "    </tr>\n",
       "    <tr>\n",
       "      <th>25</th>\n",
       "      <td>884524.0</td>\n",
       "      <td>9.500000</td>\n",
       "      <td>1.000000</td>\n",
       "      <td>0.000</td>\n",
       "      <td>0.0</td>\n",
       "      <td>0.0</td>\n",
       "      <td>1.000000</td>\n",
       "      <td>1.000000</td>\n",
       "      <td>0.0</td>\n",
       "      <td>1.000000</td>\n",
       "      <td>0.00</td>\n",
       "      <td>0.000</td>\n",
       "      <td>0.0</td>\n",
       "    </tr>\n",
       "    <tr>\n",
       "      <th>31</th>\n",
       "      <td>886674.0</td>\n",
       "      <td>18.666667</td>\n",
       "      <td>1.222222</td>\n",
       "      <td>0.000</td>\n",
       "      <td>0.0</td>\n",
       "      <td>0.0</td>\n",
       "      <td>1.222222</td>\n",
       "      <td>1.222222</td>\n",
       "      <td>0.0</td>\n",
       "      <td>1.222222</td>\n",
       "      <td>0.00</td>\n",
       "      <td>0.000</td>\n",
       "      <td>0.0</td>\n",
       "    </tr>\n",
       "    <tr>\n",
       "      <th>...</th>\n",
       "      <td>...</td>\n",
       "      <td>...</td>\n",
       "      <td>...</td>\n",
       "      <td>...</td>\n",
       "      <td>...</td>\n",
       "      <td>...</td>\n",
       "      <td>...</td>\n",
       "      <td>...</td>\n",
       "      <td>...</td>\n",
       "      <td>...</td>\n",
       "      <td>...</td>\n",
       "      <td>...</td>\n",
       "      <td>...</td>\n",
       "    </tr>\n",
       "    <tr>\n",
       "      <th>1051</th>\n",
       "      <td>971100.0</td>\n",
       "      <td>13.000000</td>\n",
       "      <td>1.500000</td>\n",
       "      <td>0.000</td>\n",
       "      <td>0.0</td>\n",
       "      <td>0.0</td>\n",
       "      <td>1.500000</td>\n",
       "      <td>1.500000</td>\n",
       "      <td>0.0</td>\n",
       "      <td>1.500000</td>\n",
       "      <td>0.00</td>\n",
       "      <td>0.000</td>\n",
       "      <td>0.0</td>\n",
       "    </tr>\n",
       "    <tr>\n",
       "      <th>1052</th>\n",
       "      <td>971102.0</td>\n",
       "      <td>18.000000</td>\n",
       "      <td>2.000000</td>\n",
       "      <td>0.000</td>\n",
       "      <td>0.0</td>\n",
       "      <td>0.0</td>\n",
       "      <td>2.000000</td>\n",
       "      <td>2.000000</td>\n",
       "      <td>0.0</td>\n",
       "      <td>2.000000</td>\n",
       "      <td>0.00</td>\n",
       "      <td>0.000</td>\n",
       "      <td>0.0</td>\n",
       "    </tr>\n",
       "    <tr>\n",
       "      <th>1053</th>\n",
       "      <td>971354.0</td>\n",
       "      <td>42.000000</td>\n",
       "      <td>3.000000</td>\n",
       "      <td>0.000</td>\n",
       "      <td>0.0</td>\n",
       "      <td>0.0</td>\n",
       "      <td>3.000000</td>\n",
       "      <td>3.000000</td>\n",
       "      <td>0.0</td>\n",
       "      <td>3.000000</td>\n",
       "      <td>0.00</td>\n",
       "      <td>0.000</td>\n",
       "      <td>0.0</td>\n",
       "    </tr>\n",
       "    <tr>\n",
       "      <th>1056</th>\n",
       "      <td>972412.0</td>\n",
       "      <td>25.000000</td>\n",
       "      <td>1.000000</td>\n",
       "      <td>0.000</td>\n",
       "      <td>0.0</td>\n",
       "      <td>0.0</td>\n",
       "      <td>1.000000</td>\n",
       "      <td>1.000000</td>\n",
       "      <td>0.0</td>\n",
       "      <td>1.000000</td>\n",
       "      <td>0.00</td>\n",
       "      <td>0.000</td>\n",
       "      <td>0.0</td>\n",
       "    </tr>\n",
       "    <tr>\n",
       "      <th>1059</th>\n",
       "      <td>973286.0</td>\n",
       "      <td>88.000000</td>\n",
       "      <td>2.000000</td>\n",
       "      <td>0.000</td>\n",
       "      <td>0.0</td>\n",
       "      <td>0.0</td>\n",
       "      <td>2.000000</td>\n",
       "      <td>2.000000</td>\n",
       "      <td>0.0</td>\n",
       "      <td>2.000000</td>\n",
       "      <td>0.00</td>\n",
       "      <td>0.000</td>\n",
       "      <td>0.0</td>\n",
       "    </tr>\n",
       "  </tbody>\n",
       "</table>\n",
       "<p>214 rows × 13 columns</p>\n",
       "</div>"
      ],
      "text/plain": [
       "      operator_id  waiting_time  in_answered  in_missed  out_answered  \\\n",
       "8        882476.0     31.666667     1.000000      0.000           0.0   \n",
       "10       882680.0     39.775000     2.400000      0.075           0.0   \n",
       "19       884294.0      6.000000     1.000000      0.000           0.0   \n",
       "25       884524.0      9.500000     1.000000      0.000           0.0   \n",
       "31       886674.0     18.666667     1.222222      0.000           0.0   \n",
       "...           ...           ...          ...        ...           ...   \n",
       "1051     971100.0     13.000000     1.500000      0.000           0.0   \n",
       "1052     971102.0     18.000000     2.000000      0.000           0.0   \n",
       "1053     971354.0     42.000000     3.000000      0.000           0.0   \n",
       "1056     972412.0     25.000000     1.000000      0.000           0.0   \n",
       "1059     973286.0     88.000000     2.000000      0.000           0.0   \n",
       "\n",
       "      out_missed  total_calls  incoming_calls  outgoing_calls  internal_calls  \\\n",
       "8            0.0     1.000000        1.000000             0.0        1.000000   \n",
       "10           0.0     2.475000        2.475000             0.0        2.425000   \n",
       "19           0.0     1.000000        1.000000             0.0        1.000000   \n",
       "25           0.0     1.000000        1.000000             0.0        1.000000   \n",
       "31           0.0     1.222222        1.222222             0.0        1.222222   \n",
       "...          ...          ...             ...             ...             ...   \n",
       "1051         0.0     1.500000        1.500000             0.0        1.500000   \n",
       "1052         0.0     2.000000        2.000000             0.0        2.000000   \n",
       "1053         0.0     3.000000        3.000000             0.0        3.000000   \n",
       "1056         0.0     1.000000        1.000000             0.0        1.000000   \n",
       "1059         0.0     2.000000        2.000000             0.0        2.000000   \n",
       "\n",
       "      external_calls  ext_pct  out_pct  \n",
       "8               0.00    0.000      0.0  \n",
       "10              0.05    3.125      0.0  \n",
       "19              0.00    0.000      0.0  \n",
       "25              0.00    0.000      0.0  \n",
       "31              0.00    0.000      0.0  \n",
       "...              ...      ...      ...  \n",
       "1051            0.00    0.000      0.0  \n",
       "1052            0.00    0.000      0.0  \n",
       "1053            0.00    0.000      0.0  \n",
       "1056            0.00    0.000      0.0  \n",
       "1059            0.00    0.000      0.0  \n",
       "\n",
       "[214 rows x 13 columns]"
      ]
     },
     "execution_count": 76,
     "metadata": {},
     "output_type": "execute_result"
    }
   ],
   "source": [
    "just_in_calls"
   ]
  },
  {
   "cell_type": "code",
   "execution_count": 77,
   "metadata": {},
   "outputs": [
    {
     "data": {
      "text/html": [
       "<div>\n",
       "<style scoped>\n",
       "    .dataframe tbody tr th:only-of-type {\n",
       "        vertical-align: middle;\n",
       "    }\n",
       "\n",
       "    .dataframe tbody tr th {\n",
       "        vertical-align: top;\n",
       "    }\n",
       "\n",
       "    .dataframe thead th {\n",
       "        text-align: right;\n",
       "    }\n",
       "</style>\n",
       "<table border=\"1\" class=\"dataframe\">\n",
       "  <thead>\n",
       "    <tr style=\"text-align: right;\">\n",
       "      <th></th>\n",
       "      <th>operator_id</th>\n",
       "      <th>waiting_time</th>\n",
       "      <th>in_answered</th>\n",
       "      <th>in_missed</th>\n",
       "      <th>out_answered</th>\n",
       "      <th>out_missed</th>\n",
       "      <th>total_calls</th>\n",
       "      <th>incoming_calls</th>\n",
       "      <th>outgoing_calls</th>\n",
       "      <th>internal_calls</th>\n",
       "      <th>external_calls</th>\n",
       "      <th>ext_pct</th>\n",
       "      <th>out_pct</th>\n",
       "    </tr>\n",
       "  </thead>\n",
       "  <tbody>\n",
       "    <tr>\n",
       "      <th>6</th>\n",
       "      <td>880240.0</td>\n",
       "      <td>NaN</td>\n",
       "      <td>0.0</td>\n",
       "      <td>0.0</td>\n",
       "      <td>1.0</td>\n",
       "      <td>2.428571</td>\n",
       "      <td>3.428571</td>\n",
       "      <td>0.0</td>\n",
       "      <td>3.428571</td>\n",
       "      <td>2.571429</td>\n",
       "      <td>0.857143</td>\n",
       "      <td>37.142857</td>\n",
       "      <td>100.0</td>\n",
       "    </tr>\n",
       "    <tr>\n",
       "      <th>7</th>\n",
       "      <td>881278.0</td>\n",
       "      <td>NaN</td>\n",
       "      <td>0.0</td>\n",
       "      <td>0.0</td>\n",
       "      <td>0.6</td>\n",
       "      <td>3.400000</td>\n",
       "      <td>4.000000</td>\n",
       "      <td>0.0</td>\n",
       "      <td>4.000000</td>\n",
       "      <td>2.400000</td>\n",
       "      <td>1.600000</td>\n",
       "      <td>30.666667</td>\n",
       "      <td>100.0</td>\n",
       "    </tr>\n",
       "    <tr>\n",
       "      <th>15</th>\n",
       "      <td>883018.0</td>\n",
       "      <td>NaN</td>\n",
       "      <td>0.0</td>\n",
       "      <td>0.0</td>\n",
       "      <td>0.0</td>\n",
       "      <td>2.000000</td>\n",
       "      <td>2.000000</td>\n",
       "      <td>0.0</td>\n",
       "      <td>2.000000</td>\n",
       "      <td>2.000000</td>\n",
       "      <td>0.000000</td>\n",
       "      <td>0.000000</td>\n",
       "      <td>100.0</td>\n",
       "    </tr>\n",
       "    <tr>\n",
       "      <th>16</th>\n",
       "      <td>883898.0</td>\n",
       "      <td>NaN</td>\n",
       "      <td>0.0</td>\n",
       "      <td>0.0</td>\n",
       "      <td>1.0</td>\n",
       "      <td>0.000000</td>\n",
       "      <td>1.000000</td>\n",
       "      <td>0.0</td>\n",
       "      <td>1.000000</td>\n",
       "      <td>1.000000</td>\n",
       "      <td>0.000000</td>\n",
       "      <td>0.000000</td>\n",
       "      <td>100.0</td>\n",
       "    </tr>\n",
       "    <tr>\n",
       "      <th>20</th>\n",
       "      <td>884402.0</td>\n",
       "      <td>NaN</td>\n",
       "      <td>0.0</td>\n",
       "      <td>0.0</td>\n",
       "      <td>3.0</td>\n",
       "      <td>1.000000</td>\n",
       "      <td>4.000000</td>\n",
       "      <td>0.0</td>\n",
       "      <td>4.000000</td>\n",
       "      <td>1.000000</td>\n",
       "      <td>3.000000</td>\n",
       "      <td>75.000000</td>\n",
       "      <td>100.0</td>\n",
       "    </tr>\n",
       "    <tr>\n",
       "      <th>...</th>\n",
       "      <td>...</td>\n",
       "      <td>...</td>\n",
       "      <td>...</td>\n",
       "      <td>...</td>\n",
       "      <td>...</td>\n",
       "      <td>...</td>\n",
       "      <td>...</td>\n",
       "      <td>...</td>\n",
       "      <td>...</td>\n",
       "      <td>...</td>\n",
       "      <td>...</td>\n",
       "      <td>...</td>\n",
       "      <td>...</td>\n",
       "    </tr>\n",
       "    <tr>\n",
       "      <th>1049</th>\n",
       "      <td>970484.0</td>\n",
       "      <td>NaN</td>\n",
       "      <td>0.0</td>\n",
       "      <td>0.0</td>\n",
       "      <td>1.0</td>\n",
       "      <td>2.500000</td>\n",
       "      <td>3.500000</td>\n",
       "      <td>0.0</td>\n",
       "      <td>3.500000</td>\n",
       "      <td>3.500000</td>\n",
       "      <td>0.000000</td>\n",
       "      <td>0.000000</td>\n",
       "      <td>100.0</td>\n",
       "    </tr>\n",
       "    <tr>\n",
       "      <th>1050</th>\n",
       "      <td>970486.0</td>\n",
       "      <td>NaN</td>\n",
       "      <td>0.0</td>\n",
       "      <td>0.0</td>\n",
       "      <td>2.0</td>\n",
       "      <td>1.000000</td>\n",
       "      <td>3.000000</td>\n",
       "      <td>0.0</td>\n",
       "      <td>3.000000</td>\n",
       "      <td>3.000000</td>\n",
       "      <td>0.000000</td>\n",
       "      <td>0.000000</td>\n",
       "      <td>100.0</td>\n",
       "    </tr>\n",
       "    <tr>\n",
       "      <th>1054</th>\n",
       "      <td>972408.0</td>\n",
       "      <td>NaN</td>\n",
       "      <td>0.0</td>\n",
       "      <td>0.0</td>\n",
       "      <td>4.0</td>\n",
       "      <td>2.000000</td>\n",
       "      <td>6.000000</td>\n",
       "      <td>0.0</td>\n",
       "      <td>6.000000</td>\n",
       "      <td>6.000000</td>\n",
       "      <td>0.000000</td>\n",
       "      <td>0.000000</td>\n",
       "      <td>100.0</td>\n",
       "    </tr>\n",
       "    <tr>\n",
       "      <th>1055</th>\n",
       "      <td>972410.0</td>\n",
       "      <td>NaN</td>\n",
       "      <td>0.0</td>\n",
       "      <td>0.0</td>\n",
       "      <td>0.0</td>\n",
       "      <td>11.000000</td>\n",
       "      <td>11.000000</td>\n",
       "      <td>0.0</td>\n",
       "      <td>11.000000</td>\n",
       "      <td>11.000000</td>\n",
       "      <td>0.000000</td>\n",
       "      <td>0.000000</td>\n",
       "      <td>100.0</td>\n",
       "    </tr>\n",
       "    <tr>\n",
       "      <th>1058</th>\n",
       "      <td>973120.0</td>\n",
       "      <td>NaN</td>\n",
       "      <td>0.0</td>\n",
       "      <td>0.0</td>\n",
       "      <td>1.0</td>\n",
       "      <td>2.000000</td>\n",
       "      <td>3.000000</td>\n",
       "      <td>0.0</td>\n",
       "      <td>3.000000</td>\n",
       "      <td>3.000000</td>\n",
       "      <td>0.000000</td>\n",
       "      <td>0.000000</td>\n",
       "      <td>100.0</td>\n",
       "    </tr>\n",
       "  </tbody>\n",
       "</table>\n",
       "<p>308 rows × 13 columns</p>\n",
       "</div>"
      ],
      "text/plain": [
       "      operator_id  waiting_time  in_answered  in_missed  out_answered  \\\n",
       "6        880240.0           NaN          0.0        0.0           1.0   \n",
       "7        881278.0           NaN          0.0        0.0           0.6   \n",
       "15       883018.0           NaN          0.0        0.0           0.0   \n",
       "16       883898.0           NaN          0.0        0.0           1.0   \n",
       "20       884402.0           NaN          0.0        0.0           3.0   \n",
       "...           ...           ...          ...        ...           ...   \n",
       "1049     970484.0           NaN          0.0        0.0           1.0   \n",
       "1050     970486.0           NaN          0.0        0.0           2.0   \n",
       "1054     972408.0           NaN          0.0        0.0           4.0   \n",
       "1055     972410.0           NaN          0.0        0.0           0.0   \n",
       "1058     973120.0           NaN          0.0        0.0           1.0   \n",
       "\n",
       "      out_missed  total_calls  incoming_calls  outgoing_calls  internal_calls  \\\n",
       "6       2.428571     3.428571             0.0        3.428571        2.571429   \n",
       "7       3.400000     4.000000             0.0        4.000000        2.400000   \n",
       "15      2.000000     2.000000             0.0        2.000000        2.000000   \n",
       "16      0.000000     1.000000             0.0        1.000000        1.000000   \n",
       "20      1.000000     4.000000             0.0        4.000000        1.000000   \n",
       "...          ...          ...             ...             ...             ...   \n",
       "1049    2.500000     3.500000             0.0        3.500000        3.500000   \n",
       "1050    1.000000     3.000000             0.0        3.000000        3.000000   \n",
       "1054    2.000000     6.000000             0.0        6.000000        6.000000   \n",
       "1055   11.000000    11.000000             0.0       11.000000       11.000000   \n",
       "1058    2.000000     3.000000             0.0        3.000000        3.000000   \n",
       "\n",
       "      external_calls    ext_pct  out_pct  \n",
       "6           0.857143  37.142857    100.0  \n",
       "7           1.600000  30.666667    100.0  \n",
       "15          0.000000   0.000000    100.0  \n",
       "16          0.000000   0.000000    100.0  \n",
       "20          3.000000  75.000000    100.0  \n",
       "...              ...        ...      ...  \n",
       "1049        0.000000   0.000000    100.0  \n",
       "1050        0.000000   0.000000    100.0  \n",
       "1054        0.000000   0.000000    100.0  \n",
       "1055        0.000000   0.000000    100.0  \n",
       "1058        0.000000   0.000000    100.0  \n",
       "\n",
       "[308 rows x 13 columns]"
      ]
     },
     "execution_count": 77,
     "metadata": {},
     "output_type": "execute_result"
    }
   ],
   "source": [
    "just_out_calls"
   ]
  },
  {
   "cell_type": "code",
   "execution_count": 78,
   "metadata": {},
   "outputs": [
    {
     "data": {
      "text/html": [
       "<div>\n",
       "<style scoped>\n",
       "    .dataframe tbody tr th:only-of-type {\n",
       "        vertical-align: middle;\n",
       "    }\n",
       "\n",
       "    .dataframe tbody tr th {\n",
       "        vertical-align: top;\n",
       "    }\n",
       "\n",
       "    .dataframe thead th {\n",
       "        text-align: right;\n",
       "    }\n",
       "</style>\n",
       "<table border=\"1\" class=\"dataframe\">\n",
       "  <thead>\n",
       "    <tr style=\"text-align: right;\">\n",
       "      <th></th>\n",
       "      <th>operator_id</th>\n",
       "      <th>waiting_time</th>\n",
       "      <th>in_answered</th>\n",
       "      <th>in_missed</th>\n",
       "      <th>out_answered</th>\n",
       "      <th>out_missed</th>\n",
       "      <th>total_calls</th>\n",
       "      <th>incoming_calls</th>\n",
       "      <th>outgoing_calls</th>\n",
       "      <th>internal_calls</th>\n",
       "      <th>external_calls</th>\n",
       "      <th>ext_pct</th>\n",
       "      <th>out_pct</th>\n",
       "    </tr>\n",
       "  </thead>\n",
       "  <tbody>\n",
       "    <tr>\n",
       "      <th>0</th>\n",
       "      <td>879896.0</td>\n",
       "      <td>28.450000</td>\n",
       "      <td>1.187500</td>\n",
       "      <td>0.0</td>\n",
       "      <td>2.270833</td>\n",
       "      <td>2.354167</td>\n",
       "      <td>5.812500</td>\n",
       "      <td>1.187500</td>\n",
       "      <td>4.625000</td>\n",
       "      <td>4.645833</td>\n",
       "      <td>1.166667</td>\n",
       "      <td>11.113288</td>\n",
       "      <td>81.292574</td>\n",
       "    </tr>\n",
       "    <tr>\n",
       "      <th>1</th>\n",
       "      <td>879898.0</td>\n",
       "      <td>20.666667</td>\n",
       "      <td>1.397059</td>\n",
       "      <td>0.0</td>\n",
       "      <td>0.691176</td>\n",
       "      <td>1.264706</td>\n",
       "      <td>3.352941</td>\n",
       "      <td>1.397059</td>\n",
       "      <td>1.955882</td>\n",
       "      <td>3.088235</td>\n",
       "      <td>0.264706</td>\n",
       "      <td>13.033964</td>\n",
       "      <td>29.703395</td>\n",
       "    </tr>\n",
       "    <tr>\n",
       "      <th>2</th>\n",
       "      <td>880020.0</td>\n",
       "      <td>7.714286</td>\n",
       "      <td>0.500000</td>\n",
       "      <td>0.0</td>\n",
       "      <td>1.142857</td>\n",
       "      <td>1.571429</td>\n",
       "      <td>3.214286</td>\n",
       "      <td>0.500000</td>\n",
       "      <td>2.714286</td>\n",
       "      <td>2.928571</td>\n",
       "      <td>0.285714</td>\n",
       "      <td>4.761905</td>\n",
       "      <td>50.000000</td>\n",
       "    </tr>\n",
       "    <tr>\n",
       "      <th>3</th>\n",
       "      <td>880022.0</td>\n",
       "      <td>14.000000</td>\n",
       "      <td>0.200000</td>\n",
       "      <td>0.0</td>\n",
       "      <td>1.650000</td>\n",
       "      <td>1.550000</td>\n",
       "      <td>3.400000</td>\n",
       "      <td>0.200000</td>\n",
       "      <td>3.200000</td>\n",
       "      <td>3.025000</td>\n",
       "      <td>0.375000</td>\n",
       "      <td>7.875000</td>\n",
       "      <td>83.809524</td>\n",
       "    </tr>\n",
       "    <tr>\n",
       "      <th>4</th>\n",
       "      <td>880026.0</td>\n",
       "      <td>7.944444</td>\n",
       "      <td>0.369231</td>\n",
       "      <td>0.0</td>\n",
       "      <td>0.476923</td>\n",
       "      <td>5.661538</td>\n",
       "      <td>6.507692</td>\n",
       "      <td>0.369231</td>\n",
       "      <td>6.138462</td>\n",
       "      <td>6.200000</td>\n",
       "      <td>0.307692</td>\n",
       "      <td>12.472782</td>\n",
       "      <td>87.637252</td>\n",
       "    </tr>\n",
       "    <tr>\n",
       "      <th>...</th>\n",
       "      <td>...</td>\n",
       "      <td>...</td>\n",
       "      <td>...</td>\n",
       "      <td>...</td>\n",
       "      <td>...</td>\n",
       "      <td>...</td>\n",
       "      <td>...</td>\n",
       "      <td>...</td>\n",
       "      <td>...</td>\n",
       "      <td>...</td>\n",
       "      <td>...</td>\n",
       "      <td>...</td>\n",
       "      <td>...</td>\n",
       "    </tr>\n",
       "    <tr>\n",
       "      <th>1042</th>\n",
       "      <td>970240.0</td>\n",
       "      <td>44.000000</td>\n",
       "      <td>1.000000</td>\n",
       "      <td>0.0</td>\n",
       "      <td>0.000000</td>\n",
       "      <td>1.000000</td>\n",
       "      <td>2.000000</td>\n",
       "      <td>1.000000</td>\n",
       "      <td>1.000000</td>\n",
       "      <td>2.000000</td>\n",
       "      <td>0.000000</td>\n",
       "      <td>0.000000</td>\n",
       "      <td>50.000000</td>\n",
       "    </tr>\n",
       "    <tr>\n",
       "      <th>1044</th>\n",
       "      <td>970244.0</td>\n",
       "      <td>81.000000</td>\n",
       "      <td>2.000000</td>\n",
       "      <td>0.0</td>\n",
       "      <td>1.000000</td>\n",
       "      <td>1.000000</td>\n",
       "      <td>4.000000</td>\n",
       "      <td>2.000000</td>\n",
       "      <td>2.000000</td>\n",
       "      <td>3.000000</td>\n",
       "      <td>1.000000</td>\n",
       "      <td>25.000000</td>\n",
       "      <td>50.000000</td>\n",
       "    </tr>\n",
       "    <tr>\n",
       "      <th>1046</th>\n",
       "      <td>970252.0</td>\n",
       "      <td>25.000000</td>\n",
       "      <td>1.000000</td>\n",
       "      <td>0.0</td>\n",
       "      <td>2.000000</td>\n",
       "      <td>3.000000</td>\n",
       "      <td>6.000000</td>\n",
       "      <td>1.000000</td>\n",
       "      <td>5.000000</td>\n",
       "      <td>6.000000</td>\n",
       "      <td>0.000000</td>\n",
       "      <td>0.000000</td>\n",
       "      <td>83.333333</td>\n",
       "    </tr>\n",
       "    <tr>\n",
       "      <th>1047</th>\n",
       "      <td>970254.0</td>\n",
       "      <td>121.000000</td>\n",
       "      <td>3.000000</td>\n",
       "      <td>0.0</td>\n",
       "      <td>4.000000</td>\n",
       "      <td>5.000000</td>\n",
       "      <td>12.000000</td>\n",
       "      <td>3.000000</td>\n",
       "      <td>9.000000</td>\n",
       "      <td>9.000000</td>\n",
       "      <td>3.000000</td>\n",
       "      <td>25.000000</td>\n",
       "      <td>75.000000</td>\n",
       "    </tr>\n",
       "    <tr>\n",
       "      <th>1057</th>\n",
       "      <td>972460.0</td>\n",
       "      <td>4.000000</td>\n",
       "      <td>1.000000</td>\n",
       "      <td>0.0</td>\n",
       "      <td>4.000000</td>\n",
       "      <td>7.000000</td>\n",
       "      <td>12.000000</td>\n",
       "      <td>1.000000</td>\n",
       "      <td>11.000000</td>\n",
       "      <td>9.000000</td>\n",
       "      <td>3.000000</td>\n",
       "      <td>25.000000</td>\n",
       "      <td>91.666667</td>\n",
       "    </tr>\n",
       "  </tbody>\n",
       "</table>\n",
       "<p>538 rows × 13 columns</p>\n",
       "</div>"
      ],
      "text/plain": [
       "      operator_id  waiting_time  in_answered  in_missed  out_answered  \\\n",
       "0        879896.0     28.450000     1.187500        0.0      2.270833   \n",
       "1        879898.0     20.666667     1.397059        0.0      0.691176   \n",
       "2        880020.0      7.714286     0.500000        0.0      1.142857   \n",
       "3        880022.0     14.000000     0.200000        0.0      1.650000   \n",
       "4        880026.0      7.944444     0.369231        0.0      0.476923   \n",
       "...           ...           ...          ...        ...           ...   \n",
       "1042     970240.0     44.000000     1.000000        0.0      0.000000   \n",
       "1044     970244.0     81.000000     2.000000        0.0      1.000000   \n",
       "1046     970252.0     25.000000     1.000000        0.0      2.000000   \n",
       "1047     970254.0    121.000000     3.000000        0.0      4.000000   \n",
       "1057     972460.0      4.000000     1.000000        0.0      4.000000   \n",
       "\n",
       "      out_missed  total_calls  incoming_calls  outgoing_calls  internal_calls  \\\n",
       "0       2.354167     5.812500        1.187500        4.625000        4.645833   \n",
       "1       1.264706     3.352941        1.397059        1.955882        3.088235   \n",
       "2       1.571429     3.214286        0.500000        2.714286        2.928571   \n",
       "3       1.550000     3.400000        0.200000        3.200000        3.025000   \n",
       "4       5.661538     6.507692        0.369231        6.138462        6.200000   \n",
       "...          ...          ...             ...             ...             ...   \n",
       "1042    1.000000     2.000000        1.000000        1.000000        2.000000   \n",
       "1044    1.000000     4.000000        2.000000        2.000000        3.000000   \n",
       "1046    3.000000     6.000000        1.000000        5.000000        6.000000   \n",
       "1047    5.000000    12.000000        3.000000        9.000000        9.000000   \n",
       "1057    7.000000    12.000000        1.000000       11.000000        9.000000   \n",
       "\n",
       "      external_calls    ext_pct    out_pct  \n",
       "0           1.166667  11.113288  81.292574  \n",
       "1           0.264706  13.033964  29.703395  \n",
       "2           0.285714   4.761905  50.000000  \n",
       "3           0.375000   7.875000  83.809524  \n",
       "4           0.307692  12.472782  87.637252  \n",
       "...              ...        ...        ...  \n",
       "1042        0.000000   0.000000  50.000000  \n",
       "1044        1.000000  25.000000  50.000000  \n",
       "1046        0.000000   0.000000  83.333333  \n",
       "1047        3.000000  25.000000  75.000000  \n",
       "1057        3.000000  25.000000  91.666667  \n",
       "\n",
       "[538 rows x 13 columns]"
      ]
     },
     "execution_count": 78,
     "metadata": {},
     "output_type": "execute_result"
    }
   ],
   "source": [
    "both_calls"
   ]
  },
  {
   "cell_type": "markdown",
   "metadata": {},
   "source": [
    "Now lets talk about the ineffective operators and how will they be identified:\n",
    "- we have three Metrics but not all of them can be applied to all groups thats why first we will set the threshold (redline) for every individual Metric as if it was the only thing that matters then we will adjust accordingly\n",
    "    1. Waiting Time:  this applies only to the incoming calls as the 75% percentile is about 48 then we will goi a bit higher and consider that 60 a redline that should not be crossed and alone is enough to consider the operator ineffective\n",
    "    2. Missed Calls: also applies only to the incoming calls and the same as Waiting Time we will take an average of 0.5 missed as a redline (0.5 means 1 missed call every 2 days) \n",
    "    3. Number Outgoing calls: this applies to operators who need to make calls not only answer them and when taken alone the number should be as high as possible, and as 25% percentile is around 2 so we will take this as  the redline  \n",
    "\n",
    " \n",
    "<br>\n",
    "\n",
    "\n",
    "- Now after we identified the thresholds for every metric we will start comibining them to sett the formula for the groups: \n",
    "    1. Only outgoing calls: here only 1 Metric `Outgoing calls` applies and will be taking alone (every operator who has an average daily of less than 2 outgoing calls will be conisdered ineffective)\n",
    "    2. Only incoming calls: here we have 2 Metrics `Waiting Time` and `Missed Calls` so we will make a simple formula that use weights for both metrics  `ineffect_value = (W1 * Waiting Time) + (W2 * Missed Calls)`.  The Weights will be calculated from the Thresholds as follows  `W = 100 / Thrshold`\n",
    "    3. Both Calls: Here all metrics apply which is why we will set a more lenient thresholds and will use a formula with weights:  `ineffect_value = (W1 * Waiting Time) + (W2 * Missed Calls) + (W3 * Outgoing calls)`. the weights will be calculated with the same way but we use the following thresholds:\n",
    "        1. Waiting Time: 70 \n",
    "        2. Missed Calls: 0.7\n",
    "        3. Number Outgoing calls: 1.5  (Note: as in the outgoing number the more the better the weight here will be negative)  \n",
    "\n",
    "\n",
    "<div class=\"alert alert-info\"> <b>Note:</b> \n",
    "We used different thresholds here because the operator has more tasks therefore I thought the thresholds should be easier to fulfill than when the operators will have to focus on just one type of calls \n",
    "</div>\n",
    "\n",
    "\n",
    "\n",
    "- after we calculate the `ineffect_value` we will take the operators who reach 100 and consider them ineffective"
   ]
  },
  {
   "cell_type": "code",
   "execution_count": 79,
   "metadata": {
    "scrolled": true
   },
   "outputs": [
    {
     "name": "stdout",
     "output_type": "stream",
     "text": [
      "Number of ineffective operators in group A: 71\n"
     ]
    }
   ],
   "source": [
    "# adding the ineffective operators_id from the group 'Only outgoing calls' to a list\n",
    "ineffective_id_out = just_out_calls[just_out_calls['outgoing_calls'] < 2]['operator_id'].to_list()\n",
    "print('Number of ineffective operators in group A:',len(ineffective_id_out))"
   ]
  },
  {
   "cell_type": "code",
   "execution_count": 80,
   "metadata": {},
   "outputs": [
    {
     "name": "stderr",
     "output_type": "stream",
     "text": [
      "/home/jovyan/.local/lib/python3.7/site-packages/pandas/core/frame.py:3607: SettingWithCopyWarning: \n",
      "A value is trying to be set on a copy of a slice from a DataFrame.\n",
      "Try using .loc[row_indexer,col_indexer] = value instead\n",
      "\n",
      "See the caveats in the documentation: https://pandas.pydata.org/pandas-docs/stable/user_guide/indexing.html#returning-a-view-versus-a-copy\n",
      "  self._set_item(key, value)\n"
     ]
    },
    {
     "data": {
      "text/html": [
       "<div>\n",
       "<style scoped>\n",
       "    .dataframe tbody tr th:only-of-type {\n",
       "        vertical-align: middle;\n",
       "    }\n",
       "\n",
       "    .dataframe tbody tr th {\n",
       "        vertical-align: top;\n",
       "    }\n",
       "\n",
       "    .dataframe thead th {\n",
       "        text-align: right;\n",
       "    }\n",
       "</style>\n",
       "<table border=\"1\" class=\"dataframe\">\n",
       "  <thead>\n",
       "    <tr style=\"text-align: right;\">\n",
       "      <th></th>\n",
       "      <th>operator_id</th>\n",
       "      <th>waiting_time</th>\n",
       "      <th>in_answered</th>\n",
       "      <th>in_missed</th>\n",
       "      <th>out_answered</th>\n",
       "      <th>out_missed</th>\n",
       "      <th>total_calls</th>\n",
       "      <th>incoming_calls</th>\n",
       "      <th>outgoing_calls</th>\n",
       "      <th>internal_calls</th>\n",
       "      <th>external_calls</th>\n",
       "      <th>ext_pct</th>\n",
       "      <th>out_pct</th>\n",
       "      <th>ineffect_value</th>\n",
       "    </tr>\n",
       "  </thead>\n",
       "  <tbody>\n",
       "    <tr>\n",
       "      <th>8</th>\n",
       "      <td>882476.0</td>\n",
       "      <td>31.666667</td>\n",
       "      <td>1.000000</td>\n",
       "      <td>0.000</td>\n",
       "      <td>0.0</td>\n",
       "      <td>0.0</td>\n",
       "      <td>1.000000</td>\n",
       "      <td>1.000000</td>\n",
       "      <td>0.0</td>\n",
       "      <td>1.000000</td>\n",
       "      <td>0.00</td>\n",
       "      <td>0.000</td>\n",
       "      <td>0.0</td>\n",
       "      <td>50.666667</td>\n",
       "    </tr>\n",
       "    <tr>\n",
       "      <th>10</th>\n",
       "      <td>882680.0</td>\n",
       "      <td>39.775000</td>\n",
       "      <td>2.400000</td>\n",
       "      <td>0.075</td>\n",
       "      <td>0.0</td>\n",
       "      <td>0.0</td>\n",
       "      <td>2.475000</td>\n",
       "      <td>2.475000</td>\n",
       "      <td>0.0</td>\n",
       "      <td>2.425000</td>\n",
       "      <td>0.05</td>\n",
       "      <td>3.125</td>\n",
       "      <td>0.0</td>\n",
       "      <td>78.640000</td>\n",
       "    </tr>\n",
       "    <tr>\n",
       "      <th>19</th>\n",
       "      <td>884294.0</td>\n",
       "      <td>6.000000</td>\n",
       "      <td>1.000000</td>\n",
       "      <td>0.000</td>\n",
       "      <td>0.0</td>\n",
       "      <td>0.0</td>\n",
       "      <td>1.000000</td>\n",
       "      <td>1.000000</td>\n",
       "      <td>0.0</td>\n",
       "      <td>1.000000</td>\n",
       "      <td>0.00</td>\n",
       "      <td>0.000</td>\n",
       "      <td>0.0</td>\n",
       "      <td>9.600000</td>\n",
       "    </tr>\n",
       "    <tr>\n",
       "      <th>25</th>\n",
       "      <td>884524.0</td>\n",
       "      <td>9.500000</td>\n",
       "      <td>1.000000</td>\n",
       "      <td>0.000</td>\n",
       "      <td>0.0</td>\n",
       "      <td>0.0</td>\n",
       "      <td>1.000000</td>\n",
       "      <td>1.000000</td>\n",
       "      <td>0.0</td>\n",
       "      <td>1.000000</td>\n",
       "      <td>0.00</td>\n",
       "      <td>0.000</td>\n",
       "      <td>0.0</td>\n",
       "      <td>15.200000</td>\n",
       "    </tr>\n",
       "    <tr>\n",
       "      <th>31</th>\n",
       "      <td>886674.0</td>\n",
       "      <td>18.666667</td>\n",
       "      <td>1.222222</td>\n",
       "      <td>0.000</td>\n",
       "      <td>0.0</td>\n",
       "      <td>0.0</td>\n",
       "      <td>1.222222</td>\n",
       "      <td>1.222222</td>\n",
       "      <td>0.0</td>\n",
       "      <td>1.222222</td>\n",
       "      <td>0.00</td>\n",
       "      <td>0.000</td>\n",
       "      <td>0.0</td>\n",
       "      <td>29.866667</td>\n",
       "    </tr>\n",
       "  </tbody>\n",
       "</table>\n",
       "</div>"
      ],
      "text/plain": [
       "    operator_id  waiting_time  in_answered  in_missed  out_answered  \\\n",
       "8      882476.0     31.666667     1.000000      0.000           0.0   \n",
       "10     882680.0     39.775000     2.400000      0.075           0.0   \n",
       "19     884294.0      6.000000     1.000000      0.000           0.0   \n",
       "25     884524.0      9.500000     1.000000      0.000           0.0   \n",
       "31     886674.0     18.666667     1.222222      0.000           0.0   \n",
       "\n",
       "    out_missed  total_calls  incoming_calls  outgoing_calls  internal_calls  \\\n",
       "8          0.0     1.000000        1.000000             0.0        1.000000   \n",
       "10         0.0     2.475000        2.475000             0.0        2.425000   \n",
       "19         0.0     1.000000        1.000000             0.0        1.000000   \n",
       "25         0.0     1.000000        1.000000             0.0        1.000000   \n",
       "31         0.0     1.222222        1.222222             0.0        1.222222   \n",
       "\n",
       "    external_calls  ext_pct  out_pct  ineffect_value  \n",
       "8             0.00    0.000      0.0       50.666667  \n",
       "10            0.05    3.125      0.0       78.640000  \n",
       "19            0.00    0.000      0.0        9.600000  \n",
       "25            0.00    0.000      0.0       15.200000  \n",
       "31            0.00    0.000      0.0       29.866667  "
      ]
     },
     "execution_count": 80,
     "metadata": {},
     "output_type": "execute_result"
    }
   ],
   "source": [
    "# applying the formula for 'Only incoming calls'\n",
    "just_in_calls['ineffect_value'] = (just_in_calls['in_missed']* 200) + (just_in_calls['waiting_time']* 1.6)\n",
    "just_in_calls.head()"
   ]
  },
  {
   "cell_type": "code",
   "execution_count": 81,
   "metadata": {},
   "outputs": [
    {
     "name": "stdout",
     "output_type": "stream",
     "text": [
      "Number of ineffective operators in group B: 37\n"
     ]
    }
   ],
   "source": [
    "#adding the operators_id who reached the ineffect_valuies of 100 to list\n",
    "ineffective_id_in = just_in_calls[just_in_calls['ineffect_value'] >= 100]['operator_id'].to_list()\n",
    "print('Number of ineffective operators in group B:',len(ineffective_id_in))"
   ]
  },
  {
   "cell_type": "code",
   "execution_count": 82,
   "metadata": {},
   "outputs": [
    {
     "name": "stderr",
     "output_type": "stream",
     "text": [
      "/home/jovyan/.local/lib/python3.7/site-packages/pandas/core/frame.py:3607: SettingWithCopyWarning: \n",
      "A value is trying to be set on a copy of a slice from a DataFrame.\n",
      "Try using .loc[row_indexer,col_indexer] = value instead\n",
      "\n",
      "See the caveats in the documentation: https://pandas.pydata.org/pandas-docs/stable/user_guide/indexing.html#returning-a-view-versus-a-copy\n",
      "  self._set_item(key, value)\n"
     ]
    },
    {
     "data": {
      "text/html": [
       "<div>\n",
       "<style scoped>\n",
       "    .dataframe tbody tr th:only-of-type {\n",
       "        vertical-align: middle;\n",
       "    }\n",
       "\n",
       "    .dataframe tbody tr th {\n",
       "        vertical-align: top;\n",
       "    }\n",
       "\n",
       "    .dataframe thead th {\n",
       "        text-align: right;\n",
       "    }\n",
       "</style>\n",
       "<table border=\"1\" class=\"dataframe\">\n",
       "  <thead>\n",
       "    <tr style=\"text-align: right;\">\n",
       "      <th></th>\n",
       "      <th>operator_id</th>\n",
       "      <th>waiting_time</th>\n",
       "      <th>in_answered</th>\n",
       "      <th>in_missed</th>\n",
       "      <th>out_answered</th>\n",
       "      <th>out_missed</th>\n",
       "      <th>total_calls</th>\n",
       "      <th>incoming_calls</th>\n",
       "      <th>outgoing_calls</th>\n",
       "      <th>internal_calls</th>\n",
       "      <th>external_calls</th>\n",
       "      <th>ext_pct</th>\n",
       "      <th>out_pct</th>\n",
       "      <th>ineffect_value</th>\n",
       "    </tr>\n",
       "  </thead>\n",
       "  <tbody>\n",
       "    <tr>\n",
       "      <th>0</th>\n",
       "      <td>879896.0</td>\n",
       "      <td>28.450000</td>\n",
       "      <td>1.187500</td>\n",
       "      <td>0.0</td>\n",
       "      <td>2.270833</td>\n",
       "      <td>2.354167</td>\n",
       "      <td>5.812500</td>\n",
       "      <td>1.187500</td>\n",
       "      <td>4.625000</td>\n",
       "      <td>4.645833</td>\n",
       "      <td>1.166667</td>\n",
       "      <td>11.113288</td>\n",
       "      <td>81.292574</td>\n",
       "      <td>-264.566500</td>\n",
       "    </tr>\n",
       "    <tr>\n",
       "      <th>1</th>\n",
       "      <td>879898.0</td>\n",
       "      <td>20.666667</td>\n",
       "      <td>1.397059</td>\n",
       "      <td>0.0</td>\n",
       "      <td>0.691176</td>\n",
       "      <td>1.264706</td>\n",
       "      <td>3.352941</td>\n",
       "      <td>1.397059</td>\n",
       "      <td>1.955882</td>\n",
       "      <td>3.088235</td>\n",
       "      <td>0.264706</td>\n",
       "      <td>13.033964</td>\n",
       "      <td>29.703395</td>\n",
       "      <td>-99.534902</td>\n",
       "    </tr>\n",
       "    <tr>\n",
       "      <th>2</th>\n",
       "      <td>880020.0</td>\n",
       "      <td>7.714286</td>\n",
       "      <td>0.500000</td>\n",
       "      <td>0.0</td>\n",
       "      <td>1.142857</td>\n",
       "      <td>1.571429</td>\n",
       "      <td>3.214286</td>\n",
       "      <td>0.500000</td>\n",
       "      <td>2.714286</td>\n",
       "      <td>2.928571</td>\n",
       "      <td>0.285714</td>\n",
       "      <td>4.761905</td>\n",
       "      <td>50.000000</td>\n",
       "      <td>-168.111429</td>\n",
       "    </tr>\n",
       "    <tr>\n",
       "      <th>3</th>\n",
       "      <td>880022.0</td>\n",
       "      <td>14.000000</td>\n",
       "      <td>0.200000</td>\n",
       "      <td>0.0</td>\n",
       "      <td>1.650000</td>\n",
       "      <td>1.550000</td>\n",
       "      <td>3.400000</td>\n",
       "      <td>0.200000</td>\n",
       "      <td>3.200000</td>\n",
       "      <td>3.025000</td>\n",
       "      <td>0.375000</td>\n",
       "      <td>7.875000</td>\n",
       "      <td>83.809524</td>\n",
       "      <td>-191.180000</td>\n",
       "    </tr>\n",
       "    <tr>\n",
       "      <th>4</th>\n",
       "      <td>880026.0</td>\n",
       "      <td>7.944444</td>\n",
       "      <td>0.369231</td>\n",
       "      <td>0.0</td>\n",
       "      <td>0.476923</td>\n",
       "      <td>5.661538</td>\n",
       "      <td>6.507692</td>\n",
       "      <td>0.369231</td>\n",
       "      <td>6.138462</td>\n",
       "      <td>6.200000</td>\n",
       "      <td>0.307692</td>\n",
       "      <td>12.472782</td>\n",
       "      <td>87.637252</td>\n",
       "      <td>-393.777906</td>\n",
       "    </tr>\n",
       "  </tbody>\n",
       "</table>\n",
       "</div>"
      ],
      "text/plain": [
       "   operator_id  waiting_time  in_answered  in_missed  out_answered  \\\n",
       "0     879896.0     28.450000     1.187500        0.0      2.270833   \n",
       "1     879898.0     20.666667     1.397059        0.0      0.691176   \n",
       "2     880020.0      7.714286     0.500000        0.0      1.142857   \n",
       "3     880022.0     14.000000     0.200000        0.0      1.650000   \n",
       "4     880026.0      7.944444     0.369231        0.0      0.476923   \n",
       "\n",
       "   out_missed  total_calls  incoming_calls  outgoing_calls  internal_calls  \\\n",
       "0    2.354167     5.812500        1.187500        4.625000        4.645833   \n",
       "1    1.264706     3.352941        1.397059        1.955882        3.088235   \n",
       "2    1.571429     3.214286        0.500000        2.714286        2.928571   \n",
       "3    1.550000     3.400000        0.200000        3.200000        3.025000   \n",
       "4    5.661538     6.507692        0.369231        6.138462        6.200000   \n",
       "\n",
       "   external_calls    ext_pct    out_pct  ineffect_value  \n",
       "0        1.166667  11.113288  81.292574     -264.566500  \n",
       "1        0.264706  13.033964  29.703395      -99.534902  \n",
       "2        0.285714   4.761905  50.000000     -168.111429  \n",
       "3        0.375000   7.875000  83.809524     -191.180000  \n",
       "4        0.307692  12.472782  87.637252     -393.777906  "
      ]
     },
     "execution_count": 82,
     "metadata": {},
     "output_type": "execute_result"
    }
   ],
   "source": [
    "# applying the formula for 'both calls'\n",
    "both_calls['ineffect_value'] = (both_calls['in_missed']* 143) + (both_calls['waiting_time']* 1.43) - (both_calls['outgoing_calls'] * 66)\n",
    "both_calls.head()"
   ]
  },
  {
   "cell_type": "markdown",
   "metadata": {},
   "source": [
    "<div class=\"alert alert-info\"> <b>Student's comment:</b> \n",
    "I will explain my train of thoughts here, and how I arrived at this formula, hopefully I will be able to explain it well enough.  <br> <br>   \n",
    "    - When the operator reaches the threshold or the \"redline\" he will get a full `ineffect_value` of 100 . That's why to find the weight of 1 Unit of that metric we used the simplest way, deviding the `ineffect_value`, which is 100, over the threshold.<br>\n",
    "    - We have three Metrics but they don't have the same behavior: <br>\n",
    "        1. Waiting Time: the less the better. Therefore the weight should be positive as it will increase the `ineffect_value`<br>\n",
    "        2. Missed Calls: same as Waiting Time; the less the better. Therefore the weight should be positive as it will increase the `ineffect_value`<br>\n",
    "        3. Outgoing calls: Here, the more the better. Therfore the weight should be negative which will descrease the `ineffect_value` the more the operator has Outgoing calls. <br>\n",
    "    Because the weight should be negative and I used a positive one, the last sign in the formula `ineffect_value = (W1 * Waiting Time) + (W2 * Missed Calls) + (W3 * Outgoing calls)` will change. I think I could have just applied a negative value and left the sign as it is but from a mathematical perspective it is the same.\n",
    "     \n",
    "</div>"
   ]
  },
  {
   "cell_type": "code",
   "execution_count": 83,
   "metadata": {},
   "outputs": [
    {
     "name": "stdout",
     "output_type": "stream",
     "text": [
      "Number of ineffective operators in group C: 14\n"
     ]
    }
   ],
   "source": [
    "#adding the operators_id who reached the ineffect_valuies of 100 to list\n",
    "ineffective_id_both = both_calls[both_calls['ineffect_value'] >= 100]['operator_id'].to_list()\n",
    "print('Number of ineffective operators in group C:',len(ineffective_id_both))"
   ]
  },
  {
   "cell_type": "code",
   "execution_count": 84,
   "metadata": {},
   "outputs": [],
   "source": [
    "# combining all list into one list with the operators_id of ineffective users\n",
    "ineffective_id = ineffective_id_out + ineffective_id_in + ineffective_id_both"
   ]
  },
  {
   "cell_type": "code",
   "execution_count": 85,
   "metadata": {},
   "outputs": [],
   "source": [
    "# creating new empty column in all relevant dataset\n",
    "data_clean['ineffective'] = ''\n",
    "final['ineffective'] = ''\n",
    "avg_calls_operator['ineffective'] = ''"
   ]
  },
  {
   "cell_type": "code",
   "execution_count": 86,
   "metadata": {},
   "outputs": [],
   "source": [
    "# filling the new column in all dataset to identify the ineffective operators based on the id in the list\n",
    "data_clean['ineffective'] = data_clean['ineffective'].where(data_clean['operator_id'].isin(ineffective_id), False).mask(data_clean['operator_id'].isin(ineffective_id), True)\n",
    "final['ineffective'] = final['ineffective'].where(final['operator_id'].isin(ineffective_id), False).mask(final['operator_id'].isin(ineffective_id), True)\n",
    "avg_calls_operator['ineffective'] = avg_calls_operator['ineffective'].where(avg_calls_operator['operator_id'].isin(ineffective_id), False).mask(avg_calls_operator['operator_id'].isin(ineffective_id), True)"
   ]
  },
  {
   "cell_type": "code",
   "execution_count": 87,
   "metadata": {},
   "outputs": [
    {
     "data": {
      "text/html": [
       "<div>\n",
       "<style scoped>\n",
       "    .dataframe tbody tr th:only-of-type {\n",
       "        vertical-align: middle;\n",
       "    }\n",
       "\n",
       "    .dataframe tbody tr th {\n",
       "        vertical-align: top;\n",
       "    }\n",
       "\n",
       "    .dataframe thead th {\n",
       "        text-align: right;\n",
       "    }\n",
       "</style>\n",
       "<table border=\"1\" class=\"dataframe\">\n",
       "  <thead>\n",
       "    <tr style=\"text-align: right;\">\n",
       "      <th></th>\n",
       "      <th>operator_id</th>\n",
       "      <th>waiting_time</th>\n",
       "      <th>in_answered</th>\n",
       "      <th>in_missed</th>\n",
       "      <th>out_answered</th>\n",
       "      <th>out_missed</th>\n",
       "      <th>total_calls</th>\n",
       "      <th>incoming_calls</th>\n",
       "      <th>outgoing_calls</th>\n",
       "      <th>internal_calls</th>\n",
       "      <th>external_calls</th>\n",
       "      <th>ext_pct</th>\n",
       "      <th>out_pct</th>\n",
       "      <th>ineffective</th>\n",
       "    </tr>\n",
       "  </thead>\n",
       "  <tbody>\n",
       "    <tr>\n",
       "      <th>0</th>\n",
       "      <td>879896.0</td>\n",
       "      <td>28.450000</td>\n",
       "      <td>1.187500</td>\n",
       "      <td>0.0</td>\n",
       "      <td>2.270833</td>\n",
       "      <td>2.354167</td>\n",
       "      <td>5.812500</td>\n",
       "      <td>1.187500</td>\n",
       "      <td>4.625000</td>\n",
       "      <td>4.645833</td>\n",
       "      <td>1.166667</td>\n",
       "      <td>11.113288</td>\n",
       "      <td>81.292574</td>\n",
       "      <td>False</td>\n",
       "    </tr>\n",
       "    <tr>\n",
       "      <th>1</th>\n",
       "      <td>879898.0</td>\n",
       "      <td>20.666667</td>\n",
       "      <td>1.397059</td>\n",
       "      <td>0.0</td>\n",
       "      <td>0.691176</td>\n",
       "      <td>1.264706</td>\n",
       "      <td>3.352941</td>\n",
       "      <td>1.397059</td>\n",
       "      <td>1.955882</td>\n",
       "      <td>3.088235</td>\n",
       "      <td>0.264706</td>\n",
       "      <td>13.033964</td>\n",
       "      <td>29.703395</td>\n",
       "      <td>False</td>\n",
       "    </tr>\n",
       "    <tr>\n",
       "      <th>2</th>\n",
       "      <td>880020.0</td>\n",
       "      <td>7.714286</td>\n",
       "      <td>0.500000</td>\n",
       "      <td>0.0</td>\n",
       "      <td>1.142857</td>\n",
       "      <td>1.571429</td>\n",
       "      <td>3.214286</td>\n",
       "      <td>0.500000</td>\n",
       "      <td>2.714286</td>\n",
       "      <td>2.928571</td>\n",
       "      <td>0.285714</td>\n",
       "      <td>4.761905</td>\n",
       "      <td>50.000000</td>\n",
       "      <td>False</td>\n",
       "    </tr>\n",
       "    <tr>\n",
       "      <th>3</th>\n",
       "      <td>880022.0</td>\n",
       "      <td>14.000000</td>\n",
       "      <td>0.200000</td>\n",
       "      <td>0.0</td>\n",
       "      <td>1.650000</td>\n",
       "      <td>1.550000</td>\n",
       "      <td>3.400000</td>\n",
       "      <td>0.200000</td>\n",
       "      <td>3.200000</td>\n",
       "      <td>3.025000</td>\n",
       "      <td>0.375000</td>\n",
       "      <td>7.875000</td>\n",
       "      <td>83.809524</td>\n",
       "      <td>False</td>\n",
       "    </tr>\n",
       "    <tr>\n",
       "      <th>4</th>\n",
       "      <td>880026.0</td>\n",
       "      <td>7.944444</td>\n",
       "      <td>0.369231</td>\n",
       "      <td>0.0</td>\n",
       "      <td>0.476923</td>\n",
       "      <td>5.661538</td>\n",
       "      <td>6.507692</td>\n",
       "      <td>0.369231</td>\n",
       "      <td>6.138462</td>\n",
       "      <td>6.200000</td>\n",
       "      <td>0.307692</td>\n",
       "      <td>12.472782</td>\n",
       "      <td>87.637252</td>\n",
       "      <td>False</td>\n",
       "    </tr>\n",
       "  </tbody>\n",
       "</table>\n",
       "</div>"
      ],
      "text/plain": [
       "   operator_id  waiting_time  in_answered  in_missed  out_answered  \\\n",
       "0     879896.0     28.450000     1.187500        0.0      2.270833   \n",
       "1     879898.0     20.666667     1.397059        0.0      0.691176   \n",
       "2     880020.0      7.714286     0.500000        0.0      1.142857   \n",
       "3     880022.0     14.000000     0.200000        0.0      1.650000   \n",
       "4     880026.0      7.944444     0.369231        0.0      0.476923   \n",
       "\n",
       "   out_missed  total_calls  incoming_calls  outgoing_calls  internal_calls  \\\n",
       "0    2.354167     5.812500        1.187500        4.625000        4.645833   \n",
       "1    1.264706     3.352941        1.397059        1.955882        3.088235   \n",
       "2    1.571429     3.214286        0.500000        2.714286        2.928571   \n",
       "3    1.550000     3.400000        0.200000        3.200000        3.025000   \n",
       "4    5.661538     6.507692        0.369231        6.138462        6.200000   \n",
       "\n",
       "   external_calls    ext_pct    out_pct ineffective  \n",
       "0        1.166667  11.113288  81.292574       False  \n",
       "1        0.264706  13.033964  29.703395       False  \n",
       "2        0.285714   4.761905  50.000000       False  \n",
       "3        0.375000   7.875000  83.809524       False  \n",
       "4        0.307692  12.472782  87.637252       False  "
      ]
     },
     "execution_count": 87,
     "metadata": {},
     "output_type": "execute_result"
    }
   ],
   "source": [
    "avg_calls_operator.head()"
   ]
  },
  {
   "cell_type": "code",
   "execution_count": 88,
   "metadata": {},
   "outputs": [
    {
     "name": "stdout",
     "output_type": "stream",
     "text": [
      "Number of overall ineffective operators: 122\n"
     ]
    }
   ],
   "source": [
    "print('Number of overall ineffective operators:',len(ineffective_id))"
   ]
  },
  {
   "cell_type": "code",
   "execution_count": 89,
   "metadata": {},
   "outputs": [
    {
     "name": "stdout",
     "output_type": "stream",
     "text": [
      "percentage of overall ineffective operators: 11.51%\n"
     ]
    }
   ],
   "source": [
    "print('percentage of overall ineffective operators:', '{:0.2%}'.format(len(ineffective_id) / avg_calls_operator['operator_id'].nunique()))"
   ]
  },
  {
   "cell_type": "markdown",
   "metadata": {},
   "source": [
    "- We identified 122 ineffective operators who make around 11% of all operators"
   ]
  },
  {
   "cell_type": "markdown",
   "metadata": {},
   "source": [
    "## Test statistical hypotheses:\n",
    "\n",
    "- before testing the hypthesis we will split the data into 2 sets: effective and ineffective"
   ]
  },
  {
   "cell_type": "code",
   "execution_count": 90,
   "metadata": {},
   "outputs": [],
   "source": [
    "effective = avg_calls_operator[avg_calls_operator['ineffective'] == False]\n",
    "ineffective = avg_calls_operator[avg_calls_operator['ineffective'] == True]"
   ]
  },
  {
   "cell_type": "code",
   "execution_count": 91,
   "metadata": {},
   "outputs": [
    {
     "name": "stdout",
     "output_type": "stream",
     "text": [
      "<class 'pandas.core.frame.DataFrame'>\n",
      "Int64Index: 938 entries, 0 to 1058\n",
      "Data columns (total 14 columns):\n",
      " #   Column          Non-Null Count  Dtype  \n",
      "---  ------          --------------  -----  \n",
      " 0   operator_id     938 non-null    float64\n",
      " 1   waiting_time    701 non-null    float64\n",
      " 2   in_answered     938 non-null    float64\n",
      " 3   in_missed       938 non-null    float64\n",
      " 4   out_answered    938 non-null    float64\n",
      " 5   out_missed      938 non-null    float64\n",
      " 6   total_calls     938 non-null    float64\n",
      " 7   incoming_calls  938 non-null    float64\n",
      " 8   outgoing_calls  938 non-null    float64\n",
      " 9   internal_calls  938 non-null    float64\n",
      " 10  external_calls  938 non-null    float64\n",
      " 11  ext_pct         938 non-null    float64\n",
      " 12  out_pct         938 non-null    float64\n",
      " 13  ineffective     938 non-null    object \n",
      "dtypes: float64(13), object(1)\n",
      "memory usage: 109.9+ KB\n"
     ]
    }
   ],
   "source": [
    "effective.info()"
   ]
  },
  {
   "cell_type": "code",
   "execution_count": 92,
   "metadata": {},
   "outputs": [
    {
     "name": "stdout",
     "output_type": "stream",
     "text": [
      "<class 'pandas.core.frame.DataFrame'>\n",
      "Int64Index: 122 entries, 16 to 1059\n",
      "Data columns (total 14 columns):\n",
      " #   Column          Non-Null Count  Dtype  \n",
      "---  ------          --------------  -----  \n",
      " 0   operator_id     122 non-null    float64\n",
      " 1   waiting_time    51 non-null     float64\n",
      " 2   in_answered     122 non-null    float64\n",
      " 3   in_missed       122 non-null    float64\n",
      " 4   out_answered    122 non-null    float64\n",
      " 5   out_missed      122 non-null    float64\n",
      " 6   total_calls     122 non-null    float64\n",
      " 7   incoming_calls  122 non-null    float64\n",
      " 8   outgoing_calls  122 non-null    float64\n",
      " 9   internal_calls  122 non-null    float64\n",
      " 10  external_calls  122 non-null    float64\n",
      " 11  ext_pct         122 non-null    float64\n",
      " 12  out_pct         122 non-null    float64\n",
      " 13  ineffective     122 non-null    object \n",
      "dtypes: float64(13), object(1)\n",
      "memory usage: 14.3+ KB\n"
     ]
    }
   ],
   "source": [
    "ineffective.info()"
   ]
  },
  {
   "cell_type": "markdown",
   "metadata": {},
   "source": [
    "## Share of incoming and outgoing calls are the same for effective and ineffective operators "
   ]
  },
  {
   "cell_type": "markdown",
   "metadata": {},
   "source": [
    "lets check if our data is distributed normally and for that we will use shapiro Test.\n",
    "\n",
    "we will test both datasets and our hypothesises will be:\n",
    "\n",
    "- H0: dataset is distributed normaly \n",
    "- H1: dataset is NOT distributed normaly  \n",
    "\n",
    "we will use a standard critical statistical significance level (alpha= 0.05)"
   ]
  },
  {
   "cell_type": "code",
   "execution_count": 93,
   "metadata": {},
   "outputs": [
    {
     "name": "stdout",
     "output_type": "stream",
     "text": [
      "p-value:  9.318165352774485e-39\n",
      "Data does not look Normal (reject H0)\n"
     ]
    }
   ],
   "source": [
    "alpha = 0.05\n",
    "\n",
    "eff_normality = st.shapiro(effective['ext_pct'])\n",
    "\n",
    "print('p-value: ', eff_normality.pvalue)\n",
    "\n",
    "if (eff_normality.pvalue > alpha):\n",
    "    print('Data looks Normal (fail to reject H0)')\n",
    "else:\n",
    "    print('Data does not look Normal (reject H0)')   "
   ]
  },
  {
   "cell_type": "code",
   "execution_count": 94,
   "metadata": {},
   "outputs": [
    {
     "name": "stdout",
     "output_type": "stream",
     "text": [
      "p-value:  6.810158130814376e-16\n",
      "Data does not look Normal (reject H0)\n"
     ]
    }
   ],
   "source": [
    "alpha = 0.05\n",
    "\n",
    "ineff_normality = st.shapiro(ineffective['ext_pct'])\n",
    "\n",
    "print('p-value: ', ineff_normality.pvalue)\n",
    "\n",
    "if (ineff_normality.pvalue > alpha):\n",
    "    print('Data looks Normal (fail to reject H0)')\n",
    "else:\n",
    "    print('Data does not look Normal (reject H0)') "
   ]
  },
  {
   "cell_type": "markdown",
   "metadata": {},
   "source": [
    "Based on the tests above we see that both of our datasets don't look normal so we will use Levene-Test to check if the variances are equal on both sets.\n",
    "\n",
    "for this this test we will be forming the following hypothesis:\n",
    "- H0: Variances are equal\n",
    "- H1: Variances are Different \n",
    "\n",
    "we will use a standard critical statistical significance level (alpha= 0.05)  \n",
    "\n",
    "- to decide which variation of the Test we will use lets take a look at the hist for both of the sets and then we will decide as follows:  \n",
    "1. median: recommended for skewed distributions.\n",
    "2. mean: recommended for symmetric, moderate-tailed distributions.\n",
    "3. trimmed: recommended for heavy-tailed distributions."
   ]
  },
  {
   "cell_type": "code",
   "execution_count": 95,
   "metadata": {},
   "outputs": [
    {
     "data": {
      "image/png": "[encoded data removed]",
      "text/plain": [
       "<Figure size 864x432 with 2 Axes>"
      ]
     },
     "metadata": {
      "needs_background": "light"
     },
     "output_type": "display_data"
    }
   ],
   "source": [
    "plt.figure(figsize = (12,6));\n",
    "plt.subplot(1, 2, 1);\n",
    "fig1 = effective['ext_pct'].hist(color = 'teal');\n",
    "plt.title('Share of External calls for effective Users', fontsize = 15);\n",
    "fig1.set_ylabel(\"Frequency\", fontsize=12);\n",
    "fig1.set_xlabel(\"Share of External calls\", fontsize=12);\n",
    "\n",
    "plt.subplot(1, 2, 2);\n",
    "fig2 = ineffective['ext_pct'].hist(color = 'firebrick');\n",
    "plt.title('Share of External calls for ineffective', fontsize = 15);\n",
    "fig2.set_ylabel(\"Frequency\", fontsize=12);\n",
    "fig2.set_xlabel(\"Share of External calls\", fontsize=12);"
   ]
  },
  {
   "cell_type": "markdown",
   "metadata": {},
   "source": [
    "Based on the Hists above we can see that both of our sets are heavy-tailed so we will use the 'trimmed' Variation "
   ]
  },
  {
   "cell_type": "code",
   "execution_count": 96,
   "metadata": {},
   "outputs": [
    {
     "name": "stdout",
     "output_type": "stream",
     "text": [
      "p-value:  2.1965426818900535e-19\n",
      "We reject the null hypothesis and the variances are different \n"
     ]
    }
   ],
   "source": [
    "alpha = 0.05\n",
    "\n",
    "variance_equality = st.levene(effective['ext_pct'], ineffective['ext_pct'] , center = 'trimmed')\n",
    "\n",
    "print('p-value: ', variance_equality.pvalue)\n",
    "\n",
    "if (variance_equality.pvalue < alpha):\n",
    "        print(\"We reject the null hypothesis and the variances are different \")\n",
    "else:\n",
    "        print(\"We can't reject the null hypothesis therefore the variances are equal\") "
   ]
  },
  {
   "cell_type": "markdown",
   "metadata": {},
   "source": [
    "We rejected the null hypothesis so we will consider that the variances in both datasets are not equal and now we check our main Hypothesis using Student-Test with consideration that the variances are not equal.\n",
    "\n",
    "Our hypothesis is: ***share of external / internal calls is the same for effective and ineffective operators.***\n",
    "\n",
    "for this this test we will be forming the following hypothesis:\n",
    "- H0: Share of external calls for effective == Share of external calls for ineffective\n",
    "- H1: Share of external calls for effective != Share of external calls for ineffective\n",
    "\n",
    "we will use a standard critical statistical significance level (alpha= 0.05) "
   ]
  },
  {
   "cell_type": "code",
   "execution_count": 97,
   "metadata": {
    "scrolled": true
   },
   "outputs": [
    {
     "name": "stdout",
     "output_type": "stream",
     "text": [
      "p-value:  0.029815707498525416\n",
      "We reject the null hypothesis and the Share of external calls for effective and ineffective operators is not the same\n"
     ]
    }
   ],
   "source": [
    "alpha = 0.05\n",
    "\n",
    "results = st.ttest_ind(effective['ext_pct'], ineffective['ext_pct'], equal_var = False)\n",
    "\n",
    "print('p-value: ', results.pvalue)\n",
    "\n",
    "if (results.pvalue < alpha):\n",
    "        print(\"We reject the null hypothesis and the Share of external calls for effective and ineffective operators is not the same\")\n",
    "else:\n",
    "        print(\"We can't reject the null hypothesis therefore we can't say that the Share of external calls for effective and ineffective operators is different\") "
   ]
  },
  {
   "cell_type": "markdown",
   "metadata": {},
   "source": [
    "## Share of incoming and outgoing calls are the same for effective and ineffective operators "
   ]
  },
  {
   "cell_type": "markdown",
   "metadata": {},
   "source": [
    "lets check if our data is distributed normally and for that we will use shapiro Test.\n",
    "\n",
    "we will test both datasets and our hypothesises will be:\n",
    "\n",
    "- H0: dataset is distributed normaly \n",
    "- H1: dataset is NOT distributed normaly  \n",
    "\n",
    "we will use a standard critical statistical significance level (alpha= 0.05)"
   ]
  },
  {
   "cell_type": "code",
   "execution_count": 98,
   "metadata": {},
   "outputs": [
    {
     "name": "stdout",
     "output_type": "stream",
     "text": [
      "p-value:  1.9685974778576768e-28\n",
      "Data does not look Normal (reject H0)\n"
     ]
    }
   ],
   "source": [
    "alpha = 0.05\n",
    "\n",
    "eff_normality = st.shapiro(effective['out_pct'])\n",
    "\n",
    "print('p-value: ', eff_normality.pvalue)\n",
    "\n",
    "if (eff_normality.pvalue > alpha):\n",
    "    print('Data looks Normal (fail to reject H0)')\n",
    "else:\n",
    "    print('Data does not look Normal (reject H0)')   "
   ]
  },
  {
   "cell_type": "code",
   "execution_count": 99,
   "metadata": {},
   "outputs": [
    {
     "name": "stdout",
     "output_type": "stream",
     "text": [
      "p-value:  2.0101004516345214e-15\n",
      "Data does not look Normal (reject H0)\n"
     ]
    }
   ],
   "source": [
    "alpha = 0.05\n",
    "\n",
    "ineff_normality = st.shapiro(ineffective['out_pct'])\n",
    "\n",
    "print('p-value: ', ineff_normality.pvalue)\n",
    "\n",
    "if (ineff_normality.pvalue > alpha):\n",
    "    print('Data looks Normal (fail to reject H0)')\n",
    "else:\n",
    "    print('Data does not look Normal (reject H0)') "
   ]
  },
  {
   "cell_type": "markdown",
   "metadata": {},
   "source": [
    "Based on the tests above we see that both of our datasets don't look normal so we will use Levene-Test to check if the variances are equal on both sets.\n",
    "\n",
    "for this this test we will be forming the following hypothesis:\n",
    "- H0: Variances are equal\n",
    "- H1: Variances are Different \n",
    "\n",
    "we will use a standard critical statistical significance level (alpha= 0.05)  \n",
    "\n",
    "- to decide which variation of the Test we will use lets take a look at the hist for both of the sets and then we will decide as follows:  \n",
    "1. median: recommended for skewed distributions.\n",
    "2. mean: recommended for symmetric, moderate-tailed distributions.\n",
    "3. trimmed: recommended for heavy-tailed distributions."
   ]
  },
  {
   "cell_type": "code",
   "execution_count": 100,
   "metadata": {
    "scrolled": false
   },
   "outputs": [
    {
     "data": {
      "image/png": "[encoded data removed]",
      "text/plain": [
       "<Figure size 864x432 with 2 Axes>"
      ]
     },
     "metadata": {
      "needs_background": "light"
     },
     "output_type": "display_data"
    }
   ],
   "source": [
    "plt.figure(figsize = (12,6));\n",
    "plt.subplot(1, 2, 1);\n",
    "fig1 = effective['out_pct'].hist(color = 'teal');\n",
    "plt.title('Share of Outgoing calls for effective Users', fontsize = 15);\n",
    "fig1.set_ylabel(\"Frequency\", fontsize=12);\n",
    "fig1.set_xlabel(\"Share of Outgoing calls\", fontsize=12);\n",
    "\n",
    "plt.subplot(1, 2, 2);\n",
    "fig2 = ineffective['out_pct'].hist(color = 'firebrick');\n",
    "plt.title('Share of outgoing calls for ineffective', fontsize = 15);\n",
    "fig2.set_ylabel(\"Frequency\", fontsize=12);\n",
    "fig2.set_xlabel(\"Share of Outgoing calls\", fontsize=12);"
   ]
  },
  {
   "cell_type": "markdown",
   "metadata": {},
   "source": [
    "Based on the Hists above we can see that both of our sets are heavy-tailed so we will use the 'trimmed' Variation "
   ]
  },
  {
   "cell_type": "code",
   "execution_count": 101,
   "metadata": {},
   "outputs": [
    {
     "name": "stdout",
     "output_type": "stream",
     "text": [
      "p-value:  1.4007084052045724e-14\n",
      "We reject the null hypothesis and the variances are different \n"
     ]
    }
   ],
   "source": [
    "alpha = 0.05\n",
    "\n",
    "variance_equality = st.levene(effective['out_pct'], ineffective['out_pct'] , center = 'trimmed')\n",
    "\n",
    "print('p-value: ', variance_equality.pvalue)\n",
    "\n",
    "if (variance_equality.pvalue < alpha):\n",
    "        print(\"We reject the null hypothesis and the variances are different \")\n",
    "else:\n",
    "        print(\"We can't reject the null hypothesis therefore the variances are equal\") "
   ]
  },
  {
   "cell_type": "markdown",
   "metadata": {},
   "source": [
    "We rejected the null hypothesis so we will consider that the variances in both datasets are not equal and now we check our main Hypothesis using Student-Test with consideration that the variances are not equal.\n",
    "\n",
    "Our hypothesis is: ***share of outgoing / incoming calls is the same for effective and ineffective operators.***\n",
    "\n",
    "for this this test we will be forming the following hypothesis:\n",
    "- H0: Share of outgoing calls for effective == Share of outgoing calls for ineffective\n",
    "- H1: Share of outgoing calls for effective != Share of outgoing calls for ineffective\n",
    "\n",
    "we will use a standard critical statistical significance level (alpha= 0.05) "
   ]
  },
  {
   "cell_type": "code",
   "execution_count": 102,
   "metadata": {
    "scrolled": false
   },
   "outputs": [
    {
     "name": "stdout",
     "output_type": "stream",
     "text": [
      "p-value:  0.6530066026596957\n",
      "We can't reject the null hypothesis therefore we can't say that the share of outgoing calls for effective and ineffective operators is different\n"
     ]
    }
   ],
   "source": [
    "alpha = 0.05\n",
    "\n",
    "results = st.ttest_ind(effective['out_pct'], ineffective['out_pct'], equal_var = False)\n",
    "\n",
    "print('p-value: ', results.pvalue)\n",
    "\n",
    "if (results.pvalue < alpha):\n",
    "        print(\"We reject the null hypothesis and the share of outgoing calls for effective and ineffective operators is not the same\")\n",
    "else:\n",
    "        print(\"We can't reject the null hypothesis therefore we can't say that the share of outgoing calls for effective and ineffective operators is different\") "
   ]
  },
  {
   "cell_type": "markdown",
   "metadata": {},
   "source": [
    "## Final Conclusions:"
   ]
  },
  {
   "cell_type": "markdown",
   "metadata": {},
   "source": [
    "- 1060 operators were included in the final data that were studied\n",
    "- Data was taken over four months but there was an obvious increase in calls in the last month\n",
    "- Average daily waiting Time is around 36 Seconds\n",
    "- Average daily missed calls is 0.09 missed call (1 missed call every 10 days)\n",
    "- Average daily number of outgoing calls is 4.36 daily calls per operator\n",
    "- Average daily number of calls (Total calls )is 4.1 daily calls per operator\n",
    "- There is no correlation between three metrics used to identify the ineffective operators (which means they are independent and will not affect each other)\n",
    "- 122 ineffective Operator were identified who make 11% of the total operators\n",
    "- Ineffective operators are split into 3 groups based on call-types:\n",
    "        A. Only outgoing calls\n",
    "        B. Only incoming calls\n",
    "        C. Both types of calls        \n",
    "- Most of the ineffective operators were from Group A with 71 operator\n",
    "- After testing there wasn't enough reason to say that the share of outgoing calls for effective and ineffective operators is different\n",
    "\n",
    "### Recommendation:\n",
    "\n",
    "- Better system for distributing tasks between operators\n",
    "- Better system for distributing calls between operators\n",
    "- Assign a minimum/maximum threshold for the relevant metrics and warn the operators who cross or close to crossing them"
   ]
  },
  {
   "cell_type": "markdown",
   "metadata": {},
   "source": [
    "##### Dashboard:  \n",
    "<https://public.tableau.com/app/profile/abdelrahman.tolaymat/viz/IneffectiveOperators/CallCountHistogram> \n",
    "<https://public.tableau.com/app/profile/abdelrahman.tolaymat/viz/IneffectiveOperators/CallCountStackedArea> \n",
    "<https://public.tableau.com/app/profile/abdelrahman.tolaymat/viz/IneffectiveOperators/CallCountBar> "
   ]
  },
  {
   "cell_type": "markdown",
   "metadata": {},
   "source": [
    "##### Documentaion:\n",
    "1. **dt_localize**: to create a time zone unaware object from an aware object \n",
    "<https://pandas.pydata.org/docs/reference/api/pandas.Series.dt.tz_localize.html> \n",
    "2. **Mask/Where**:  to assign values to a column based on condition (where: if condition is False / Mask: if Condition is True)\n",
    "<https://pandas.pydata.org/docs/reference/api/pandas.DataFrame.where.html> and <https://pandas.pydata.org/docs/reference/api/pandas.DataFrame.mask.html#pandas.DataFrame.mask>\n",
    "3. **plt.savefig**: how to save the graphs as files to used them in the presentaion (with transparent background)\n",
    "<https://www.marsja.se/how-to-save-a-seaborn-plot-as-a-file-e-g-png-pdf-eps-tiff/>\n",
    "4. **st.shapiro + st.levene + st.bartlett**: Normality test and which test is better in cases where data normal/not normal and when the variances are equal/ no equal\n",
    "<https://docs.scipy.org/doc/scipy/reference/generated/scipy.stats.shapiro.html#:~:text=shapiro,-scipy.stats.&text=Perform%20the%20Shapiro%2DWilk%20test,drawn%20from%20a%20normal%20distribution.> , <https://docs.scipy.org/doc/scipy/reference/generated/scipy.stats.levene.html> , <https://docs.scipy.org/doc/scipy/reference/generated/scipy.stats.bartlett.html>\n",
    "\n",
    "5. **Nullable boolean data Type**: what happens when changing the datatype of a null value\n",
    "<https://pandas.pydata.org/pandas-docs/stable/user_guide/boolean.html>\n",
    "6. **Histogram of Aggregated Values**: how to make a histogram of aggregated values in Tableau\n",
    "<https://kb.tableau.com/articles/howto/histogram-of-aggregated-values>"
   ]
  }
 ],
 "metadata": {
  "ExecuteTimeLog": [
   {
    "duration": 28787,
    "start_time": "2021-07-19T05:37:00.452Z"
   },
   {
    "duration": 1596,
    "start_time": "2021-07-19T05:37:29.242Z"
   },
   {
    "duration": 137,
    "start_time": "2021-07-19T05:37:30.842Z"
   },
   {
    "duration": 23,
    "start_time": "2021-07-19T05:37:30.982Z"
   },
   {
    "duration": 17,
    "start_time": "2021-07-19T05:37:31.007Z"
   },
   {
    "duration": 31,
    "start_time": "2021-07-19T05:37:31.026Z"
   },
   {
    "duration": 18,
    "start_time": "2021-07-19T05:37:31.060Z"
   },
   {
    "duration": 46,
    "start_time": "2021-07-19T05:37:31.084Z"
   },
   {
    "duration": 18,
    "start_time": "2021-07-19T05:37:31.155Z"
   },
   {
    "duration": 30,
    "start_time": "2021-07-19T05:37:31.176Z"
   },
   {
    "duration": 28,
    "start_time": "2021-07-19T05:37:31.208Z"
   },
   {
    "duration": 41,
    "start_time": "2021-07-19T05:37:31.238Z"
   },
   {
    "duration": 6,
    "start_time": "2021-07-19T05:37:31.282Z"
   },
   {
    "duration": 25,
    "start_time": "2021-07-19T05:37:31.291Z"
   },
   {
    "duration": 37,
    "start_time": "2021-07-19T05:37:31.318Z"
   },
   {
    "duration": 23,
    "start_time": "2021-07-19T05:37:31.358Z"
   },
   {
    "duration": 41,
    "start_time": "2021-07-19T05:37:31.384Z"
   },
   {
    "duration": 6,
    "start_time": "2021-07-19T05:37:31.454Z"
   },
   {
    "duration": 19,
    "start_time": "2021-07-19T05:37:31.463Z"
   },
   {
    "duration": 49,
    "start_time": "2021-07-19T05:37:31.485Z"
   },
   {
    "duration": 5,
    "start_time": "2021-07-19T05:37:31.537Z"
   },
   {
    "duration": 18,
    "start_time": "2021-07-19T05:37:31.555Z"
   },
   {
    "duration": 25,
    "start_time": "2021-07-19T05:37:31.579Z"
   },
   {
    "duration": 10,
    "start_time": "2021-07-19T05:37:31.608Z"
   },
   {
    "duration": 34,
    "start_time": "2021-07-19T05:37:31.620Z"
   },
   {
    "duration": 28,
    "start_time": "2021-07-19T05:37:31.656Z"
   },
   {
    "duration": 18,
    "start_time": "2021-07-19T05:37:31.687Z"
   },
   {
    "duration": 26,
    "start_time": "2021-07-19T05:37:31.707Z"
   },
   {
    "duration": 49584,
    "start_time": "2021-07-19T05:37:31.736Z"
   },
   {
    "duration": 51,
    "start_time": "2021-07-19T05:38:21.322Z"
   },
   {
    "duration": 14,
    "start_time": "2021-07-19T05:38:21.377Z"
   },
   {
    "duration": 19,
    "start_time": "2021-07-19T05:38:21.393Z"
   },
   {
    "duration": 61,
    "start_time": "2021-07-19T05:38:21.415Z"
   },
   {
    "duration": 15,
    "start_time": "2021-07-19T05:38:21.478Z"
   },
   {
    "duration": 2634,
    "start_time": "2021-07-19T05:38:21.496Z"
   },
   {
    "duration": 5,
    "start_time": "2021-07-19T05:38:24.133Z"
   },
   {
    "duration": 19,
    "start_time": "2021-07-19T05:38:24.141Z"
   },
   {
    "duration": 29,
    "start_time": "2021-07-19T05:38:24.163Z"
   },
   {
    "duration": 6,
    "start_time": "2021-07-19T05:38:24.195Z"
   },
   {
    "duration": 62,
    "start_time": "2021-07-19T05:38:24.204Z"
   },
   {
    "duration": 6,
    "start_time": "2021-07-19T05:38:24.269Z"
   },
   {
    "duration": 23,
    "start_time": "2021-07-19T05:38:24.278Z"
   },
   {
    "duration": 12,
    "start_time": "2021-07-19T05:38:24.304Z"
   },
   {
    "duration": 44,
    "start_time": "2021-07-19T05:38:24.318Z"
   },
   {
    "duration": 523,
    "start_time": "2021-07-19T05:38:24.364Z"
   },
   {
    "duration": 10,
    "start_time": "2021-07-19T05:38:24.890Z"
   },
   {
    "duration": 32,
    "start_time": "2021-07-19T05:38:24.903Z"
   },
   {
    "duration": 70,
    "start_time": "2021-07-19T05:38:24.939Z"
   },
   {
    "duration": 241,
    "start_time": "2021-07-19T05:38:25.013Z"
   },
   {
    "duration": 15,
    "start_time": "2021-07-19T05:38:25.256Z"
   },
   {
    "duration": 28,
    "start_time": "2021-07-19T05:38:25.274Z"
   },
   {
    "duration": 250,
    "start_time": "2021-07-19T05:38:25.304Z"
   },
   {
    "duration": 12,
    "start_time": "2021-07-19T05:38:25.557Z"
   },
   {
    "duration": 51,
    "start_time": "2021-07-19T05:38:25.572Z"
   },
   {
    "duration": 55,
    "start_time": "2021-07-19T05:38:25.626Z"
   },
   {
    "duration": 24,
    "start_time": "2021-07-19T05:38:25.685Z"
   },
   {
    "duration": 45,
    "start_time": "2021-07-19T05:38:25.712Z"
   },
   {
    "duration": 394,
    "start_time": "2021-07-19T05:38:25.760Z"
   },
   {
    "duration": 12,
    "start_time": "2021-07-19T05:38:26.157Z"
   },
   {
    "duration": 390,
    "start_time": "2021-07-19T05:38:26.172Z"
   },
   {
    "duration": 20,
    "start_time": "2021-07-19T05:38:26.565Z"
   },
   {
    "duration": 11,
    "start_time": "2021-07-19T05:38:26.588Z"
   },
   {
    "duration": 415,
    "start_time": "2021-07-19T05:38:26.601Z"
   },
   {
    "duration": 39,
    "start_time": "2021-07-19T05:38:27.019Z"
   },
   {
    "duration": 9,
    "start_time": "2021-07-19T05:38:27.061Z"
   },
   {
    "duration": 398,
    "start_time": "2021-07-19T05:38:27.073Z"
   },
   {
    "duration": 11,
    "start_time": "2021-07-19T05:38:27.474Z"
   },
   {
    "duration": 410,
    "start_time": "2021-07-19T05:38:27.493Z"
   },
   {
    "duration": 47,
    "start_time": "2021-07-19T05:38:27.907Z"
   },
   {
    "duration": 1575,
    "start_time": "2021-07-19T05:38:27.957Z"
   },
   {
    "duration": 678,
    "start_time": "2021-07-19T05:38:29.535Z"
   },
   {
    "duration": 25,
    "start_time": "2021-07-19T05:38:30.215Z"
   },
   {
    "duration": 832,
    "start_time": "2021-07-19T05:38:30.254Z"
   },
   {
    "duration": 27,
    "start_time": "2021-07-19T05:38:31.088Z"
   },
   {
    "duration": 36,
    "start_time": "2021-07-19T05:38:31.118Z"
   },
   {
    "duration": 29,
    "start_time": "2021-07-19T05:38:31.157Z"
   },
   {
    "duration": 40,
    "start_time": "2021-07-19T05:38:31.189Z"
   },
   {
    "duration": 44,
    "start_time": "2021-07-19T05:38:31.231Z"
   },
   {
    "duration": 16,
    "start_time": "2021-07-19T05:38:31.278Z"
   },
   {
    "duration": 50,
    "start_time": "2021-07-19T05:38:31.297Z"
   },
   {
    "duration": 7,
    "start_time": "2021-07-19T05:38:31.350Z"
   },
   {
    "duration": 33,
    "start_time": "2021-07-19T05:38:31.360Z"
   },
   {
    "duration": 15,
    "start_time": "2021-07-19T05:38:31.396Z"
   },
   {
    "duration": 11,
    "start_time": "2021-07-19T05:38:31.414Z"
   },
   {
    "duration": 32,
    "start_time": "2021-07-19T05:38:31.427Z"
   },
   {
    "duration": 28,
    "start_time": "2021-07-19T05:38:31.461Z"
   },
   {
    "duration": 24,
    "start_time": "2021-07-19T05:38:31.491Z"
   },
   {
    "duration": 12,
    "start_time": "2021-07-19T05:38:31.517Z"
   },
   {
    "duration": 27,
    "start_time": "2021-07-19T05:38:31.532Z"
   },
   {
    "duration": 9,
    "start_time": "2021-07-19T05:38:31.561Z"
   },
   {
    "duration": 18,
    "start_time": "2021-07-19T05:38:31.574Z"
   },
   {
    "duration": 22,
    "start_time": "2021-07-19T05:38:31.595Z"
   },
   {
    "duration": 20,
    "start_time": "2021-07-19T05:38:31.619Z"
   },
   {
    "duration": 17,
    "start_time": "2021-07-19T05:38:31.642Z"
   },
   {
    "duration": 1376,
    "start_time": "2021-07-19T05:38:31.662Z"
   },
   {
    "duration": 14,
    "start_time": "2021-07-19T05:38:33.041Z"
   },
   {
    "duration": 9,
    "start_time": "2021-07-19T05:38:33.057Z"
   },
   {
    "duration": 9,
    "start_time": "2021-07-19T05:38:33.068Z"
   },
   {
    "duration": 7,
    "start_time": "2021-07-19T05:38:33.079Z"
   },
   {
    "duration": 637,
    "start_time": "2021-07-19T05:38:33.088Z"
   },
   {
    "duration": 9,
    "start_time": "2021-07-19T05:38:33.729Z"
   },
   {
    "duration": 20,
    "start_time": "2021-07-19T05:38:33.740Z"
   },
   {
    "duration": 20,
    "start_time": "2021-07-19T05:53:20.735Z"
   },
   {
    "duration": 33,
    "start_time": "2021-07-19T05:53:21.505Z"
   },
   {
    "duration": 17,
    "start_time": "2021-07-19T05:53:22.621Z"
   },
   {
    "duration": 1845,
    "start_time": "2021-07-19T05:53:23.095Z"
   },
   {
    "duration": 14,
    "start_time": "2021-07-19T05:53:24.942Z"
   },
   {
    "duration": 16,
    "start_time": "2021-07-19T05:53:31.031Z"
   },
   {
    "duration": 30,
    "start_time": "2021-07-19T05:53:32.432Z"
   },
   {
    "duration": 16,
    "start_time": "2021-07-19T05:53:33.473Z"
   },
   {
    "duration": 1728,
    "start_time": "2021-07-19T05:53:33.991Z"
   },
   {
    "duration": 5,
    "start_time": "2021-07-19T05:53:35.722Z"
   },
   {
    "duration": 12037,
    "start_time": "2021-07-19T07:05:28.606Z"
   },
   {
    "duration": 1568,
    "start_time": "2021-07-19T07:05:40.646Z"
   },
   {
    "duration": 95,
    "start_time": "2021-07-19T07:05:42.218Z"
   },
   {
    "duration": 22,
    "start_time": "2021-07-19T07:05:42.316Z"
   },
   {
    "duration": 27,
    "start_time": "2021-07-19T07:05:42.341Z"
   },
   {
    "duration": 17,
    "start_time": "2021-07-19T07:05:42.371Z"
   },
   {
    "duration": 19,
    "start_time": "2021-07-19T07:05:42.390Z"
   },
   {
    "duration": 72,
    "start_time": "2021-07-19T07:05:42.415Z"
   },
   {
    "duration": 16,
    "start_time": "2021-07-19T07:05:42.491Z"
   },
   {
    "duration": 48,
    "start_time": "2021-07-19T07:05:42.510Z"
   },
   {
    "duration": 13,
    "start_time": "2021-07-19T07:05:42.560Z"
   },
   {
    "duration": 32,
    "start_time": "2021-07-19T07:05:42.576Z"
   },
   {
    "duration": 6,
    "start_time": "2021-07-19T07:05:42.610Z"
   },
   {
    "duration": 7,
    "start_time": "2021-07-19T07:05:42.618Z"
   },
   {
    "duration": 48,
    "start_time": "2021-07-19T07:05:42.628Z"
   },
   {
    "duration": 24,
    "start_time": "2021-07-19T07:05:42.679Z"
   },
   {
    "duration": 63,
    "start_time": "2021-07-19T07:05:42.705Z"
   },
   {
    "duration": 5,
    "start_time": "2021-07-19T07:05:42.771Z"
   },
   {
    "duration": 11,
    "start_time": "2021-07-19T07:05:42.778Z"
   },
   {
    "duration": 32,
    "start_time": "2021-07-19T07:05:42.791Z"
   },
   {
    "duration": 30,
    "start_time": "2021-07-19T07:05:42.826Z"
   },
   {
    "duration": 13,
    "start_time": "2021-07-19T07:05:42.860Z"
   },
   {
    "duration": 8,
    "start_time": "2021-07-19T07:05:42.883Z"
   },
   {
    "duration": 14,
    "start_time": "2021-07-19T07:05:42.895Z"
   },
   {
    "duration": 45,
    "start_time": "2021-07-19T07:05:42.911Z"
   },
   {
    "duration": 25,
    "start_time": "2021-07-19T07:05:42.958Z"
   },
   {
    "duration": 11,
    "start_time": "2021-07-19T07:05:42.986Z"
   },
   {
    "duration": 10,
    "start_time": "2021-07-19T07:05:43.000Z"
   },
   {
    "duration": 49873,
    "start_time": "2021-07-19T07:05:43.013Z"
   },
   {
    "duration": 32,
    "start_time": "2021-07-19T07:06:32.889Z"
   },
   {
    "duration": 11,
    "start_time": "2021-07-19T07:06:32.924Z"
   },
   {
    "duration": 19,
    "start_time": "2021-07-19T07:06:32.955Z"
   },
   {
    "duration": 32,
    "start_time": "2021-07-19T07:06:32.976Z"
   },
   {
    "duration": 45,
    "start_time": "2021-07-19T07:06:33.011Z"
   },
   {
    "duration": 2588,
    "start_time": "2021-07-19T07:06:33.059Z"
   },
   {
    "duration": 8,
    "start_time": "2021-07-19T07:06:35.649Z"
   },
   {
    "duration": 16,
    "start_time": "2021-07-19T07:06:35.659Z"
   },
   {
    "duration": 21,
    "start_time": "2021-07-19T07:06:35.678Z"
   },
   {
    "duration": 6,
    "start_time": "2021-07-19T07:06:35.702Z"
   },
   {
    "duration": 58,
    "start_time": "2021-07-19T07:06:35.710Z"
   },
   {
    "duration": 6,
    "start_time": "2021-07-19T07:06:35.770Z"
   },
   {
    "duration": 21,
    "start_time": "2021-07-19T07:06:35.778Z"
   },
   {
    "duration": 12,
    "start_time": "2021-07-19T07:06:35.802Z"
   },
   {
    "duration": 45,
    "start_time": "2021-07-19T07:06:35.817Z"
   },
   {
    "duration": 398,
    "start_time": "2021-07-19T07:06:35.864Z"
   },
   {
    "duration": 6,
    "start_time": "2021-07-19T07:06:36.264Z"
   },
   {
    "duration": 20,
    "start_time": "2021-07-19T07:06:36.272Z"
   },
   {
    "duration": 30,
    "start_time": "2021-07-19T07:06:36.294Z"
   },
   {
    "duration": 178,
    "start_time": "2021-07-19T07:06:36.327Z"
   },
   {
    "duration": 15,
    "start_time": "2021-07-19T07:06:36.508Z"
   },
   {
    "duration": 39,
    "start_time": "2021-07-19T07:06:36.525Z"
   },
   {
    "duration": 239,
    "start_time": "2021-07-19T07:06:36.567Z"
   },
   {
    "duration": 13,
    "start_time": "2021-07-19T07:06:36.808Z"
   },
   {
    "duration": 83,
    "start_time": "2021-07-19T07:06:36.823Z"
   },
   {
    "duration": 31,
    "start_time": "2021-07-19T07:06:36.908Z"
   },
   {
    "duration": 33,
    "start_time": "2021-07-19T07:06:36.941Z"
   },
   {
    "duration": 10,
    "start_time": "2021-07-19T07:06:36.977Z"
   },
   {
    "duration": 397,
    "start_time": "2021-07-19T07:06:36.990Z"
   },
   {
    "duration": 13,
    "start_time": "2021-07-19T07:06:37.390Z"
   },
   {
    "duration": 382,
    "start_time": "2021-07-19T07:06:37.406Z"
   },
   {
    "duration": 20,
    "start_time": "2021-07-19T07:06:37.791Z"
   },
   {
    "duration": 13,
    "start_time": "2021-07-19T07:06:37.813Z"
   },
   {
    "duration": 403,
    "start_time": "2021-07-19T07:06:37.854Z"
   },
   {
    "duration": 28,
    "start_time": "2021-07-19T07:06:38.261Z"
   },
   {
    "duration": 10,
    "start_time": "2021-07-19T07:06:38.291Z"
   },
   {
    "duration": 410,
    "start_time": "2021-07-19T07:06:38.303Z"
   },
   {
    "duration": 10,
    "start_time": "2021-07-19T07:06:38.715Z"
   },
   {
    "duration": 389,
    "start_time": "2021-07-19T07:06:38.733Z"
   },
   {
    "duration": 51,
    "start_time": "2021-07-19T07:06:39.125Z"
   },
   {
    "duration": 1615,
    "start_time": "2021-07-19T07:06:39.178Z"
   },
   {
    "duration": 681,
    "start_time": "2021-07-19T07:06:40.795Z"
   },
   {
    "duration": 25,
    "start_time": "2021-07-19T07:06:41.479Z"
   },
   {
    "duration": 28181,
    "start_time": "2021-07-19T21:16:57.272Z"
   },
   {
    "duration": 1647,
    "start_time": "2021-07-19T21:17:25.456Z"
   },
   {
    "duration": 93,
    "start_time": "2021-07-19T21:17:27.106Z"
   },
   {
    "duration": 22,
    "start_time": "2021-07-19T21:17:27.202Z"
   },
   {
    "duration": 16,
    "start_time": "2021-07-19T21:17:27.226Z"
   },
   {
    "duration": 40,
    "start_time": "2021-07-19T21:17:27.245Z"
   },
   {
    "duration": 15,
    "start_time": "2021-07-19T21:17:27.288Z"
   },
   {
    "duration": 32,
    "start_time": "2021-07-19T21:17:27.307Z"
   },
   {
    "duration": 43,
    "start_time": "2021-07-19T21:17:27.341Z"
   },
   {
    "duration": 17,
    "start_time": "2021-07-19T21:17:27.387Z"
   },
   {
    "duration": 5,
    "start_time": "2021-07-19T21:17:27.406Z"
   },
   {
    "duration": 28,
    "start_time": "2021-07-19T21:17:27.413Z"
   },
   {
    "duration": 6,
    "start_time": "2021-07-19T21:17:27.443Z"
   },
   {
    "duration": 7,
    "start_time": "2021-07-19T21:17:27.487Z"
   },
   {
    "duration": 28,
    "start_time": "2021-07-19T21:17:27.497Z"
   },
   {
    "duration": 24,
    "start_time": "2021-07-19T21:17:27.527Z"
   },
   {
    "duration": 70,
    "start_time": "2021-07-19T21:17:27.553Z"
   },
   {
    "duration": 6,
    "start_time": "2021-07-19T21:17:27.626Z"
   },
   {
    "duration": 10,
    "start_time": "2021-07-19T21:17:27.634Z"
   },
   {
    "duration": 64,
    "start_time": "2021-07-19T21:17:27.646Z"
   },
   {
    "duration": 5,
    "start_time": "2021-07-19T21:17:27.712Z"
   },
   {
    "duration": 12,
    "start_time": "2021-07-19T21:17:27.719Z"
   },
   {
    "duration": 7,
    "start_time": "2021-07-19T21:17:27.737Z"
   },
   {
    "duration": 43,
    "start_time": "2021-07-19T21:17:27.747Z"
   },
   {
    "duration": 9,
    "start_time": "2021-07-19T21:17:27.792Z"
   },
   {
    "duration": 18,
    "start_time": "2021-07-19T21:17:27.804Z"
   },
   {
    "duration": 14,
    "start_time": "2021-07-19T21:17:27.825Z"
   },
   {
    "duration": 47,
    "start_time": "2021-07-19T21:17:27.841Z"
   },
   {
    "duration": 51409,
    "start_time": "2021-07-19T21:17:27.891Z"
   },
   {
    "duration": 32,
    "start_time": "2021-07-19T21:18:19.303Z"
   },
   {
    "duration": 11,
    "start_time": "2021-07-19T21:18:19.338Z"
   },
   {
    "duration": 48,
    "start_time": "2021-07-19T21:18:19.351Z"
   },
   {
    "duration": 30,
    "start_time": "2021-07-19T21:18:19.401Z"
   },
   {
    "duration": 15,
    "start_time": "2021-07-19T21:18:19.434Z"
   },
   {
    "duration": 2778,
    "start_time": "2021-07-19T21:18:19.451Z"
   },
   {
    "duration": 5,
    "start_time": "2021-07-19T21:18:22.231Z"
   },
   {
    "duration": 9,
    "start_time": "2021-07-19T21:18:22.238Z"
   },
   {
    "duration": 48,
    "start_time": "2021-07-19T21:18:22.249Z"
   },
   {
    "duration": 5,
    "start_time": "2021-07-19T21:18:22.299Z"
   },
   {
    "duration": 24,
    "start_time": "2021-07-19T21:18:22.307Z"
   },
   {
    "duration": 5,
    "start_time": "2021-07-19T21:18:22.333Z"
   },
   {
    "duration": 47,
    "start_time": "2021-07-19T21:18:22.340Z"
   },
   {
    "duration": 13,
    "start_time": "2021-07-19T21:18:22.390Z"
   },
   {
    "duration": 15,
    "start_time": "2021-07-19T21:18:22.405Z"
   },
   {
    "duration": 421,
    "start_time": "2021-07-19T21:18:22.423Z"
   },
   {
    "duration": 5,
    "start_time": "2021-07-19T21:18:22.846Z"
   },
   {
    "duration": 9,
    "start_time": "2021-07-19T21:18:22.854Z"
   },
   {
    "duration": 29,
    "start_time": "2021-07-19T21:18:22.866Z"
   },
   {
    "duration": 189,
    "start_time": "2021-07-19T21:18:22.898Z"
   },
   {
    "duration": 16,
    "start_time": "2021-07-19T21:18:23.089Z"
   },
   {
    "duration": 27,
    "start_time": "2021-07-19T21:18:23.108Z"
   },
   {
    "duration": 254,
    "start_time": "2021-07-19T21:18:23.137Z"
   },
   {
    "duration": 12,
    "start_time": "2021-07-19T21:18:23.394Z"
   },
   {
    "duration": 55,
    "start_time": "2021-07-19T21:18:23.409Z"
   },
   {
    "duration": 46,
    "start_time": "2021-07-19T21:18:23.467Z"
   },
   {
    "duration": 23,
    "start_time": "2021-07-19T21:18:23.515Z"
   },
   {
    "duration": 11,
    "start_time": "2021-07-19T21:18:23.540Z"
   },
   {
    "duration": 425,
    "start_time": "2021-07-19T21:18:23.553Z"
   },
   {
    "duration": 11,
    "start_time": "2021-07-19T21:18:23.985Z"
   },
   {
    "duration": 387,
    "start_time": "2021-07-19T21:18:23.998Z"
   },
   {
    "duration": 19,
    "start_time": "2021-07-19T21:18:24.387Z"
   },
   {
    "duration": 10,
    "start_time": "2021-07-19T21:18:24.408Z"
   },
   {
    "duration": 424,
    "start_time": "2021-07-19T21:18:24.421Z"
   },
   {
    "duration": 38,
    "start_time": "2021-07-19T21:18:24.847Z"
   },
   {
    "duration": 11,
    "start_time": "2021-07-19T21:18:24.887Z"
   },
   {
    "duration": 432,
    "start_time": "2021-07-19T21:18:24.900Z"
   },
   {
    "duration": 10,
    "start_time": "2021-07-19T21:18:25.335Z"
   },
   {
    "duration": 396,
    "start_time": "2021-07-19T21:18:25.353Z"
   },
   {
    "duration": 52,
    "start_time": "2021-07-19T21:18:25.752Z"
   },
   {
    "duration": 1604,
    "start_time": "2021-07-19T21:18:25.806Z"
   },
   {
    "duration": 668,
    "start_time": "2021-07-19T21:18:27.413Z"
   },
   {
    "duration": 27,
    "start_time": "2021-07-19T21:18:28.086Z"
   },
   {
    "duration": 860,
    "start_time": "2021-07-19T21:18:28.116Z"
   },
   {
    "duration": 27,
    "start_time": "2021-07-19T21:18:28.986Z"
   },
   {
    "duration": 9,
    "start_time": "2021-07-19T21:18:29.016Z"
   },
   {
    "duration": 57,
    "start_time": "2021-07-19T21:18:29.028Z"
   },
   {
    "duration": 28,
    "start_time": "2021-07-19T21:18:29.088Z"
   },
   {
    "duration": 27,
    "start_time": "2021-07-19T21:18:29.119Z"
   },
   {
    "duration": 6,
    "start_time": "2021-07-19T21:18:29.149Z"
   },
   {
    "duration": 29,
    "start_time": "2021-07-19T21:18:29.187Z"
   },
   {
    "duration": 7,
    "start_time": "2021-07-19T21:18:29.219Z"
   },
   {
    "duration": 63,
    "start_time": "2021-07-19T21:18:29.229Z"
   },
   {
    "duration": 7,
    "start_time": "2021-07-19T21:18:29.295Z"
   },
   {
    "duration": 5,
    "start_time": "2021-07-19T21:18:29.304Z"
   },
   {
    "duration": 13,
    "start_time": "2021-07-19T21:18:29.312Z"
   },
   {
    "duration": 19,
    "start_time": "2021-07-19T21:18:29.328Z"
   },
   {
    "duration": 52,
    "start_time": "2021-07-19T21:18:29.349Z"
   },
   {
    "duration": 7,
    "start_time": "2021-07-19T21:18:29.403Z"
   },
   {
    "duration": 7,
    "start_time": "2021-07-19T21:18:29.412Z"
   },
   {
    "duration": 6,
    "start_time": "2021-07-19T21:18:29.421Z"
   },
   {
    "duration": 56,
    "start_time": "2021-07-19T21:18:29.430Z"
   },
   {
    "duration": 14,
    "start_time": "2021-07-19T21:18:29.489Z"
   },
   {
    "duration": 8,
    "start_time": "2021-07-19T21:18:29.505Z"
   },
   {
    "duration": 8,
    "start_time": "2021-07-19T21:18:29.516Z"
   },
   {
    "duration": 1363,
    "start_time": "2021-07-19T21:18:29.526Z"
   },
   {
    "duration": 9,
    "start_time": "2021-07-19T21:18:30.892Z"
   },
   {
    "duration": 11,
    "start_time": "2021-07-19T21:18:30.904Z"
   },
   {
    "duration": 17,
    "start_time": "2021-07-19T21:18:30.918Z"
   },
   {
    "duration": 11,
    "start_time": "2021-07-19T21:18:30.938Z"
   },
   {
    "duration": 644,
    "start_time": "2021-07-19T21:18:30.985Z"
   },
   {
    "duration": 7,
    "start_time": "2021-07-19T21:18:31.631Z"
   },
   {
    "duration": 26,
    "start_time": "2021-07-19T21:18:31.640Z"
   }
  ],
  "kernelspec": {
   "display_name": "Python 3",
   "language": "python",
   "name": "python3"
  },
  "language_info": {
   "codemirror_mode": {
    "name": "ipython",
    "version": 3
   },
   "file_extension": ".py",
   "mimetype": "text/x-python",
   "name": "python",
   "nbconvert_exporter": "python",
   "pygments_lexer": "ipython3",
   "version": "3.8.5"
  },
  "toc": {
   "base_numbering": 1,
   "nav_menu": {},
   "number_sections": true,
   "sideBar": true,
   "skip_h1_title": true,
   "title_cell": "Table of Contents",
   "title_sidebar": "Contents",
   "toc_cell": false,
   "toc_position": {},
   "toc_section_display": true,
   "toc_window_display": false
  }
 },
 "nbformat": 4,
 "nbformat_minor": 4
}
